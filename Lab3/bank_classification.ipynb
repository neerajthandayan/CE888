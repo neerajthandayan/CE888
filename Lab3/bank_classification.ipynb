{
  "nbformat": 4,
  "nbformat_minor": 0,
  "metadata": {
    "colab": {
      "name": " bank_classification.ipynb",
      "provenance": [],
      "toc_visible": true,
      "authorship_tag": "ABX9TyN0Dde+8lRBCLGls1a8/9Cc",
      "include_colab_link": true
    },
    "kernelspec": {
      "name": "python3",
      "display_name": "Python 3"
    },
    "language_info": {
      "name": "python"
    },
    "accelerator": "GPU"
  },
  "cells": [
    {
      "cell_type": "markdown",
      "metadata": {
        "id": "view-in-github",
        "colab_type": "text"
      },
      "source": [
        "<a href=\"https://colab.research.google.com/github/neerajthandayan/Misc./blob/main/bank_classification.ipynb\" target=\"_parent\"><img src=\"https://colab.research.google.com/assets/colab-badge.svg\" alt=\"Open In Colab\"/></a>"
      ]
    },
    {
      "cell_type": "markdown",
      "metadata": {
        "id": "OmLcH-MRZm-Y"
      },
      "source": [
        "# Bank Data Classifier"
      ]
    },
    {
      "cell_type": "markdown",
      "metadata": {
        "id": "ImMker5yZoRh"
      },
      "source": [
        "## Importing Libraries & Loading Data"
      ]
    },
    {
      "cell_type": "code",
      "metadata": {
        "id": "Dnw029U_SGUD"
      },
      "source": [
        "# Importing Libraries \n",
        "\n",
        "import pandas as pd\n",
        "import numpy as np\n",
        "from sklearn.preprocessing import LabelEncoder\n",
        "import matplotlib.pyplot as plt\n",
        "import seaborn as sns\n",
        "from sklearn.model_selection import train_test_split, cross_validate, GridSearchCV\n",
        "from sklearn.ensemble import ExtraTreesClassifier\n",
        "from sklearn.dummy import DummyClassifier\n",
        "from sklearn import metrics"
      ],
      "execution_count": 1,
      "outputs": []
    },
    {
      "cell_type": "code",
      "metadata": {
        "colab": {
          "base_uri": "https://localhost:8080/",
          "height": 215
        },
        "id": "CfnnpSL7S39J",
        "outputId": "68a88894-1b34-4fcb-a472-b5101ff8d04a"
      },
      "source": [
        "# Loading Data\n",
        "\n",
        "data = pd.read_csv('https://raw.githubusercontent.com/neerajthandayan/Misc./main/Lab_3/bank-additional-full.csv',delimiter=';')\n",
        "data.drop(columns='duration',inplace=True)\n",
        "data.head(5)"
      ],
      "execution_count": 17,
      "outputs": [
        {
          "output_type": "execute_result",
          "data": {
            "text/html": [
              "<div>\n",
              "<style scoped>\n",
              "    .dataframe tbody tr th:only-of-type {\n",
              "        vertical-align: middle;\n",
              "    }\n",
              "\n",
              "    .dataframe tbody tr th {\n",
              "        vertical-align: top;\n",
              "    }\n",
              "\n",
              "    .dataframe thead th {\n",
              "        text-align: right;\n",
              "    }\n",
              "</style>\n",
              "<table border=\"1\" class=\"dataframe\">\n",
              "  <thead>\n",
              "    <tr style=\"text-align: right;\">\n",
              "      <th></th>\n",
              "      <th>age</th>\n",
              "      <th>job</th>\n",
              "      <th>marital</th>\n",
              "      <th>education</th>\n",
              "      <th>default</th>\n",
              "      <th>housing</th>\n",
              "      <th>loan</th>\n",
              "      <th>contact</th>\n",
              "      <th>month</th>\n",
              "      <th>day_of_week</th>\n",
              "      <th>campaign</th>\n",
              "      <th>pdays</th>\n",
              "      <th>previous</th>\n",
              "      <th>poutcome</th>\n",
              "      <th>emp.var.rate</th>\n",
              "      <th>cons.price.idx</th>\n",
              "      <th>cons.conf.idx</th>\n",
              "      <th>euribor3m</th>\n",
              "      <th>nr.employed</th>\n",
              "      <th>y</th>\n",
              "    </tr>\n",
              "  </thead>\n",
              "  <tbody>\n",
              "    <tr>\n",
              "      <th>0</th>\n",
              "      <td>56</td>\n",
              "      <td>housemaid</td>\n",
              "      <td>married</td>\n",
              "      <td>basic.4y</td>\n",
              "      <td>no</td>\n",
              "      <td>no</td>\n",
              "      <td>no</td>\n",
              "      <td>telephone</td>\n",
              "      <td>may</td>\n",
              "      <td>mon</td>\n",
              "      <td>1</td>\n",
              "      <td>999</td>\n",
              "      <td>0</td>\n",
              "      <td>nonexistent</td>\n",
              "      <td>1.1</td>\n",
              "      <td>93.994</td>\n",
              "      <td>-36.4</td>\n",
              "      <td>4.857</td>\n",
              "      <td>5191.0</td>\n",
              "      <td>no</td>\n",
              "    </tr>\n",
              "    <tr>\n",
              "      <th>1</th>\n",
              "      <td>57</td>\n",
              "      <td>services</td>\n",
              "      <td>married</td>\n",
              "      <td>high.school</td>\n",
              "      <td>unknown</td>\n",
              "      <td>no</td>\n",
              "      <td>no</td>\n",
              "      <td>telephone</td>\n",
              "      <td>may</td>\n",
              "      <td>mon</td>\n",
              "      <td>1</td>\n",
              "      <td>999</td>\n",
              "      <td>0</td>\n",
              "      <td>nonexistent</td>\n",
              "      <td>1.1</td>\n",
              "      <td>93.994</td>\n",
              "      <td>-36.4</td>\n",
              "      <td>4.857</td>\n",
              "      <td>5191.0</td>\n",
              "      <td>no</td>\n",
              "    </tr>\n",
              "    <tr>\n",
              "      <th>2</th>\n",
              "      <td>37</td>\n",
              "      <td>services</td>\n",
              "      <td>married</td>\n",
              "      <td>high.school</td>\n",
              "      <td>no</td>\n",
              "      <td>yes</td>\n",
              "      <td>no</td>\n",
              "      <td>telephone</td>\n",
              "      <td>may</td>\n",
              "      <td>mon</td>\n",
              "      <td>1</td>\n",
              "      <td>999</td>\n",
              "      <td>0</td>\n",
              "      <td>nonexistent</td>\n",
              "      <td>1.1</td>\n",
              "      <td>93.994</td>\n",
              "      <td>-36.4</td>\n",
              "      <td>4.857</td>\n",
              "      <td>5191.0</td>\n",
              "      <td>no</td>\n",
              "    </tr>\n",
              "    <tr>\n",
              "      <th>3</th>\n",
              "      <td>40</td>\n",
              "      <td>admin.</td>\n",
              "      <td>married</td>\n",
              "      <td>basic.6y</td>\n",
              "      <td>no</td>\n",
              "      <td>no</td>\n",
              "      <td>no</td>\n",
              "      <td>telephone</td>\n",
              "      <td>may</td>\n",
              "      <td>mon</td>\n",
              "      <td>1</td>\n",
              "      <td>999</td>\n",
              "      <td>0</td>\n",
              "      <td>nonexistent</td>\n",
              "      <td>1.1</td>\n",
              "      <td>93.994</td>\n",
              "      <td>-36.4</td>\n",
              "      <td>4.857</td>\n",
              "      <td>5191.0</td>\n",
              "      <td>no</td>\n",
              "    </tr>\n",
              "    <tr>\n",
              "      <th>4</th>\n",
              "      <td>56</td>\n",
              "      <td>services</td>\n",
              "      <td>married</td>\n",
              "      <td>high.school</td>\n",
              "      <td>no</td>\n",
              "      <td>no</td>\n",
              "      <td>yes</td>\n",
              "      <td>telephone</td>\n",
              "      <td>may</td>\n",
              "      <td>mon</td>\n",
              "      <td>1</td>\n",
              "      <td>999</td>\n",
              "      <td>0</td>\n",
              "      <td>nonexistent</td>\n",
              "      <td>1.1</td>\n",
              "      <td>93.994</td>\n",
              "      <td>-36.4</td>\n",
              "      <td>4.857</td>\n",
              "      <td>5191.0</td>\n",
              "      <td>no</td>\n",
              "    </tr>\n",
              "  </tbody>\n",
              "</table>\n",
              "</div>"
            ],
            "text/plain": [
              "   age        job  marital  ... euribor3m nr.employed   y\n",
              "0   56  housemaid  married  ...     4.857      5191.0  no\n",
              "1   57   services  married  ...     4.857      5191.0  no\n",
              "2   37   services  married  ...     4.857      5191.0  no\n",
              "3   40     admin.  married  ...     4.857      5191.0  no\n",
              "4   56   services  married  ...     4.857      5191.0  no\n",
              "\n",
              "[5 rows x 20 columns]"
            ]
          },
          "metadata": {
            "tags": []
          },
          "execution_count": 17
        }
      ]
    },
    {
      "cell_type": "markdown",
      "metadata": {
        "id": "yzd1EqX_aXVh"
      },
      "source": [
        "## Data Exploratuon & Pre-processing"
      ]
    },
    {
      "cell_type": "code",
      "metadata": {
        "colab": {
          "base_uri": "https://localhost:8080/"
        },
        "id": "5xpVyFdVWPa2",
        "outputId": "a59fa1f4-6c32-4381-adb9-49331a130c13"
      },
      "source": [
        "# Check for NaN values in Dataset\n",
        "\n",
        "print(data.isnull().values.any(),data.isnull().sum().sum())"
      ],
      "execution_count": 18,
      "outputs": [
        {
          "output_type": "stream",
          "text": [
            "False 0\n"
          ],
          "name": "stdout"
        }
      ]
    },
    {
      "cell_type": "code",
      "metadata": {
        "id": "fkyoRhx3Urhi"
      },
      "source": [
        "# OneHot Encoding X values\n",
        "\n",
        "data = pd.get_dummies(data, columns=['job','marital','default','education',\n",
        "                                           'housing','loan','contact','month',\n",
        "                                           'day_of_week','poutcome'])"
      ],
      "execution_count": 19,
      "outputs": []
    },
    {
      "cell_type": "code",
      "metadata": {
        "id": "7tteCS7VUyS0"
      },
      "source": [
        "# Label encoding depedent variable (y)\n",
        "\n",
        "le = LabelEncoder()\n",
        "data['y'] = le.fit_transform(data['y'])"
      ],
      "execution_count": 20,
      "outputs": []
    },
    {
      "cell_type": "code",
      "metadata": {
        "id": "wv6zkGMOTAr2"
      },
      "source": [
        "# Separating X and y variables\n",
        "\n",
        "b = data['y'].values\n",
        "A = data.drop(columns='y').copy().values"
      ],
      "execution_count": 21,
      "outputs": []
    },
    {
      "cell_type": "code",
      "metadata": {
        "colab": {
          "base_uri": "https://localhost:8080/",
          "height": 350
        },
        "id": "DhWRvPQpTnD4",
        "outputId": "1da900a4-e19e-4f2a-ed99-c222fe892ad9"
      },
      "source": [
        "# PLotting Histogram of Label\n",
        "\n",
        "plot = sns.countplot(data['y'])\n",
        "plot.set_xticklabels(['No','Yes'])"
      ],
      "execution_count": 22,
      "outputs": [
        {
          "output_type": "stream",
          "text": [
            "/usr/local/lib/python3.7/dist-packages/seaborn/_decorators.py:43: FutureWarning: Pass the following variable as a keyword arg: x. From version 0.12, the only valid positional argument will be `data`, and passing other arguments without an explicit keyword will result in an error or misinterpretation.\n",
            "  FutureWarning\n"
          ],
          "name": "stderr"
        },
        {
          "output_type": "execute_result",
          "data": {
            "text/plain": [
              "[Text(0, 0, 'No'), Text(0, 0, 'Yes')]"
            ]
          },
          "metadata": {
            "tags": []
          },
          "execution_count": 22
        },
        {
          "output_type": "display_data",
          "data": {
            "image/png": "[encoded data removed]",
            "text/plain": [
              "<Figure size 432x288 with 1 Axes>"
            ]
          },
          "metadata": {
            "tags": [],
            "needs_background": "light"
          }
        }
      ]
    },
    {
      "cell_type": "code",
      "metadata": {
        "colab": {
          "base_uri": "https://localhost:8080/"
        },
        "id": "9UY4jYadYs4D",
        "outputId": "d656047e-952b-487d-f1c5-3aa91b547466"
      },
      "source": [
        "# Calculating Data Imbalance\n",
        "\n",
        "cnt = np.unique(data['y'],return_counts=True)\n",
        "imbalance = cnt[1][1]/cnt[1][0]\n",
        "print(f'Dataset Imbalance: {imbalance}')"
      ],
      "execution_count": 23,
      "outputs": [
        {
          "output_type": "stream",
          "text": [
            "Dataset Imbalance: 0.126956331399803\n"
          ],
          "name": "stdout"
        }
      ]
    },
    {
      "cell_type": "code",
      "metadata": {
        "id": "L1hFAbEJZluc"
      },
      "source": [
        "# Creating Test-Train Split\n",
        "\n",
        "A_train, A_test, b_train, b_test = train_test_split(A, b, test_size=0.2, random_state=50 ,stratify=b)"
      ],
      "execution_count": 24,
      "outputs": []
    },
    {
      "cell_type": "markdown",
      "metadata": {
        "id": "psJ2PjwhkbEU"
      },
      "source": [
        "## Cross-validation & Dummy Classifier Test"
      ]
    },
    {
      "cell_type": "code",
      "metadata": {
        "id": "qD5Ft6JcbkvD"
      },
      "source": [
        "# K-Fold Cross Validation\n",
        "\n",
        "Rf = ExtraTreesClassifier(n_estimators=100, max_depth=3)\n",
        "CV_acc = cross_validate(Rf, A_train, b_train, cv=10, scoring='accuracy')\n",
        "CV_f1 = cross_validate(Rf, A_train, b_train, cv=10, scoring='f1')"
      ],
      "execution_count": 25,
      "outputs": []
    },
    {
      "cell_type": "code",
      "metadata": {
        "colab": {
          "base_uri": "https://localhost:8080/"
        },
        "id": "S1YvZlwRfm3q",
        "outputId": "53bfcc0d-e604-4e5d-e3bc-3c2f738f2279"
      },
      "source": [
        "# Cross Validation Data\n",
        "\n",
        "acc = round(CV_acc['test_score'].mean()*100,2)\n",
        "f1 = CV_f1['test_score'].mean()\n",
        "print(f'Mean Accuracy: {acc}%\\nMean F1-Score: {f1}')"
      ],
      "execution_count": 26,
      "outputs": [
        {
          "output_type": "stream",
          "text": [
            "Mean Accuracy: 89.16%\n",
            "Mean F1-Score: 0.12291575668080941\n"
          ],
          "name": "stdout"
        }
      ]
    },
    {
      "cell_type": "code",
      "metadata": {
        "colab": {
          "base_uri": "https://localhost:8080/",
          "height": 136
        },
        "id": "qmbWUcW3zpjL",
        "outputId": "fd224be6-74ff-438e-d7e2-9f751a95d512"
      },
      "source": [
        "# Running Classifier on Data\n",
        "\n",
        "Rf.fit(A_train, b_train)\n",
        "j = {'feature' : data.drop(columns='y').columns.copy(), 'importance' : Rf.feature_importances_}\n",
        "df = pd.DataFrame.from_dict(j)\n",
        "df = df.sort_values(by='importance',ascending=False)\n",
        "df.head(3)"
      ],
      "execution_count": 27,
      "outputs": [
        {
          "output_type": "execute_result",
          "data": {
            "text/html": [
              "<div>\n",
              "<style scoped>\n",
              "    .dataframe tbody tr th:only-of-type {\n",
              "        vertical-align: middle;\n",
              "    }\n",
              "\n",
              "    .dataframe tbody tr th {\n",
              "        vertical-align: top;\n",
              "    }\n",
              "\n",
              "    .dataframe thead th {\n",
              "        text-align: right;\n",
              "    }\n",
              "</style>\n",
              "<table border=\"1\" class=\"dataframe\">\n",
              "  <thead>\n",
              "    <tr style=\"text-align: right;\">\n",
              "      <th></th>\n",
              "      <th>feature</th>\n",
              "      <th>importance</th>\n",
              "    </tr>\n",
              "  </thead>\n",
              "  <tbody>\n",
              "    <tr>\n",
              "      <th>2</th>\n",
              "      <td>pdays</td>\n",
              "      <td>0.188685</td>\n",
              "    </tr>\n",
              "    <tr>\n",
              "      <th>61</th>\n",
              "      <td>poutcome_success</td>\n",
              "      <td>0.170875</td>\n",
              "    </tr>\n",
              "    <tr>\n",
              "      <th>7</th>\n",
              "      <td>euribor3m</td>\n",
              "      <td>0.126153</td>\n",
              "    </tr>\n",
              "  </tbody>\n",
              "</table>\n",
              "</div>"
            ],
            "text/plain": [
              "             feature  importance\n",
              "2              pdays    0.188685\n",
              "61  poutcome_success    0.170875\n",
              "7          euribor3m    0.126153"
            ]
          },
          "metadata": {
            "tags": []
          },
          "execution_count": 27
        }
      ]
    },
    {
      "cell_type": "code",
      "metadata": {
        "colab": {
          "base_uri": "https://localhost:8080/",
          "height": 625
        },
        "id": "E4TvD-DB3rPq",
        "outputId": "b5c95bfc-edd4-4fc9-fd5f-761b62cc526c"
      },
      "source": [
        "# Plotting Fearure Importance\n",
        "\n",
        "top10 = df.head(10)\n",
        "fig = plt.figure(figsize=(17.5,10))\n",
        "plt.title(\"Feature Importances\")\n",
        "plt.bar(top10['feature'],top10['importance'])"
      ],
      "execution_count": 28,
      "outputs": [
        {
          "output_type": "execute_result",
          "data": {
            "text/plain": [
              "<BarContainer object of 10 artists>"
            ]
          },
          "metadata": {
            "tags": []
          },
          "execution_count": 28
        },
        {
          "output_type": "display_data",
          "data": {
            "image/png": "[encoded data removed]",
            "text/plain": [
              "<Figure size 1260x720 with 1 Axes>"
            ]
          },
          "metadata": {
            "tags": [],
            "needs_background": "light"
          }
        }
      ]
    },
    {
      "cell_type": "code",
      "metadata": {
        "colab": {
          "base_uri": "https://localhost:8080/"
        },
        "id": "zBeW_V3b00Ss",
        "outputId": "187f49d1-8d11-400c-a9ae-6990ee63c4a2"
      },
      "source": [
        "# Evaluating Model\n",
        "\n",
        "ypred = Rf.predict(A_test)\n",
        "print(f'Accuracy: {round(metrics.accuracy_score(ypred,b_test)*100,2)}%\\n')\n",
        "print(metrics.confusion_matrix(ypred,b_test))"
      ],
      "execution_count": 29,
      "outputs": [
        {
          "output_type": "stream",
          "text": [
            "Accuracy: 89.15%\n",
            "\n",
            "[[7291  875]\n",
            " [  19   53]]\n"
          ],
          "name": "stdout"
        }
      ]
    },
    {
      "cell_type": "code",
      "metadata": {
        "colab": {
          "base_uri": "https://localhost:8080/"
        },
        "id": "JgDsRx6kjboz",
        "outputId": "e25fbced-3187-4026-8af8-9f10a1aa521c"
      },
      "source": [
        "# Comparing with Dummy Classifier\n",
        "\n",
        "dummy_clf = DummyClassifier(strategy='stratified')\n",
        "dummy_clf.fit(A_train, b_train)\n",
        "dummy_clf.predict(A_train)\n",
        "print(f'Dummy Classifier Accuracy: {dummy_clf.score(A_train,b_train)*100}%')"
      ],
      "execution_count": 30,
      "outputs": [
        {
          "output_type": "stream",
          "text": [
            "Dummy Classifier Accuracy: 79.97875569044007%\n"
          ],
          "name": "stdout"
        }
      ]
    },
    {
      "cell_type": "markdown",
      "metadata": {
        "id": "lST__p2akoy3"
      },
      "source": [
        "## Setting Up GridSearch"
      ]
    },
    {
      "cell_type": "code",
      "metadata": {
        "id": "LJVI9g30kmo2",
        "colab": {
          "base_uri": "https://localhost:8080/",
          "height": 229
        },
        "outputId": "08d6c958-0d7e-448d-e6cf-79a24af45a1f"
      },
      "source": [
        "estimator = RandomForestClassifier(n_estimators=100, max_depth=3)\n",
        "param_grid = {'n_estimators':[100, 500 ,1000],\n",
        "              'max_depth': [3, 9, 27]}\n",
        "\n",
        "GS_acc = GridSearchCV(estimator=estimator, param_grid=param_grid, scoring='accuracy', cv=10, n_jobs=-1)\n",
        "GS_f1 = GridSearchCV(estimator=estimator, param_grid=param_grid, scoring='f1', cv=10, n_jobs=-1)"
      ],
      "execution_count": 16,
      "outputs": [
        {
          "output_type": "error",
          "ename": "NameError",
          "evalue": "ignored",
          "traceback": [
            "\u001b[0;31m---------------------------------------------------------------------------\u001b[0m",
            "\u001b[0;31mNameError\u001b[0m                                 Traceback (most recent call last)",
            "\u001b[0;32m<ipython-input-16-3ca32c785655>\u001b[0m in \u001b[0;36m<module>\u001b[0;34m()\u001b[0m\n\u001b[0;32m----> 1\u001b[0;31m \u001b[0mestimator\u001b[0m \u001b[0;34m=\u001b[0m \u001b[0mRandomForestClassifier\u001b[0m\u001b[0;34m(\u001b[0m\u001b[0mn_estimators\u001b[0m\u001b[0;34m=\u001b[0m\u001b[0;36m100\u001b[0m\u001b[0;34m,\u001b[0m \u001b[0mmax_depth\u001b[0m\u001b[0;34m=\u001b[0m\u001b[0;36m3\u001b[0m\u001b[0;34m)\u001b[0m\u001b[0;34m\u001b[0m\u001b[0;34m\u001b[0m\u001b[0m\n\u001b[0m\u001b[1;32m      2\u001b[0m param_grid = {'n_estimators':[100, 500 ,1000],\n\u001b[1;32m      3\u001b[0m               'max_depth': [3, 9, 27]}\n\u001b[1;32m      4\u001b[0m \u001b[0;34m\u001b[0m\u001b[0m\n\u001b[1;32m      5\u001b[0m \u001b[0mGS_acc\u001b[0m \u001b[0;34m=\u001b[0m \u001b[0mGridSearchCV\u001b[0m\u001b[0;34m(\u001b[0m\u001b[0mestimator\u001b[0m\u001b[0;34m=\u001b[0m\u001b[0mestimator\u001b[0m\u001b[0;34m,\u001b[0m \u001b[0mparam_grid\u001b[0m\u001b[0;34m=\u001b[0m\u001b[0mparam_grid\u001b[0m\u001b[0;34m,\u001b[0m \u001b[0mscoring\u001b[0m\u001b[0;34m=\u001b[0m\u001b[0;34m'accuracy'\u001b[0m\u001b[0;34m,\u001b[0m \u001b[0mcv\u001b[0m\u001b[0;34m=\u001b[0m\u001b[0;36m10\u001b[0m\u001b[0;34m,\u001b[0m \u001b[0mn_jobs\u001b[0m\u001b[0;34m=\u001b[0m\u001b[0;34m-\u001b[0m\u001b[0;36m1\u001b[0m\u001b[0;34m)\u001b[0m\u001b[0;34m\u001b[0m\u001b[0;34m\u001b[0m\u001b[0m\n",
            "\u001b[0;31mNameError\u001b[0m: name 'RandomForestClassifier' is not defined"
          ]
        }
      ]
    },
    {
      "cell_type": "code",
      "metadata": {
        "id": "3hr2pCq0nsW5"
      },
      "source": [
        "# Fitting GridSearch Objects\n",
        "\n",
        "optclf_acc = GS_acc.fit(A_train, b_train)\n",
        "optclf_f1 = GS_acc.fit(A_train, b_train)"
      ],
      "execution_count": null,
      "outputs": []
    },
    {
      "cell_type": "code",
      "metadata": {
        "id": "qYSJ4yFjyjPB"
      },
      "source": [
        "optclf_acc.best_ac"
      ],
      "execution_count": null,
      "outputs": []
    },
    {
      "cell_type": "code",
      "metadata": {
        "id": "mb6v9sQfv1ux"
      },
      "source": [
        "w = {'names' : data.drop(columns='y').columns.copy(), 'weight' : optclf.best_estimator_.feature_importances_}\n",
        "df = pd.DataFrame.from_dict(w)\n",
        "df.sort_values(by='weight',ascending=False).head(3)"
      ],
      "execution_count": null,
      "outputs": []
    },
    {
      "cell_type": "code",
      "metadata": {
        "id": "vT3mCPQ8ySB6"
      },
      "source": [
        "z = {'names' : data.drop(columns='y').columns.copy(), 'weight' : optclf.best_estimator_.feature_importances_}\n",
        "df1 = pd.DataFrame.from_dict(z)\n",
        "df1.sort_values(by='weight',ascending=False).head(3)"
      ],
      "execution_count": null,
      "outputs": []
    }
  ]
}
