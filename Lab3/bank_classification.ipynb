{
  "nbformat": 4,
  "nbformat_minor": 0,
  "metadata": {
    "colab": {
      "name": " bank_classification.ipynb",
      "provenance": [],
      "toc_visible": true,
      "include_colab_link": true
    },
    "kernelspec": {
      "name": "python3",
      "display_name": "Python 3"
    },
    "language_info": {
      "name": "python"
    }
  },
  "cells": [
    {
      "cell_type": "markdown",
      "metadata": {
        "id": "view-in-github",
        "colab_type": "text"
      },
      "source": [
        "<a href=\"https://colab.research.google.com/github/neerajviswajith/CE888/blob/main/Lab3/bank_classification.ipynb\" target=\"_parent\"><img src=\"https://colab.research.google.com/assets/colab-badge.svg\" alt=\"Open In Colab\"/></a>"
      ]
    },
    {
      "cell_type": "markdown",
      "metadata": {
        "id": "OmLcH-MRZm-Y"
      },
      "source": [
        "# Bank Data Classifier"
      ]
    },
    {
      "cell_type": "markdown",
      "metadata": {
        "id": "ImMker5yZoRh"
      },
      "source": [
        "## Importing Libraries & Loading Data"
      ]
    },
    {
      "cell_type": "code",
      "metadata": {
        "id": "Dnw029U_SGUD"
      },
      "source": [
        "# Importing Libraries \n",
        "\n",
        "import pandas as pd\n",
        "import numpy as np\n",
        "from sklearn.preprocessing import LabelEncoder\n",
        "import matplotlib.pyplot as plt\n",
        "import seaborn as sns\n",
        "from sklearn.model_selection import train_test_split, cross_validate, GridSearchCV\n",
        "from sklearn.ensemble import RandomForestClassifier\n",
        "from sklearn.dummy import DummyClassifier\n",
        "from sklearn import metrics"
      ],
      "execution_count": 1,
      "outputs": []
    },
    {
      "cell_type": "code",
      "metadata": {
        "colab": {
          "base_uri": "https://localhost:8080/",
          "height": 215
        },
        "id": "CfnnpSL7S39J",
        "outputId": "57ae8c44-a6ad-48af-d6d0-f5a4aa80e476"
      },
      "source": [
        "# Loading Data\n",
        "\n",
        "data = pd.read_csv('https://raw.githubusercontent.com/neerajthandayan/Misc./main/Lab_3/bank-additional-full.csv',delimiter=';')\n",
        "data.drop(columns='duration',inplace=True)\n",
        "data.head(5)"
      ],
      "execution_count": 2,
      "outputs": [
        {
          "output_type": "execute_result",
          "data": {
            "text/html": [
              "<div>\n",
              "<style scoped>\n",
              "    .dataframe tbody tr th:only-of-type {\n",
              "        vertical-align: middle;\n",
              "    }\n",
              "\n",
              "    .dataframe tbody tr th {\n",
              "        vertical-align: top;\n",
              "    }\n",
              "\n",
              "    .dataframe thead th {\n",
              "        text-align: right;\n",
              "    }\n",
              "</style>\n",
              "<table border=\"1\" class=\"dataframe\">\n",
              "  <thead>\n",
              "    <tr style=\"text-align: right;\">\n",
              "      <th></th>\n",
              "      <th>age</th>\n",
              "      <th>job</th>\n",
              "      <th>marital</th>\n",
              "      <th>education</th>\n",
              "      <th>default</th>\n",
              "      <th>housing</th>\n",
              "      <th>loan</th>\n",
              "      <th>contact</th>\n",
              "      <th>month</th>\n",
              "      <th>day_of_week</th>\n",
              "      <th>campaign</th>\n",
              "      <th>pdays</th>\n",
              "      <th>previous</th>\n",
              "      <th>poutcome</th>\n",
              "      <th>emp.var.rate</th>\n",
              "      <th>cons.price.idx</th>\n",
              "      <th>cons.conf.idx</th>\n",
              "      <th>euribor3m</th>\n",
              "      <th>nr.employed</th>\n",
              "      <th>y</th>\n",
              "    </tr>\n",
              "  </thead>\n",
              "  <tbody>\n",
              "    <tr>\n",
              "      <th>0</th>\n",
              "      <td>56</td>\n",
              "      <td>housemaid</td>\n",
              "      <td>married</td>\n",
              "      <td>basic.4y</td>\n",
              "      <td>no</td>\n",
              "      <td>no</td>\n",
              "      <td>no</td>\n",
              "      <td>telephone</td>\n",
              "      <td>may</td>\n",
              "      <td>mon</td>\n",
              "      <td>1</td>\n",
              "      <td>999</td>\n",
              "      <td>0</td>\n",
              "      <td>nonexistent</td>\n",
              "      <td>1.1</td>\n",
              "      <td>93.994</td>\n",
              "      <td>-36.4</td>\n",
              "      <td>4.857</td>\n",
              "      <td>5191.0</td>\n",
              "      <td>no</td>\n",
              "    </tr>\n",
              "    <tr>\n",
              "      <th>1</th>\n",
              "      <td>57</td>\n",
              "      <td>services</td>\n",
              "      <td>married</td>\n",
              "      <td>high.school</td>\n",
              "      <td>unknown</td>\n",
              "      <td>no</td>\n",
              "      <td>no</td>\n",
              "      <td>telephone</td>\n",
              "      <td>may</td>\n",
              "      <td>mon</td>\n",
              "      <td>1</td>\n",
              "      <td>999</td>\n",
              "      <td>0</td>\n",
              "      <td>nonexistent</td>\n",
              "      <td>1.1</td>\n",
              "      <td>93.994</td>\n",
              "      <td>-36.4</td>\n",
              "      <td>4.857</td>\n",
              "      <td>5191.0</td>\n",
              "      <td>no</td>\n",
              "    </tr>\n",
              "    <tr>\n",
              "      <th>2</th>\n",
              "      <td>37</td>\n",
              "      <td>services</td>\n",
              "      <td>married</td>\n",
              "      <td>high.school</td>\n",
              "      <td>no</td>\n",
              "      <td>yes</td>\n",
              "      <td>no</td>\n",
              "      <td>telephone</td>\n",
              "      <td>may</td>\n",
              "      <td>mon</td>\n",
              "      <td>1</td>\n",
              "      <td>999</td>\n",
              "      <td>0</td>\n",
              "      <td>nonexistent</td>\n",
              "      <td>1.1</td>\n",
              "      <td>93.994</td>\n",
              "      <td>-36.4</td>\n",
              "      <td>4.857</td>\n",
              "      <td>5191.0</td>\n",
              "      <td>no</td>\n",
              "    </tr>\n",
              "    <tr>\n",
              "      <th>3</th>\n",
              "      <td>40</td>\n",
              "      <td>admin.</td>\n",
              "      <td>married</td>\n",
              "      <td>basic.6y</td>\n",
              "      <td>no</td>\n",
              "      <td>no</td>\n",
              "      <td>no</td>\n",
              "      <td>telephone</td>\n",
              "      <td>may</td>\n",
              "      <td>mon</td>\n",
              "      <td>1</td>\n",
              "      <td>999</td>\n",
              "      <td>0</td>\n",
              "      <td>nonexistent</td>\n",
              "      <td>1.1</td>\n",
              "      <td>93.994</td>\n",
              "      <td>-36.4</td>\n",
              "      <td>4.857</td>\n",
              "      <td>5191.0</td>\n",
              "      <td>no</td>\n",
              "    </tr>\n",
              "    <tr>\n",
              "      <th>4</th>\n",
              "      <td>56</td>\n",
              "      <td>services</td>\n",
              "      <td>married</td>\n",
              "      <td>high.school</td>\n",
              "      <td>no</td>\n",
              "      <td>no</td>\n",
              "      <td>yes</td>\n",
              "      <td>telephone</td>\n",
              "      <td>may</td>\n",
              "      <td>mon</td>\n",
              "      <td>1</td>\n",
              "      <td>999</td>\n",
              "      <td>0</td>\n",
              "      <td>nonexistent</td>\n",
              "      <td>1.1</td>\n",
              "      <td>93.994</td>\n",
              "      <td>-36.4</td>\n",
              "      <td>4.857</td>\n",
              "      <td>5191.0</td>\n",
              "      <td>no</td>\n",
              "    </tr>\n",
              "  </tbody>\n",
              "</table>\n",
              "</div>"
            ],
            "text/plain": [
              "   age        job  marital  ... euribor3m nr.employed   y\n",
              "0   56  housemaid  married  ...     4.857      5191.0  no\n",
              "1   57   services  married  ...     4.857      5191.0  no\n",
              "2   37   services  married  ...     4.857      5191.0  no\n",
              "3   40     admin.  married  ...     4.857      5191.0  no\n",
              "4   56   services  married  ...     4.857      5191.0  no\n",
              "\n",
              "[5 rows x 20 columns]"
            ]
          },
          "metadata": {
            "tags": []
          },
          "execution_count": 2
        }
      ]
    },
    {
      "cell_type": "markdown",
      "metadata": {
        "id": "yzd1EqX_aXVh"
      },
      "source": [
        "## Data Exploratuon & Pre-processing"
      ]
    },
    {
      "cell_type": "code",
      "metadata": {
        "colab": {
          "base_uri": "https://localhost:8080/"
        },
        "id": "5xpVyFdVWPa2",
        "outputId": "37baa1e0-d6e1-4c61-fa0a-a75292a7d83f"
      },
      "source": [
        "# Check for NaN values in Dataset\n",
        "\n",
        "print(data.isnull().values.any(),data.isnull().sum().sum())"
      ],
      "execution_count": 3,
      "outputs": [
        {
          "output_type": "stream",
          "text": [
            "False 0\n"
          ],
          "name": "stdout"
        }
      ]
    },
    {
      "cell_type": "code",
      "metadata": {
        "id": "fkyoRhx3Urhi"
      },
      "source": [
        "# OneHot Encoding X values\n",
        "\n",
        "data = pd.get_dummies(data, columns=['job','marital','default','education',\n",
        "                                           'housing','loan','contact','month',\n",
        "                                           'day_of_week','poutcome'])"
      ],
      "execution_count": 4,
      "outputs": []
    },
    {
      "cell_type": "code",
      "metadata": {
        "id": "7tteCS7VUyS0"
      },
      "source": [
        "# Label encoding depedent variable (y)\n",
        "\n",
        "le = LabelEncoder()\n",
        "data['y'] = le.fit_transform(data['y'])"
      ],
      "execution_count": 5,
      "outputs": []
    },
    {
      "cell_type": "code",
      "metadata": {
        "id": "wv6zkGMOTAr2"
      },
      "source": [
        "# Separating X and y variables\n",
        "\n",
        "b = data['y'].values\n",
        "A = data.drop(columns='y').copy().values"
      ],
      "execution_count": 6,
      "outputs": []
    },
    {
      "cell_type": "code",
      "metadata": {
        "colab": {
          "base_uri": "https://localhost:8080/",
          "height": 350
        },
        "id": "DhWRvPQpTnD4",
        "outputId": "152e46e4-52c7-402f-9e98-29d8513d956d"
      },
      "source": [
        "# PLotting Histogram of Label\n",
        "\n",
        "plot = sns.countplot(data['y'])\n",
        "plot.set_xticklabels(['No','Yes'])"
      ],
      "execution_count": 7,
      "outputs": [
        {
          "output_type": "stream",
          "text": [
            "/usr/local/lib/python3.7/dist-packages/seaborn/_decorators.py:43: FutureWarning: Pass the following variable as a keyword arg: x. From version 0.12, the only valid positional argument will be `data`, and passing other arguments without an explicit keyword will result in an error or misinterpretation.\n",
            "  FutureWarning\n"
          ],
          "name": "stderr"
        },
        {
          "output_type": "execute_result",
          "data": {
            "text/plain": [
              "[Text(0, 0, 'No'), Text(0, 0, 'Yes')]"
            ]
          },
          "metadata": {
            "tags": []
          },
          "execution_count": 7
        },
        {
          "output_type": "display_data",
          "data": {
            "image/png": "[encoded data removed]",
            "text/plain": [
              "<Figure size 432x288 with 1 Axes>"
            ]
          },
          "metadata": {
            "tags": [],
            "needs_background": "light"
          }
        }
      ]
    },
    {
      "cell_type": "code",
      "metadata": {
        "colab": {
          "base_uri": "https://localhost:8080/"
        },
        "id": "9UY4jYadYs4D",
        "outputId": "c35f0fca-d5f3-4a74-eb84-20ef00b48b3c"
      },
      "source": [
        "# Calculating Data Imbalance\n",
        "\n",
        "cnt = np.unique(data['y'],return_counts=True)\n",
        "imbalance = cnt[1][1]/cnt[1][0]\n",
        "print(f'Dataset Imbalance: {imbalance}')"
      ],
      "execution_count": 8,
      "outputs": [
        {
          "output_type": "stream",
          "text": [
            "Dataset Imbalance: 0.126956331399803\n"
          ],
          "name": "stdout"
        }
      ]
    },
    {
      "cell_type": "code",
      "metadata": {
        "id": "L1hFAbEJZluc"
      },
      "source": [
        "# Creating Test-Train Split\n",
        "\n",
        "A_train, A_test, b_train, b_test = train_test_split(A, b, test_size=0.2, random_state=50 ,stratify=b)"
      ],
      "execution_count": 9,
      "outputs": []
    },
    {
      "cell_type": "markdown",
      "metadata": {
        "id": "psJ2PjwhkbEU"
      },
      "source": [
        "## Cross-validation & Dummy Classifier Test"
      ]
    },
    {
      "cell_type": "code",
      "metadata": {
        "id": "qD5Ft6JcbkvD"
      },
      "source": [
        "# K-Fold Cross Validation\n",
        "\n",
        "Rf = RandomForestClassifier(n_estimators=100, max_depth=3)\n",
        "CV_acc = cross_validate(Rf, A_train, b_train, cv=10, scoring='accuracy')\n",
        "CV_f1 = cross_validate(Rf, A_train, b_train, cv=10, scoring='f1')"
      ],
      "execution_count": 10,
      "outputs": []
    },
    {
      "cell_type": "code",
      "metadata": {
        "colab": {
          "base_uri": "https://localhost:8080/"
        },
        "id": "S1YvZlwRfm3q",
        "outputId": "11cbd86d-c998-4a36-c19a-7a3b4c42fcf1"
      },
      "source": [
        "# Cross Validation Data\n",
        "\n",
        "acc = round(CV_acc['test_score'].mean()*100,2)\n",
        "f1 = CV_f1['test_score'].mean()\n",
        "print(f'Mean Accuracy: {acc}%\\nMean F1-Score: {f1}')"
      ],
      "execution_count": 11,
      "outputs": [
        {
          "output_type": "stream",
          "text": [
            "Mean Accuracy: 89.81%\n",
            "Mean F1-Score: 0.24081436889257396\n"
          ],
          "name": "stdout"
        }
      ]
    },
    {
      "cell_type": "code",
      "metadata": {
        "colab": {
          "base_uri": "https://localhost:8080/",
          "height": 136
        },
        "id": "qmbWUcW3zpjL",
        "outputId": "ee7f3a61-d172-4ed2-caee-3341a3246f99"
      },
      "source": [
        "# Running Classifier on Data\n",
        "\n",
        "Rf.fit(A_train, b_train)\n",
        "j = {'feature' : data.drop(columns='y').columns.copy(), 'importance' : Rf.feature_importances_}\n",
        "df = pd.DataFrame.from_dict(j)\n",
        "df = df.sort_values(by='importance',ascending=False)\n",
        "df.head(3)"
      ],
      "execution_count": 12,
      "outputs": [
        {
          "output_type": "execute_result",
          "data": {
            "text/html": [
              "<div>\n",
              "<style scoped>\n",
              "    .dataframe tbody tr th:only-of-type {\n",
              "        vertical-align: middle;\n",
              "    }\n",
              "\n",
              "    .dataframe tbody tr th {\n",
              "        vertical-align: top;\n",
              "    }\n",
              "\n",
              "    .dataframe thead th {\n",
              "        text-align: right;\n",
              "    }\n",
              "</style>\n",
              "<table border=\"1\" class=\"dataframe\">\n",
              "  <thead>\n",
              "    <tr style=\"text-align: right;\">\n",
              "      <th></th>\n",
              "      <th>feature</th>\n",
              "      <th>importance</th>\n",
              "    </tr>\n",
              "  </thead>\n",
              "  <tbody>\n",
              "    <tr>\n",
              "      <th>7</th>\n",
              "      <td>euribor3m</td>\n",
              "      <td>0.239136</td>\n",
              "    </tr>\n",
              "    <tr>\n",
              "      <th>8</th>\n",
              "      <td>nr.employed</td>\n",
              "      <td>0.147479</td>\n",
              "    </tr>\n",
              "    <tr>\n",
              "      <th>61</th>\n",
              "      <td>poutcome_success</td>\n",
              "      <td>0.137240</td>\n",
              "    </tr>\n",
              "  </tbody>\n",
              "</table>\n",
              "</div>"
            ],
            "text/plain": [
              "             feature  importance\n",
              "7          euribor3m    0.239136\n",
              "8        nr.employed    0.147479\n",
              "61  poutcome_success    0.137240"
            ]
          },
          "metadata": {
            "tags": []
          },
          "execution_count": 12
        }
      ]
    },
    {
      "cell_type": "code",
      "metadata": {
        "colab": {
          "base_uri": "https://localhost:8080/",
          "height": 625
        },
        "id": "E4TvD-DB3rPq",
        "outputId": "7468da2d-a375-4f11-cc17-c466cdb87472"
      },
      "source": [
        "# Plotting Fearure Importance\n",
        "\n",
        "top10 = df.head(10)\n",
        "fig = plt.figure(figsize=(17.5,10))\n",
        "plt.title(\"Feature Importances\")\n",
        "plt.bar(top10['feature'],top10['importance'])"
      ],
      "execution_count": 13,
      "outputs": [
        {
          "output_type": "execute_result",
          "data": {
            "text/plain": [
              "<BarContainer object of 10 artists>"
            ]
          },
          "metadata": {
            "tags": []
          },
          "execution_count": 13
        },
        {
          "output_type": "display_data",
          "data": {
            "image/png": "[encoded data removed]",
            "text/plain": [
              "<Figure size 1260x720 with 1 Axes>"
            ]
          },
          "metadata": {
            "tags": [],
            "needs_background": "light"
          }
        }
      ]
    },
    {
      "cell_type": "code",
      "metadata": {
        "colab": {
          "base_uri": "https://localhost:8080/"
        },
        "id": "zBeW_V3b00Ss",
        "outputId": "0e88c89d-dabe-47d4-83a0-00764090727e"
      },
      "source": [
        "# Evaluating Model\n",
        "\n",
        "ypred = Rf.predict(A_test)\n",
        "print(f'Accuracy: {round(metrics.accuracy_score(ypred,b_test)*100,2)}%\\n')\n",
        "print(metrics.confusion_matrix(ypred,b_test))"
      ],
      "execution_count": 14,
      "outputs": [
        {
          "output_type": "stream",
          "text": [
            "Accuracy: 90.01%\n",
            "\n",
            "[[7245  758]\n",
            " [  65  170]]\n"
          ],
          "name": "stdout"
        }
      ]
    },
    {
      "cell_type": "code",
      "metadata": {
        "colab": {
          "base_uri": "https://localhost:8080/"
        },
        "id": "JgDsRx6kjboz",
        "outputId": "96ca7054-eef1-4e2b-c0ea-43dcfeb51f81"
      },
      "source": [
        "# Comparing with Dummy Classifier\n",
        "\n",
        "dummy_clf = DummyClassifier(strategy='stratified')\n",
        "dummy_clf.fit(A_train, b_train)\n",
        "dummy_clf.predict(A_train)\n",
        "print(f'Dummy Classifier Accuracy: {dummy_clf.score(A_train,b_train)*100}%')"
      ],
      "execution_count": 15,
      "outputs": [
        {
          "output_type": "stream",
          "text": [
            "Dummy Classifier Accuracy: 80.18816388467374%\n"
          ],
          "name": "stdout"
        }
      ]
    },
    {
      "cell_type": "markdown",
      "metadata": {
        "id": "lST__p2akoy3"
      },
      "source": [
        "## Setting Up GridSearch"
      ]
    },
    {
      "cell_type": "code",
      "metadata": {
        "id": "LJVI9g30kmo2"
      },
      "source": [
        "estimator = RandomForestClassifier(n_estimators=100, max_depth=3)\n",
        "param_grid = {'n_estimators':[100, 500 ,1000],\n",
        "              'max_depth': [3, 9, 27]}\n",
        "\n",
        "GS_f1 = GridSearchCV(estimator=estimator, param_grid=param_grid, scoring='f1', cv=3, n_jobs=-1)"
      ],
      "execution_count": 16,
      "outputs": []
    },
    {
      "cell_type": "code",
      "metadata": {
        "id": "3hr2pCq0nsW5",
        "outputId": "519b2279-9888-480f-8518-2f10387fa71e",
        "colab": {
          "base_uri": "https://localhost:8080/"
        }
      },
      "source": [
        "# Fitting GridSearch Objects\n",
        "\n",
        "optclf_f1 = GS_f1.fit(A_train, b_train)"
      ],
      "execution_count": 17,
      "outputs": [
        {
          "output_type": "stream",
          "text": [
            "/usr/local/lib/python3.7/dist-packages/joblib/externals/loky/process_executor.py:691: UserWarning: A worker stopped while some jobs were given to the executor. This can be caused by a too short worker timeout or by a memory leak.\n",
            "  \"timeout or by a memory leak.\", UserWarning\n"
          ],
          "name": "stderr"
        }
      ]
    },
    {
      "cell_type": "code",
      "metadata": {
        "id": "qYSJ4yFjyjPB",
        "outputId": "2c420947-3312-471a-acd1-53991a3e1b02",
        "colab": {
          "base_uri": "https://localhost:8080/"
        }
      },
      "source": [
        "optclf_f1.best_estimator_"
      ],
      "execution_count": 18,
      "outputs": [
        {
          "output_type": "execute_result",
          "data": {
            "text/plain": [
              "RandomForestClassifier(bootstrap=True, ccp_alpha=0.0, class_weight=None,\n",
              "                       criterion='gini', max_depth=27, max_features='auto',\n",
              "                       max_leaf_nodes=None, max_samples=None,\n",
              "                       min_impurity_decrease=0.0, min_impurity_split=None,\n",
              "                       min_samples_leaf=1, min_samples_split=2,\n",
              "                       min_weight_fraction_leaf=0.0, n_estimators=1000,\n",
              "                       n_jobs=None, oob_score=False, random_state=None,\n",
              "                       verbose=0, warm_start=False)"
            ]
          },
          "metadata": {
            "tags": []
          },
          "execution_count": 18
        }
      ]
    },
    {
      "cell_type": "code",
      "metadata": {
        "id": "mb6v9sQfv1ux"
      },
      "source": [
        "bpred = optclf_f1.best_estimator_.predict(A_test)"
      ],
      "execution_count": 19,
      "outputs": []
    },
    {
      "cell_type": "code",
      "metadata": {
        "id": "DqxAFnH98Fz3",
        "outputId": "fe099cfa-7467-4849-d681-ace19e5a7a80",
        "colab": {
          "base_uri": "https://localhost:8080/"
        }
      },
      "source": [
        "# Compute confusion matrix\n",
        "from sklearn.metrics import confusion_matrix, accuracy_score\n",
        "cnf_matrix = confusion_matrix(b_test, bpred)\n",
        "cnf_acc = accuracy_score(b_test, bpred)\n",
        "np.set_printoptions(precision=2)\n",
        "print(f'Confusion Matrix:\\n{cnf_matrix}\\nAccuracy Score: {round(cnf_acc*100,2)}%')"
      ],
      "execution_count": 21,
      "outputs": [
        {
          "output_type": "stream",
          "text": [
            "Confusion Matrix:\n",
            "[[7089  221]\n",
            " [ 643  285]]\n",
            "Accuracy Score: 89.51%\n"
          ],
          "name": "stdout"
        }
      ]
    }
  ]
}