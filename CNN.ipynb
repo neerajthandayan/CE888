{
  "nbformat": 4,
  "nbformat_minor": 0,
  "metadata": {
    "kernelspec": {
      "display_name": "Python 3",
      "language": "python",
      "name": "python3"
    },
    "language_info": {
      "codemirror_mode": {
        "name": "ipython",
        "version": 3
      },
      "file_extension": ".py",
      "mimetype": "text/x-python",
      "name": "python",
      "nbconvert_exporter": "python",
      "pygments_lexer": "ipython3",
      "version": "3.6.5"
    },
    "colab": {
      "name": "CNN.ipynb",
      "provenance": [],
      "toc_visible": true,
      "include_colab_link": true
    },
    "accelerator": "GPU"
  },
  "cells": [
    {
      "cell_type": "markdown",
      "metadata": {
        "id": "view-in-github",
        "colab_type": "text"
      },
      "source": [
        "<a href=\"https://colab.research.google.com/github/neerajviswajith/CE888/blob/main/CNN.ipynb\" target=\"_parent\"><img src=\"https://colab.research.google.com/assets/colab-badge.svg\" alt=\"Open In Colab\"/></a>"
      ]
    },
    {
      "cell_type": "markdown",
      "metadata": {
        "id": "vwRGEQbzGpYQ"
      },
      "source": [
        "# First CNN model for MNIST Dataset\n",
        "\n",
        "* MNIST Dataset is ''Hello World'' of Image Recognition\n",
        "\n",
        "* [Dataset HomePage](http://yann.lecun.com/exdb/mnist/)\n",
        "\n",
        "* History of MNIST Dataset [Watch here](https://www.youtube.com/watch?v=oKzNUGz21JM)\n",
        "\n",
        "\n",
        "---\n",
        "The MNIST database of handwritten digits, available from this page, has a training set of 60,000 examples, and a \n",
        "test set of 10,000 examples. It is a subset of a larger set available from NIST. The digits have been size-normalized and centered in a fixed-size image.\n",
        "\n",
        "![Kitten](https://camo.githubusercontent.com/01c057a753e92a9bc70b8c45d62b295431851c09cffadf53106fc0aea7e2843f/687474703a2f2f692e7974696d672e636f6d2f76692f3051493378675875422d512f687164656661756c742e6a7067)\n"
      ]
    },
    {
      "cell_type": "markdown",
      "metadata": {
        "id": "PhmJOHCpJD_w"
      },
      "source": [
        "# Let's start building our first CNN Model"
      ]
    },
    {
      "cell_type": "code",
      "metadata": {
        "id": "lSyHCSV7jymI"
      },
      "source": [
        "from keras import layers\n",
        "from keras import models"
      ],
      "execution_count": 1,
      "outputs": []
    },
    {
      "cell_type": "markdown",
      "metadata": {
        "id": "oWNzCYUUjymN"
      },
      "source": [
        "Importantly, a convnet takes as input tensors of shape (image_height, image_width,\n",
        "image_channels) (not including the batch dimension). In this case, we’ll configure\n",
        "the convnet to process inputs of size (28, 28, 1), which is the format of MNIST\n",
        "images. We’ll do this by passing the argument input_shape=(28, 28, 1) to the first\n",
        "layer."
      ]
    },
    {
      "cell_type": "markdown",
      "metadata": {
        "id": "dM4JLEpwjymN"
      },
      "source": [
        "#### Instantiating a small convnet"
      ]
    },
    {
      "cell_type": "code",
      "metadata": {
        "id": "p-OnpExGjymO",
        "colab": {
          "base_uri": "https://localhost:8080/"
        },
        "outputId": "1c43d3b4-d736-4b2b-f6f2-f964ab7f1fc5"
      },
      "source": [
        "model = models.Sequential()\n",
        "model.add(layers.Conv2D(32, (3, 3), activation='relu', input_shape=(28, 28, 1)))\n",
        "model.add(layers.MaxPooling2D((2, 2)))\n",
        "model.add(layers.Conv2D(64, (3, 3), activation='relu'))\n",
        "model.add(layers.MaxPooling2D((2, 2)))\n",
        "model.add(layers.Conv2D(64, (3, 3), activation='relu'))\n",
        "model.summary()"
      ],
      "execution_count": 2,
      "outputs": [
        {
          "output_type": "stream",
          "text": [
            "Model: \"sequential\"\n",
            "_________________________________________________________________\n",
            "Layer (type)                 Output Shape              Param #   \n",
            "=================================================================\n",
            "conv2d (Conv2D)              (None, 26, 26, 32)        320       \n",
            "_________________________________________________________________\n",
            "max_pooling2d (MaxPooling2D) (None, 13, 13, 32)        0         \n",
            "_________________________________________________________________\n",
            "conv2d_1 (Conv2D)            (None, 11, 11, 64)        18496     \n",
            "_________________________________________________________________\n",
            "max_pooling2d_1 (MaxPooling2 (None, 5, 5, 64)          0         \n",
            "_________________________________________________________________\n",
            "conv2d_2 (Conv2D)            (None, 3, 3, 64)          36928     \n",
            "=================================================================\n",
            "Total params: 55,744\n",
            "Trainable params: 55,744\n",
            "Non-trainable params: 0\n",
            "_________________________________________________________________\n"
          ],
          "name": "stdout"
        }
      ]
    },
    {
      "cell_type": "markdown",
      "metadata": {
        "id": "7gcVG3xkjymR"
      },
      "source": [
        "#### Adding a classifier on top of the convnet"
      ]
    },
    {
      "cell_type": "code",
      "metadata": {
        "id": "C2DfhDJYjymR",
        "colab": {
          "base_uri": "https://localhost:8080/"
        },
        "outputId": "46fb5e6f-0193-4b2b-a432-dd568ceb31c7"
      },
      "source": [
        "model.add(layers.Flatten())\n",
        "model.add(layers.Dense(64, activation='relu'))\n",
        "model.add(layers.Dense(10, activation='softmax'))\n",
        "model.summary()"
      ],
      "execution_count": 3,
      "outputs": [
        {
          "output_type": "stream",
          "text": [
            "Model: \"sequential\"\n",
            "_________________________________________________________________\n",
            "Layer (type)                 Output Shape              Param #   \n",
            "=================================================================\n",
            "conv2d (Conv2D)              (None, 26, 26, 32)        320       \n",
            "_________________________________________________________________\n",
            "max_pooling2d (MaxPooling2D) (None, 13, 13, 32)        0         \n",
            "_________________________________________________________________\n",
            "conv2d_1 (Conv2D)            (None, 11, 11, 64)        18496     \n",
            "_________________________________________________________________\n",
            "max_pooling2d_1 (MaxPooling2 (None, 5, 5, 64)          0         \n",
            "_________________________________________________________________\n",
            "conv2d_2 (Conv2D)            (None, 3, 3, 64)          36928     \n",
            "_________________________________________________________________\n",
            "flatten (Flatten)            (None, 576)               0         \n",
            "_________________________________________________________________\n",
            "dense (Dense)                (None, 64)                36928     \n",
            "_________________________________________________________________\n",
            "dense_1 (Dense)              (None, 10)                650       \n",
            "=================================================================\n",
            "Total params: 93,322\n",
            "Trainable params: 93,322\n",
            "Non-trainable params: 0\n",
            "_________________________________________________________________\n"
          ],
          "name": "stdout"
        }
      ]
    },
    {
      "cell_type": "markdown",
      "metadata": {
        "id": "NOKVF4nKjymU"
      },
      "source": [
        "### Training the convnet on MNIST images"
      ]
    },
    {
      "cell_type": "code",
      "metadata": {
        "id": "oIcgUbbUjymV"
      },
      "source": [
        "from keras.datasets import mnist\n",
        "from keras.utils import to_categorical"
      ],
      "execution_count": 4,
      "outputs": []
    },
    {
      "cell_type": "markdown",
      "metadata": {
        "id": "ZnJ2Pfs_jymX"
      },
      "source": [
        "#### Load Data"
      ]
    },
    {
      "cell_type": "code",
      "metadata": {
        "id": "JpHGHE9MjymY"
      },
      "source": [
        "(train_images, train_labels), (test_images, test_labels) = mnist.load_data()\n",
        "train_images = train_images.reshape((60000, 28, 28, 1))\n",
        "train_images = train_images.astype('float32') / 255\n",
        "test_images = test_images.reshape((10000, 28, 28, 1))\n",
        "test_images = test_images.astype('float32') / 255\n",
        "train_labels = to_categorical(train_labels)\n",
        "test_labels = to_categorical(test_labels)"
      ],
      "execution_count": 5,
      "outputs": []
    },
    {
      "cell_type": "markdown",
      "metadata": {
        "id": "4HoTLrfSjymd"
      },
      "source": [
        "#### compile and fit model "
      ]
    },
    {
      "cell_type": "code",
      "metadata": {
        "id": "i23FDtC9jyme",
        "colab": {
          "base_uri": "https://localhost:8080/"
        },
        "outputId": "9fa12f33-3173-48b1-fba9-359d80988cc0"
      },
      "source": [
        "model.compile(optimizer='rmsprop', \n",
        "              loss='categorical_crossentropy',\n",
        "              metrics=['accuracy'])\n",
        "history = model.fit(train_images, train_labels, epochs=5, batch_size=64, validation_split=0.2)"
      ],
      "execution_count": 6,
      "outputs": [
        {
          "output_type": "stream",
          "text": [
            "Epoch 1/5\n",
            "750/750 [==============================] - 7s 5ms/step - loss: 0.4411 - accuracy: 0.8543 - val_loss: 0.0529 - val_accuracy: 0.9846\n",
            "Epoch 2/5\n",
            "750/750 [==============================] - 3s 4ms/step - loss: 0.0512 - accuracy: 0.9837 - val_loss: 0.0478 - val_accuracy: 0.9871\n",
            "Epoch 3/5\n",
            "750/750 [==============================] - 3s 4ms/step - loss: 0.0342 - accuracy: 0.9882 - val_loss: 0.0412 - val_accuracy: 0.9884\n",
            "Epoch 4/5\n",
            "750/750 [==============================] - 3s 4ms/step - loss: 0.0228 - accuracy: 0.9930 - val_loss: 0.0643 - val_accuracy: 0.9850\n",
            "Epoch 5/5\n",
            "750/750 [==============================] - 3s 4ms/step - loss: 0.0199 - accuracy: 0.9927 - val_loss: 0.0409 - val_accuracy: 0.9899\n"
          ],
          "name": "stdout"
        }
      ]
    },
    {
      "cell_type": "markdown",
      "metadata": {
        "id": "9zU8iI5ojymg"
      },
      "source": [
        "#### evaluate model"
      ]
    },
    {
      "cell_type": "code",
      "metadata": {
        "id": "Z3VeaL1Njymh",
        "colab": {
          "base_uri": "https://localhost:8080/"
        },
        "outputId": "053d3112-7b22-4187-dc64-07ee62dae9d0"
      },
      "source": [
        "test_loss, test_acc = model.evaluate(test_images, test_labels)\n",
        "test_acc"
      ],
      "execution_count": 7,
      "outputs": [
        {
          "output_type": "stream",
          "text": [
            "313/313 [==============================] - 1s 3ms/step - loss: 0.0298 - accuracy: 0.9909\n"
          ],
          "name": "stdout"
        },
        {
          "output_type": "execute_result",
          "data": {
            "text/plain": [
              "0.9908999800682068"
            ]
          },
          "metadata": {
            "tags": []
          },
          "execution_count": 7
        }
      ]
    },
    {
      "cell_type": "code",
      "metadata": {
        "id": "wXNZOY7Sjymj",
        "colab": {
          "base_uri": "https://localhost:8080/",
          "height": 545
        },
        "outputId": "19a21423-3068-408b-8fa0-739ba7d9d9bc"
      },
      "source": [
        "import matplotlib.pyplot as plt\n",
        "\n",
        "acc = history.history['accuracy']\n",
        "val_acc = history.history['val_accuracy']\n",
        "loss = history.history['loss']\n",
        "val_loss = history.history['val_loss']\n",
        "\n",
        "epochs = range(1, len(acc) + 1)\n",
        "\n",
        "plt.plot(epochs, acc, 'bo', label='Training acc')\n",
        "plt.plot(epochs, val_acc, 'b', label='Validation acc')\n",
        "plt.title('Training and validation accuracy')\n",
        "plt.legend()\n",
        "\n",
        "plt.figure()\n",
        "\n",
        "plt.plot(epochs, loss, 'bo', label='Training loss')\n",
        "plt.plot(epochs, val_loss, 'b', label='Validation loss')\n",
        "plt.title('Training and validation loss')\n",
        "plt.legend()\n",
        "\n",
        "plt.show()"
      ],
      "execution_count": 8,
      "outputs": [
        {
          "output_type": "display_data",
          "data": {
            "image/png": "[encoded data removed]",
            "text/plain": [
              "<Figure size 432x288 with 1 Axes>"
            ]
          },
          "metadata": {
            "tags": [],
            "needs_background": "light"
          }
        },
        {
          "output_type": "display_data",
          "data": {
            "image/png": "[encoded data removed]",
            "text/plain": [
              "<Figure size 432x288 with 1 Axes>"
            ]
          },
          "metadata": {
            "tags": [],
            "needs_background": "light"
          }
        }
      ]
    },
    {
      "cell_type": "markdown",
      "metadata": {
        "id": "dsQMc0Iojyml"
      },
      "source": [
        "## Task 1\n",
        "\n",
        "Change the activation function and other parameters such as optimizer to see the effect on the network and it's performance. If possible create a grid search. "
      ]
    },
    {
      "cell_type": "markdown",
      "metadata": {
        "id": "iZkG8388mO7O"
      },
      "source": [
        "## CNN + GridSearch For Optimal Performance\n",
        "#### Data Import and Pre-processing"
      ]
    },
    {
      "cell_type": "code",
      "metadata": {
        "id": "owJ-29BrJXNa"
      },
      "source": [
        "# Importing Libraries\n",
        "\n",
        "import numpy as np\n",
        "import matplotlib.pyplot as plt\n",
        "import tensorflow as tf\n",
        "from tensorflow.keras.models import Model\n",
        "from tensorflow.keras.layers import Input, Conv2D, MaxPooling2D, Flatten, Dense, Dropout\n",
        "from tensorflow.keras.datasets import mnist\n",
        "from tensorflow.keras.utils import to_categorical\n",
        "from sklearn.model_selection import GridSearchCV\n",
        "from tensorflow.keras.wrappers.scikit_learn import KerasClassifier\n",
        "from tensorflow.keras.optimizers import Adam, Adagrad, RMSprop, Adadelta"
      ],
      "execution_count": 9,
      "outputs": []
    },
    {
      "cell_type": "code",
      "metadata": {
        "id": "W-60O2-ZmDoV"
      },
      "source": [
        "#Fetching Data\n",
        "\n",
        "(X_train, y_train), (X_test, y_test) = mnist.load_data()"
      ],
      "execution_count": 10,
      "outputs": []
    },
    {
      "cell_type": "code",
      "metadata": {
        "id": "CLCk9HCmmKdA"
      },
      "source": [
        "# Changing the Data Shape\n",
        "\n",
        "X_train, X_test = X_train.astype('float32') /255, X_test.astype('float32') /255\n",
        "X_train, X_test = np.expand_dims(X_train, -1), np.expand_dims(X_test,-1)\n",
        "y_train, y_test = to_categorical(y_train), to_categorical(y_test)"
      ],
      "execution_count": 11,
      "outputs": []
    },
    {
      "cell_type": "markdown",
      "metadata": {
        "id": "yURPelEbmZib"
      },
      "source": [
        "#### Function For ConvNet"
      ]
    },
    {
      "cell_type": "code",
      "metadata": {
        "id": "XChlzKRBmayA"
      },
      "source": [
        "# Building funtion for model\n",
        "\n",
        "def CNN_model(act_funct='relu',opt=RMSprop,learning_rate=0.001,momentum=0.0, dropout_rate=0.0):\n",
        "  #Input\n",
        "  i = Input(shape=(X_train[0].shape))\n",
        "\n",
        "  #Convolution layers\n",
        "  o = Conv2D(32, (3,3), activation=act_funct)(i)\n",
        "  o = MaxPooling2D((2,2))(o)\n",
        "  o = Conv2D(64, (3,3), activation=act_funct)(o)\n",
        "  o = MaxPooling2D((2,2))(o)\n",
        "  o = Conv2D(64, (3,3), activation=act_funct)(o)\n",
        "\n",
        "  #Dense Layer\n",
        "  o = Flatten()(o)\n",
        "  o = Dropout(dropout_rate)(o)\n",
        "  o = Dense(64, activation=act_funct)(o)\n",
        "  o = Dense(10, activation='softmax')(o)\n",
        "\n",
        "  clf = Model(i,o)\n",
        "\n",
        "  #Compiling Model\n",
        "  clf.compile(optimizer=opt(learning_rate,momentum),\n",
        "              loss='categorical_crossentropy',\n",
        "              metrics=['accuracy'])\n",
        "  \n",
        "  return clf"
      ],
      "execution_count": 12,
      "outputs": []
    },
    {
      "cell_type": "markdown",
      "metadata": {
        "id": "QkJSweRPmiVZ"
      },
      "source": [
        "## Setting Up and Fitting GridSearch"
      ]
    },
    {
      "cell_type": "code",
      "metadata": {
        "colab": {
          "base_uri": "https://localhost:8080/"
        },
        "id": "V4-Zc12zmhfr",
        "outputId": "549ebcd8-a416-4fa5-99b3-e153a5d31bdb"
      },
      "source": [
        "# Initialising Parameters, Keras Classifier and GridSearch CV\n",
        "\n",
        "act_funct = ['relu',tf.keras.layers.LeakyReLU()]\n",
        "opt = [Adam, Adagrad, RMSprop, Adadelta]\n",
        "learning_rate = [0.0001,0.001, 0.01, 0.1]\n",
        "momentum = [0.0,0.5,0.9,0.99]\n",
        "dropout_rate = [0.0,0.25,0.5]\n",
        "\n",
        "param_grid = dict(act_funct=act_funct,opt=opt,learning_rate=learning_rate,momentum=momentum,dropout_rate=dropout_rate)\n",
        "Classifier = KerasClassifier(build_fn=CNN_model,epochs=5, batch_size=64, validation_split=0.2)\n",
        "\n",
        "grid = GridSearchCV(estimator=Classifier,param_grid=param_grid, n_jobs=-1)\n",
        "grid_result = grid.fit(X_train,y_train)"
      ],
      "execution_count": 13,
      "outputs": [
        {
          "output_type": "stream",
          "text": [
            "/usr/local/lib/python3.7/dist-packages/joblib/externals/loky/process_executor.py:691: UserWarning: A worker stopped while some jobs were given to the executor. This can be caused by a too short worker timeout or by a memory leak.\n",
            "  \"timeout or by a memory leak.\", UserWarning\n"
          ],
          "name": "stderr"
        },
        {
          "output_type": "stream",
          "text": [
            "Epoch 1/5\n",
            "750/750 [==============================] - 4s 5ms/step - loss: 0.5632 - accuracy: 0.8146 - val_loss: 0.0710 - val_accuracy: 0.9778\n",
            "Epoch 2/5\n",
            "750/750 [==============================] - 3s 4ms/step - loss: 0.0727 - accuracy: 0.9769 - val_loss: 0.0561 - val_accuracy: 0.9843\n",
            "Epoch 3/5\n",
            "750/750 [==============================] - 3s 4ms/step - loss: 0.0532 - accuracy: 0.9846 - val_loss: 0.0472 - val_accuracy: 0.9876\n",
            "Epoch 4/5\n",
            "750/750 [==============================] - 3s 4ms/step - loss: 0.0413 - accuracy: 0.9874 - val_loss: 0.0494 - val_accuracy: 0.9868\n",
            "Epoch 5/5\n",
            "750/750 [==============================] - 3s 4ms/step - loss: 0.0381 - accuracy: 0.9895 - val_loss: 0.0387 - val_accuracy: 0.9890\n"
          ],
          "name": "stdout"
        }
      ]
    },
    {
      "cell_type": "code",
      "metadata": {
        "colab": {
          "base_uri": "https://localhost:8080/"
        },
        "id": "4r3h5JaqmxtP",
        "outputId": "9d61fda9-cfcd-4081-c181-f90f2e78f28d"
      },
      "source": [
        "# Summarizing results\n",
        "print(\"Best: %f using %s\" % (grid_result.best_score_, grid_result.best_params_))\n",
        "means = grid_result.cv_results_['mean_test_score']\n",
        "stds = grid_result.cv_results_['std_test_score']\n",
        "params = grid_result.cv_results_['params']\n",
        "for mean, stdev, param in zip(means, stds, params):\n",
        "    print(\"%f (%f) with: %r\" % (mean, stdev, param))"
      ],
      "execution_count": 14,
      "outputs": [
        {
          "output_type": "stream",
          "text": [
            "Best: 0.988617 using {'act_funct': 'relu', 'dropout_rate': 0.25, 'learning_rate': 0.001, 'momentum': 0.5, 'opt': <class 'tensorflow.python.keras.optimizer_v2.rmsprop.RMSprop'>}\n",
            "0.972150 (0.002561) with: {'act_funct': 'relu', 'dropout_rate': 0.0, 'learning_rate': 0.0001, 'momentum': 0.0, 'opt': <class 'tensorflow.python.keras.optimizer_v2.adam.Adam'>}\n",
            "0.758100 (0.028663) with: {'act_funct': 'relu', 'dropout_rate': 0.0, 'learning_rate': 0.0001, 'momentum': 0.0, 'opt': <class 'tensorflow.python.keras.optimizer_v2.adagrad.Adagrad'>}\n",
            "0.963267 (0.002883) with: {'act_funct': 'relu', 'dropout_rate': 0.0, 'learning_rate': 0.0001, 'momentum': 0.0, 'opt': <class 'tensorflow.python.keras.optimizer_v2.rmsprop.RMSprop'>}\n",
            "0.173650 (0.044682) with: {'act_funct': 'relu', 'dropout_rate': 0.0, 'learning_rate': 0.0001, 'momentum': 0.0, 'opt': <class 'tensorflow.python.keras.optimizer_v2.adadelta.Adadelta'>}\n",
            "0.971650 (0.002443) with: {'act_funct': 'relu', 'dropout_rate': 0.0, 'learning_rate': 0.0001, 'momentum': 0.5, 'opt': <class 'tensorflow.python.keras.optimizer_v2.adam.Adam'>}\n",
            "0.208533 (0.043733) with: {'act_funct': 'relu', 'dropout_rate': 0.0, 'learning_rate': 0.0001, 'momentum': 0.5, 'opt': <class 'tensorflow.python.keras.optimizer_v2.adagrad.Adagrad'>}\n",
            "0.967917 (0.002650) with: {'act_funct': 'relu', 'dropout_rate': 0.0, 'learning_rate': 0.0001, 'momentum': 0.5, 'opt': <class 'tensorflow.python.keras.optimizer_v2.rmsprop.RMSprop'>}\n",
            "0.147533 (0.046171) with: {'act_funct': 'relu', 'dropout_rate': 0.0, 'learning_rate': 0.0001, 'momentum': 0.5, 'opt': <class 'tensorflow.python.keras.optimizer_v2.adadelta.Adadelta'>}\n",
            "0.972850 (0.002024) with: {'act_funct': 'relu', 'dropout_rate': 0.0, 'learning_rate': 0.0001, 'momentum': 0.9, 'opt': <class 'tensorflow.python.keras.optimizer_v2.adam.Adam'>}\n",
            "0.162483 (0.014623) with: {'act_funct': 'relu', 'dropout_rate': 0.0, 'learning_rate': 0.0001, 'momentum': 0.9, 'opt': <class 'tensorflow.python.keras.optimizer_v2.adagrad.Adagrad'>}\n",
            "0.969800 (0.001928) with: {'act_funct': 'relu', 'dropout_rate': 0.0, 'learning_rate': 0.0001, 'momentum': 0.9, 'opt': <class 'tensorflow.python.keras.optimizer_v2.rmsprop.RMSprop'>}\n",
            "0.111483 (0.014227) with: {'act_funct': 'relu', 'dropout_rate': 0.0, 'learning_rate': 0.0001, 'momentum': 0.9, 'opt': <class 'tensorflow.python.keras.optimizer_v2.adadelta.Adadelta'>}\n",
            "0.969317 (0.002316) with: {'act_funct': 'relu', 'dropout_rate': 0.0, 'learning_rate': 0.0001, 'momentum': 0.99, 'opt': <class 'tensorflow.python.keras.optimizer_v2.adam.Adam'>}\n",
            "0.185450 (0.059364) with: {'act_funct': 'relu', 'dropout_rate': 0.0, 'learning_rate': 0.0001, 'momentum': 0.99, 'opt': <class 'tensorflow.python.keras.optimizer_v2.adagrad.Adagrad'>}\n",
            "0.970533 (0.002922) with: {'act_funct': 'relu', 'dropout_rate': 0.0, 'learning_rate': 0.0001, 'momentum': 0.99, 'opt': <class 'tensorflow.python.keras.optimizer_v2.rmsprop.RMSprop'>}\n",
            "0.139533 (0.045880) with: {'act_funct': 'relu', 'dropout_rate': 0.0, 'learning_rate': 0.0001, 'momentum': 0.99, 'opt': <class 'tensorflow.python.keras.optimizer_v2.adadelta.Adadelta'>}\n",
            "0.987700 (0.001221) with: {'act_funct': 'relu', 'dropout_rate': 0.0, 'learning_rate': 0.001, 'momentum': 0.0, 'opt': <class 'tensorflow.python.keras.optimizer_v2.adam.Adam'>}\n",
            "0.945850 (0.004949) with: {'act_funct': 'relu', 'dropout_rate': 0.0, 'learning_rate': 0.001, 'momentum': 0.0, 'opt': <class 'tensorflow.python.keras.optimizer_v2.adagrad.Adagrad'>}\n",
            "0.979000 (0.002274) with: {'act_funct': 'relu', 'dropout_rate': 0.0, 'learning_rate': 0.001, 'momentum': 0.0, 'opt': <class 'tensorflow.python.keras.optimizer_v2.rmsprop.RMSprop'>}\n",
            "0.317450 (0.075523) with: {'act_funct': 'relu', 'dropout_rate': 0.0, 'learning_rate': 0.001, 'momentum': 0.0, 'opt': <class 'tensorflow.python.keras.optimizer_v2.adadelta.Adadelta'>}\n",
            "0.986900 (0.001286) with: {'act_funct': 'relu', 'dropout_rate': 0.0, 'learning_rate': 0.001, 'momentum': 0.5, 'opt': <class 'tensorflow.python.keras.optimizer_v2.adam.Adam'>}\n",
            "0.840050 (0.007630) with: {'act_funct': 'relu', 'dropout_rate': 0.0, 'learning_rate': 0.001, 'momentum': 0.5, 'opt': <class 'tensorflow.python.keras.optimizer_v2.adagrad.Adagrad'>}\n",
            "0.986800 (0.001655) with: {'act_funct': 'relu', 'dropout_rate': 0.0, 'learning_rate': 0.001, 'momentum': 0.5, 'opt': <class 'tensorflow.python.keras.optimizer_v2.rmsprop.RMSprop'>}\n",
            "0.264633 (0.071658) with: {'act_funct': 'relu', 'dropout_rate': 0.0, 'learning_rate': 0.001, 'momentum': 0.5, 'opt': <class 'tensorflow.python.keras.optimizer_v2.adadelta.Adadelta'>}\n",
            "0.986283 (0.000957) with: {'act_funct': 'relu', 'dropout_rate': 0.0, 'learning_rate': 0.001, 'momentum': 0.9, 'opt': <class 'tensorflow.python.keras.optimizer_v2.adam.Adam'>}\n",
            "0.761333 (0.041426) with: {'act_funct': 'relu', 'dropout_rate': 0.0, 'learning_rate': 0.001, 'momentum': 0.9, 'opt': <class 'tensorflow.python.keras.optimizer_v2.adagrad.Adagrad'>}\n",
            "0.987333 (0.001726) with: {'act_funct': 'relu', 'dropout_rate': 0.0, 'learning_rate': 0.001, 'momentum': 0.9, 'opt': <class 'tensorflow.python.keras.optimizer_v2.rmsprop.RMSprop'>}\n",
            "0.336517 (0.078396) with: {'act_funct': 'relu', 'dropout_rate': 0.0, 'learning_rate': 0.001, 'momentum': 0.9, 'opt': <class 'tensorflow.python.keras.optimizer_v2.adadelta.Adadelta'>}\n",
            "0.984383 (0.001216) with: {'act_funct': 'relu', 'dropout_rate': 0.0, 'learning_rate': 0.001, 'momentum': 0.99, 'opt': <class 'tensorflow.python.keras.optimizer_v2.adam.Adam'>}\n",
            "0.744217 (0.070822) with: {'act_funct': 'relu', 'dropout_rate': 0.0, 'learning_rate': 0.001, 'momentum': 0.99, 'opt': <class 'tensorflow.python.keras.optimizer_v2.adagrad.Adagrad'>}\n",
            "0.987217 (0.001498) with: {'act_funct': 'relu', 'dropout_rate': 0.0, 'learning_rate': 0.001, 'momentum': 0.99, 'opt': <class 'tensorflow.python.keras.optimizer_v2.rmsprop.RMSprop'>}\n",
            "0.584233 (0.045769) with: {'act_funct': 'relu', 'dropout_rate': 0.0, 'learning_rate': 0.001, 'momentum': 0.99, 'opt': <class 'tensorflow.python.keras.optimizer_v2.adadelta.Adadelta'>}\n",
            "0.112367 (0.003342) with: {'act_funct': 'relu', 'dropout_rate': 0.0, 'learning_rate': 0.01, 'momentum': 0.0, 'opt': <class 'tensorflow.python.keras.optimizer_v2.adam.Adam'>}\n",
            "0.985383 (0.002083) with: {'act_funct': 'relu', 'dropout_rate': 0.0, 'learning_rate': 0.01, 'momentum': 0.0, 'opt': <class 'tensorflow.python.keras.optimizer_v2.adagrad.Adagrad'>}\n",
            "0.934217 (0.012980) with: {'act_funct': 'relu', 'dropout_rate': 0.0, 'learning_rate': 0.01, 'momentum': 0.0, 'opt': <class 'tensorflow.python.keras.optimizer_v2.rmsprop.RMSprop'>}\n",
            "0.885533 (0.006301) with: {'act_funct': 'relu', 'dropout_rate': 0.0, 'learning_rate': 0.01, 'momentum': 0.0, 'opt': <class 'tensorflow.python.keras.optimizer_v2.adadelta.Adadelta'>}\n",
            "0.973233 (0.006492) with: {'act_funct': 'relu', 'dropout_rate': 0.0, 'learning_rate': 0.01, 'momentum': 0.5, 'opt': <class 'tensorflow.python.keras.optimizer_v2.adam.Adam'>}\n",
            "0.967450 (0.002675) with: {'act_funct': 'relu', 'dropout_rate': 0.0, 'learning_rate': 0.01, 'momentum': 0.5, 'opt': <class 'tensorflow.python.keras.optimizer_v2.adagrad.Adagrad'>}\n",
            "0.964783 (0.006628) with: {'act_funct': 'relu', 'dropout_rate': 0.0, 'learning_rate': 0.01, 'momentum': 0.5, 'opt': <class 'tensorflow.python.keras.optimizer_v2.rmsprop.RMSprop'>}\n",
            "0.786717 (0.034532) with: {'act_funct': 'relu', 'dropout_rate': 0.0, 'learning_rate': 0.01, 'momentum': 0.5, 'opt': <class 'tensorflow.python.keras.optimizer_v2.adadelta.Adadelta'>}\n",
            "0.976583 (0.003168) with: {'act_funct': 'relu', 'dropout_rate': 0.0, 'learning_rate': 0.01, 'momentum': 0.9, 'opt': <class 'tensorflow.python.keras.optimizer_v2.adam.Adam'>}\n",
            "0.960233 (0.005164) with: {'act_funct': 'relu', 'dropout_rate': 0.0, 'learning_rate': 0.01, 'momentum': 0.9, 'opt': <class 'tensorflow.python.keras.optimizer_v2.adagrad.Adagrad'>}\n",
            "0.974017 (0.002622) with: {'act_funct': 'relu', 'dropout_rate': 0.0, 'learning_rate': 0.01, 'momentum': 0.9, 'opt': <class 'tensorflow.python.keras.optimizer_v2.rmsprop.RMSprop'>}\n",
            "0.869767 (0.010809) with: {'act_funct': 'relu', 'dropout_rate': 0.0, 'learning_rate': 0.01, 'momentum': 0.9, 'opt': <class 'tensorflow.python.keras.optimizer_v2.adadelta.Adadelta'>}\n",
            "0.976383 (0.001694) with: {'act_funct': 'relu', 'dropout_rate': 0.0, 'learning_rate': 0.01, 'momentum': 0.99, 'opt': <class 'tensorflow.python.keras.optimizer_v2.adam.Adam'>}\n",
            "0.955383 (0.004954) with: {'act_funct': 'relu', 'dropout_rate': 0.0, 'learning_rate': 0.01, 'momentum': 0.99, 'opt': <class 'tensorflow.python.keras.optimizer_v2.adagrad.Adagrad'>}\n",
            "0.972283 (0.008054) with: {'act_funct': 'relu', 'dropout_rate': 0.0, 'learning_rate': 0.01, 'momentum': 0.99, 'opt': <class 'tensorflow.python.keras.optimizer_v2.rmsprop.RMSprop'>}\n",
            "0.942717 (0.002975) with: {'act_funct': 'relu', 'dropout_rate': 0.0, 'learning_rate': 0.01, 'momentum': 0.99, 'opt': <class 'tensorflow.python.keras.optimizer_v2.adadelta.Adadelta'>}\n",
            "0.099967 (0.003456) with: {'act_funct': 'relu', 'dropout_rate': 0.0, 'learning_rate': 0.1, 'momentum': 0.0, 'opt': <class 'tensorflow.python.keras.optimizer_v2.adam.Adam'>}\n",
            "0.977483 (0.001868) with: {'act_funct': 'relu', 'dropout_rate': 0.0, 'learning_rate': 0.1, 'momentum': 0.0, 'opt': <class 'tensorflow.python.keras.optimizer_v2.adagrad.Adagrad'>}\n",
            "0.103550 (0.003276) with: {'act_funct': 'relu', 'dropout_rate': 0.0, 'learning_rate': 0.1, 'momentum': 0.0, 'opt': <class 'tensorflow.python.keras.optimizer_v2.rmsprop.RMSprop'>}\n",
            "0.964617 (0.001470) with: {'act_funct': 'relu', 'dropout_rate': 0.0, 'learning_rate': 0.1, 'momentum': 0.0, 'opt': <class 'tensorflow.python.keras.optimizer_v2.adadelta.Adadelta'>}\n",
            "0.104800 (0.006301) with: {'act_funct': 'relu', 'dropout_rate': 0.0, 'learning_rate': 0.1, 'momentum': 0.5, 'opt': <class 'tensorflow.python.keras.optimizer_v2.adam.Adam'>}\n",
            "0.985483 (0.001421) with: {'act_funct': 'relu', 'dropout_rate': 0.0, 'learning_rate': 0.1, 'momentum': 0.5, 'opt': <class 'tensorflow.python.keras.optimizer_v2.adagrad.Adagrad'>}\n",
            "0.105200 (0.006285) with: {'act_funct': 'relu', 'dropout_rate': 0.0, 'learning_rate': 0.1, 'momentum': 0.5, 'opt': <class 'tensorflow.python.keras.optimizer_v2.rmsprop.RMSprop'>}\n",
            "0.953650 (0.003423) with: {'act_funct': 'relu', 'dropout_rate': 0.0, 'learning_rate': 0.1, 'momentum': 0.5, 'opt': <class 'tensorflow.python.keras.optimizer_v2.adadelta.Adadelta'>}\n",
            "0.098850 (0.001736) with: {'act_funct': 'relu', 'dropout_rate': 0.0, 'learning_rate': 0.1, 'momentum': 0.9, 'opt': <class 'tensorflow.python.keras.optimizer_v2.adam.Adam'>}\n",
            "0.984917 (0.001415) with: {'act_funct': 'relu', 'dropout_rate': 0.0, 'learning_rate': 0.1, 'momentum': 0.9, 'opt': <class 'tensorflow.python.keras.optimizer_v2.adagrad.Adagrad'>}\n",
            "0.102733 (0.006858) with: {'act_funct': 'relu', 'dropout_rate': 0.0, 'learning_rate': 0.1, 'momentum': 0.9, 'opt': <class 'tensorflow.python.keras.optimizer_v2.rmsprop.RMSprop'>}\n",
            "0.967300 (0.002808) with: {'act_funct': 'relu', 'dropout_rate': 0.0, 'learning_rate': 0.1, 'momentum': 0.9, 'opt': <class 'tensorflow.python.keras.optimizer_v2.adadelta.Adadelta'>}\n",
            "0.106350 (0.004559) with: {'act_funct': 'relu', 'dropout_rate': 0.0, 'learning_rate': 0.1, 'momentum': 0.99, 'opt': <class 'tensorflow.python.keras.optimizer_v2.adam.Adam'>}\n",
            "0.983700 (0.001555) with: {'act_funct': 'relu', 'dropout_rate': 0.0, 'learning_rate': 0.1, 'momentum': 0.99, 'opt': <class 'tensorflow.python.keras.optimizer_v2.adagrad.Adagrad'>}\n",
            "0.103667 (0.005990) with: {'act_funct': 'relu', 'dropout_rate': 0.0, 'learning_rate': 0.1, 'momentum': 0.99, 'opt': <class 'tensorflow.python.keras.optimizer_v2.rmsprop.RMSprop'>}\n",
            "0.982317 (0.000661) with: {'act_funct': 'relu', 'dropout_rate': 0.0, 'learning_rate': 0.1, 'momentum': 0.99, 'opt': <class 'tensorflow.python.keras.optimizer_v2.adadelta.Adadelta'>}\n",
            "0.974617 (0.001742) with: {'act_funct': 'relu', 'dropout_rate': 0.25, 'learning_rate': 0.0001, 'momentum': 0.0, 'opt': <class 'tensorflow.python.keras.optimizer_v2.adam.Adam'>}\n",
            "0.745133 (0.032958) with: {'act_funct': 'relu', 'dropout_rate': 0.25, 'learning_rate': 0.0001, 'momentum': 0.0, 'opt': <class 'tensorflow.python.keras.optimizer_v2.adagrad.Adagrad'>}\n",
            "0.968650 (0.000445) with: {'act_funct': 'relu', 'dropout_rate': 0.25, 'learning_rate': 0.0001, 'momentum': 0.0, 'opt': <class 'tensorflow.python.keras.optimizer_v2.rmsprop.RMSprop'>}\n",
            "0.082067 (0.026949) with: {'act_funct': 'relu', 'dropout_rate': 0.25, 'learning_rate': 0.0001, 'momentum': 0.0, 'opt': <class 'tensorflow.python.keras.optimizer_v2.adadelta.Adadelta'>}\n",
            "0.975650 (0.001438) with: {'act_funct': 'relu', 'dropout_rate': 0.25, 'learning_rate': 0.0001, 'momentum': 0.5, 'opt': <class 'tensorflow.python.keras.optimizer_v2.adam.Adam'>}\n",
            "0.218983 (0.030408) with: {'act_funct': 'relu', 'dropout_rate': 0.25, 'learning_rate': 0.0001, 'momentum': 0.5, 'opt': <class 'tensorflow.python.keras.optimizer_v2.adagrad.Adagrad'>}\n",
            "0.969467 (0.000826) with: {'act_funct': 'relu', 'dropout_rate': 0.25, 'learning_rate': 0.0001, 'momentum': 0.5, 'opt': <class 'tensorflow.python.keras.optimizer_v2.rmsprop.RMSprop'>}\n",
            "0.136583 (0.023853) with: {'act_funct': 'relu', 'dropout_rate': 0.25, 'learning_rate': 0.0001, 'momentum': 0.5, 'opt': <class 'tensorflow.python.keras.optimizer_v2.adadelta.Adadelta'>}\n",
            "0.973933 (0.002120) with: {'act_funct': 'relu', 'dropout_rate': 0.25, 'learning_rate': 0.0001, 'momentum': 0.9, 'opt': <class 'tensorflow.python.keras.optimizer_v2.adam.Adam'>}\n",
            "0.137083 (0.041929) with: {'act_funct': 'relu', 'dropout_rate': 0.25, 'learning_rate': 0.0001, 'momentum': 0.9, 'opt': <class 'tensorflow.python.keras.optimizer_v2.adagrad.Adagrad'>}\n",
            "0.973233 (0.001855) with: {'act_funct': 'relu', 'dropout_rate': 0.25, 'learning_rate': 0.0001, 'momentum': 0.9, 'opt': <class 'tensorflow.python.keras.optimizer_v2.rmsprop.RMSprop'>}\n",
            "0.099133 (0.024310) with: {'act_funct': 'relu', 'dropout_rate': 0.25, 'learning_rate': 0.0001, 'momentum': 0.9, 'opt': <class 'tensorflow.python.keras.optimizer_v2.adadelta.Adadelta'>}\n",
            "0.973450 (0.001817) with: {'act_funct': 'relu', 'dropout_rate': 0.25, 'learning_rate': 0.0001, 'momentum': 0.99, 'opt': <class 'tensorflow.python.keras.optimizer_v2.adam.Adam'>}\n",
            "0.172383 (0.037653) with: {'act_funct': 'relu', 'dropout_rate': 0.25, 'learning_rate': 0.0001, 'momentum': 0.99, 'opt': <class 'tensorflow.python.keras.optimizer_v2.adagrad.Adagrad'>}\n",
            "0.974733 (0.001411) with: {'act_funct': 'relu', 'dropout_rate': 0.25, 'learning_rate': 0.0001, 'momentum': 0.99, 'opt': <class 'tensorflow.python.keras.optimizer_v2.rmsprop.RMSprop'>}\n",
            "0.113750 (0.019519) with: {'act_funct': 'relu', 'dropout_rate': 0.25, 'learning_rate': 0.0001, 'momentum': 0.99, 'opt': <class 'tensorflow.python.keras.optimizer_v2.adadelta.Adadelta'>}\n",
            "0.988600 (0.002141) with: {'act_funct': 'relu', 'dropout_rate': 0.25, 'learning_rate': 0.001, 'momentum': 0.0, 'opt': <class 'tensorflow.python.keras.optimizer_v2.adam.Adam'>}\n",
            "0.949033 (0.002401) with: {'act_funct': 'relu', 'dropout_rate': 0.25, 'learning_rate': 0.001, 'momentum': 0.0, 'opt': <class 'tensorflow.python.keras.optimizer_v2.adagrad.Adagrad'>}\n",
            "0.967967 (0.005036) with: {'act_funct': 'relu', 'dropout_rate': 0.25, 'learning_rate': 0.001, 'momentum': 0.0, 'opt': <class 'tensorflow.python.keras.optimizer_v2.rmsprop.RMSprop'>}\n",
            "0.316967 (0.063173) with: {'act_funct': 'relu', 'dropout_rate': 0.25, 'learning_rate': 0.001, 'momentum': 0.0, 'opt': <class 'tensorflow.python.keras.optimizer_v2.adadelta.Adadelta'>}\n",
            "0.987100 (0.000854) with: {'act_funct': 'relu', 'dropout_rate': 0.25, 'learning_rate': 0.001, 'momentum': 0.5, 'opt': <class 'tensorflow.python.keras.optimizer_v2.adam.Adam'>}\n",
            "0.813083 (0.024577) with: {'act_funct': 'relu', 'dropout_rate': 0.25, 'learning_rate': 0.001, 'momentum': 0.5, 'opt': <class 'tensorflow.python.keras.optimizer_v2.adagrad.Adagrad'>}\n",
            "0.988617 (0.000980) with: {'act_funct': 'relu', 'dropout_rate': 0.25, 'learning_rate': 0.001, 'momentum': 0.5, 'opt': <class 'tensorflow.python.keras.optimizer_v2.rmsprop.RMSprop'>}\n",
            "0.222600 (0.038624) with: {'act_funct': 'relu', 'dropout_rate': 0.25, 'learning_rate': 0.001, 'momentum': 0.5, 'opt': <class 'tensorflow.python.keras.optimizer_v2.adadelta.Adadelta'>}\n",
            "0.987950 (0.000841) with: {'act_funct': 'relu', 'dropout_rate': 0.25, 'learning_rate': 0.001, 'momentum': 0.9, 'opt': <class 'tensorflow.python.keras.optimizer_v2.adam.Adam'>}\n",
            "0.749017 (0.026466) with: {'act_funct': 'relu', 'dropout_rate': 0.25, 'learning_rate': 0.001, 'momentum': 0.9, 'opt': <class 'tensorflow.python.keras.optimizer_v2.adagrad.Adagrad'>}\n",
            "0.985533 (0.002897) with: {'act_funct': 'relu', 'dropout_rate': 0.25, 'learning_rate': 0.001, 'momentum': 0.9, 'opt': <class 'tensorflow.python.keras.optimizer_v2.rmsprop.RMSprop'>}\n",
            "0.246833 (0.078821) with: {'act_funct': 'relu', 'dropout_rate': 0.25, 'learning_rate': 0.001, 'momentum': 0.9, 'opt': <class 'tensorflow.python.keras.optimizer_v2.adadelta.Adadelta'>}\n",
            "0.987033 (0.001716) with: {'act_funct': 'relu', 'dropout_rate': 0.25, 'learning_rate': 0.001, 'momentum': 0.99, 'opt': <class 'tensorflow.python.keras.optimizer_v2.adam.Adam'>}\n",
            "0.718717 (0.040300) with: {'act_funct': 'relu', 'dropout_rate': 0.25, 'learning_rate': 0.001, 'momentum': 0.99, 'opt': <class 'tensorflow.python.keras.optimizer_v2.adagrad.Adagrad'>}\n",
            "0.986767 (0.001512) with: {'act_funct': 'relu', 'dropout_rate': 0.25, 'learning_rate': 0.001, 'momentum': 0.99, 'opt': <class 'tensorflow.python.keras.optimizer_v2.rmsprop.RMSprop'>}\n",
            "0.418817 (0.072752) with: {'act_funct': 'relu', 'dropout_rate': 0.25, 'learning_rate': 0.001, 'momentum': 0.99, 'opt': <class 'tensorflow.python.keras.optimizer_v2.adadelta.Adadelta'>}\n",
            "0.804767 (0.346095) with: {'act_funct': 'relu', 'dropout_rate': 0.25, 'learning_rate': 0.01, 'momentum': 0.0, 'opt': <class 'tensorflow.python.keras.optimizer_v2.adam.Adam'>}\n",
            "0.987283 (0.001043) with: {'act_funct': 'relu', 'dropout_rate': 0.25, 'learning_rate': 0.01, 'momentum': 0.0, 'opt': <class 'tensorflow.python.keras.optimizer_v2.adagrad.Adagrad'>}\n",
            "0.828267 (0.083770) with: {'act_funct': 'relu', 'dropout_rate': 0.25, 'learning_rate': 0.01, 'momentum': 0.0, 'opt': <class 'tensorflow.python.keras.optimizer_v2.rmsprop.RMSprop'>}\n",
            "0.871900 (0.012794) with: {'act_funct': 'relu', 'dropout_rate': 0.25, 'learning_rate': 0.01, 'momentum': 0.0, 'opt': <class 'tensorflow.python.keras.optimizer_v2.adadelta.Adadelta'>}\n",
            "0.976783 (0.003083) with: {'act_funct': 'relu', 'dropout_rate': 0.25, 'learning_rate': 0.01, 'momentum': 0.5, 'opt': <class 'tensorflow.python.keras.optimizer_v2.adam.Adam'>}\n",
            "0.966383 (0.002049) with: {'act_funct': 'relu', 'dropout_rate': 0.25, 'learning_rate': 0.01, 'momentum': 0.5, 'opt': <class 'tensorflow.python.keras.optimizer_v2.adagrad.Adagrad'>}\n",
            "0.956517 (0.010859) with: {'act_funct': 'relu', 'dropout_rate': 0.25, 'learning_rate': 0.01, 'momentum': 0.5, 'opt': <class 'tensorflow.python.keras.optimizer_v2.rmsprop.RMSprop'>}\n",
            "0.751050 (0.030719) with: {'act_funct': 'relu', 'dropout_rate': 0.25, 'learning_rate': 0.01, 'momentum': 0.5, 'opt': <class 'tensorflow.python.keras.optimizer_v2.adadelta.Adadelta'>}\n",
            "0.976817 (0.003631) with: {'act_funct': 'relu', 'dropout_rate': 0.25, 'learning_rate': 0.01, 'momentum': 0.9, 'opt': <class 'tensorflow.python.keras.optimizer_v2.adam.Adam'>}\n",
            "0.963100 (0.002205) with: {'act_funct': 'relu', 'dropout_rate': 0.25, 'learning_rate': 0.01, 'momentum': 0.9, 'opt': <class 'tensorflow.python.keras.optimizer_v2.adagrad.Adagrad'>}\n",
            "0.974983 (0.003108) with: {'act_funct': 'relu', 'dropout_rate': 0.25, 'learning_rate': 0.01, 'momentum': 0.9, 'opt': <class 'tensorflow.python.keras.optimizer_v2.rmsprop.RMSprop'>}\n",
            "0.845400 (0.005977) with: {'act_funct': 'relu', 'dropout_rate': 0.25, 'learning_rate': 0.01, 'momentum': 0.9, 'opt': <class 'tensorflow.python.keras.optimizer_v2.adadelta.Adadelta'>}\n",
            "0.977700 (0.002011) with: {'act_funct': 'relu', 'dropout_rate': 0.25, 'learning_rate': 0.01, 'momentum': 0.99, 'opt': <class 'tensorflow.python.keras.optimizer_v2.adam.Adam'>}\n",
            "0.961800 (0.003427) with: {'act_funct': 'relu', 'dropout_rate': 0.25, 'learning_rate': 0.01, 'momentum': 0.99, 'opt': <class 'tensorflow.python.keras.optimizer_v2.adagrad.Adagrad'>}\n",
            "0.974283 (0.003696) with: {'act_funct': 'relu', 'dropout_rate': 0.25, 'learning_rate': 0.01, 'momentum': 0.99, 'opt': <class 'tensorflow.python.keras.optimizer_v2.rmsprop.RMSprop'>}\n",
            "0.947517 (0.003372) with: {'act_funct': 'relu', 'dropout_rate': 0.25, 'learning_rate': 0.01, 'momentum': 0.99, 'opt': <class 'tensorflow.python.keras.optimizer_v2.adadelta.Adadelta'>}\n",
            "0.106233 (0.006833) with: {'act_funct': 'relu', 'dropout_rate': 0.25, 'learning_rate': 0.1, 'momentum': 0.0, 'opt': <class 'tensorflow.python.keras.optimizer_v2.adam.Adam'>}\n",
            "0.978517 (0.002062) with: {'act_funct': 'relu', 'dropout_rate': 0.25, 'learning_rate': 0.1, 'momentum': 0.0, 'opt': <class 'tensorflow.python.keras.optimizer_v2.adagrad.Adagrad'>}\n",
            "0.098983 (0.005948) with: {'act_funct': 'relu', 'dropout_rate': 0.25, 'learning_rate': 0.1, 'momentum': 0.0, 'opt': <class 'tensorflow.python.keras.optimizer_v2.rmsprop.RMSprop'>}\n",
            "0.967033 (0.002323) with: {'act_funct': 'relu', 'dropout_rate': 0.25, 'learning_rate': 0.1, 'momentum': 0.0, 'opt': <class 'tensorflow.python.keras.optimizer_v2.adadelta.Adadelta'>}\n",
            "0.101217 (0.002617) with: {'act_funct': 'relu', 'dropout_rate': 0.25, 'learning_rate': 0.1, 'momentum': 0.5, 'opt': <class 'tensorflow.python.keras.optimizer_v2.adam.Adam'>}\n",
            "0.985483 (0.002023) with: {'act_funct': 'relu', 'dropout_rate': 0.25, 'learning_rate': 0.1, 'momentum': 0.5, 'opt': <class 'tensorflow.python.keras.optimizer_v2.adagrad.Adagrad'>}\n",
            "0.106800 (0.007901) with: {'act_funct': 'relu', 'dropout_rate': 0.25, 'learning_rate': 0.1, 'momentum': 0.5, 'opt': <class 'tensorflow.python.keras.optimizer_v2.rmsprop.RMSprop'>}\n",
            "0.955767 (0.002827) with: {'act_funct': 'relu', 'dropout_rate': 0.25, 'learning_rate': 0.1, 'momentum': 0.5, 'opt': <class 'tensorflow.python.keras.optimizer_v2.adadelta.Adadelta'>}\n",
            "0.106767 (0.006421) with: {'act_funct': 'relu', 'dropout_rate': 0.25, 'learning_rate': 0.1, 'momentum': 0.9, 'opt': <class 'tensorflow.python.keras.optimizer_v2.adam.Adam'>}\n",
            "0.984417 (0.002875) with: {'act_funct': 'relu', 'dropout_rate': 0.25, 'learning_rate': 0.1, 'momentum': 0.9, 'opt': <class 'tensorflow.python.keras.optimizer_v2.adagrad.Adagrad'>}\n",
            "0.104900 (0.005631) with: {'act_funct': 'relu', 'dropout_rate': 0.25, 'learning_rate': 0.1, 'momentum': 0.9, 'opt': <class 'tensorflow.python.keras.optimizer_v2.rmsprop.RMSprop'>}\n",
            "0.968333 (0.001814) with: {'act_funct': 'relu', 'dropout_rate': 0.25, 'learning_rate': 0.1, 'momentum': 0.9, 'opt': <class 'tensorflow.python.keras.optimizer_v2.adadelta.Adadelta'>}\n",
            "0.098850 (0.001950) with: {'act_funct': 'relu', 'dropout_rate': 0.25, 'learning_rate': 0.1, 'momentum': 0.99, 'opt': <class 'tensorflow.python.keras.optimizer_v2.adam.Adam'>}\n",
            "0.984783 (0.002322) with: {'act_funct': 'relu', 'dropout_rate': 0.25, 'learning_rate': 0.1, 'momentum': 0.99, 'opt': <class 'tensorflow.python.keras.optimizer_v2.adagrad.Adagrad'>}\n",
            "0.102083 (0.002992) with: {'act_funct': 'relu', 'dropout_rate': 0.25, 'learning_rate': 0.1, 'momentum': 0.99, 'opt': <class 'tensorflow.python.keras.optimizer_v2.rmsprop.RMSprop'>}\n",
            "0.982667 (0.002092) with: {'act_funct': 'relu', 'dropout_rate': 0.25, 'learning_rate': 0.1, 'momentum': 0.99, 'opt': <class 'tensorflow.python.keras.optimizer_v2.adadelta.Adadelta'>}\n",
            "0.971717 (0.002742) with: {'act_funct': 'relu', 'dropout_rate': 0.5, 'learning_rate': 0.0001, 'momentum': 0.0, 'opt': <class 'tensorflow.python.keras.optimizer_v2.adam.Adam'>}\n",
            "0.714817 (0.049816) with: {'act_funct': 'relu', 'dropout_rate': 0.5, 'learning_rate': 0.0001, 'momentum': 0.0, 'opt': <class 'tensorflow.python.keras.optimizer_v2.adagrad.Adagrad'>}\n",
            "0.962917 (0.004886) with: {'act_funct': 'relu', 'dropout_rate': 0.5, 'learning_rate': 0.0001, 'momentum': 0.0, 'opt': <class 'tensorflow.python.keras.optimizer_v2.rmsprop.RMSprop'>}\n",
            "0.090233 (0.009785) with: {'act_funct': 'relu', 'dropout_rate': 0.5, 'learning_rate': 0.0001, 'momentum': 0.0, 'opt': <class 'tensorflow.python.keras.optimizer_v2.adadelta.Adadelta'>}\n",
            "0.971217 (0.002131) with: {'act_funct': 'relu', 'dropout_rate': 0.5, 'learning_rate': 0.0001, 'momentum': 0.5, 'opt': <class 'tensorflow.python.keras.optimizer_v2.adam.Adam'>}\n",
            "0.153800 (0.033532) with: {'act_funct': 'relu', 'dropout_rate': 0.5, 'learning_rate': 0.0001, 'momentum': 0.5, 'opt': <class 'tensorflow.python.keras.optimizer_v2.adagrad.Adagrad'>}\n",
            "0.966333 (0.002851) with: {'act_funct': 'relu', 'dropout_rate': 0.5, 'learning_rate': 0.0001, 'momentum': 0.5, 'opt': <class 'tensorflow.python.keras.optimizer_v2.rmsprop.RMSprop'>}\n",
            "0.108500 (0.020451) with: {'act_funct': 'relu', 'dropout_rate': 0.5, 'learning_rate': 0.0001, 'momentum': 0.5, 'opt': <class 'tensorflow.python.keras.optimizer_v2.adadelta.Adadelta'>}\n",
            "0.972267 (0.001999) with: {'act_funct': 'relu', 'dropout_rate': 0.5, 'learning_rate': 0.0001, 'momentum': 0.9, 'opt': <class 'tensorflow.python.keras.optimizer_v2.adam.Adam'>}\n",
            "0.175300 (0.071697) with: {'act_funct': 'relu', 'dropout_rate': 0.5, 'learning_rate': 0.0001, 'momentum': 0.9, 'opt': <class 'tensorflow.python.keras.optimizer_v2.adagrad.Adagrad'>}\n",
            "0.969933 (0.002920) with: {'act_funct': 'relu', 'dropout_rate': 0.5, 'learning_rate': 0.0001, 'momentum': 0.9, 'opt': <class 'tensorflow.python.keras.optimizer_v2.rmsprop.RMSprop'>}\n",
            "0.124033 (0.029189) with: {'act_funct': 'relu', 'dropout_rate': 0.5, 'learning_rate': 0.0001, 'momentum': 0.9, 'opt': <class 'tensorflow.python.keras.optimizer_v2.adadelta.Adadelta'>}\n",
            "0.970067 (0.002134) with: {'act_funct': 'relu', 'dropout_rate': 0.5, 'learning_rate': 0.0001, 'momentum': 0.99, 'opt': <class 'tensorflow.python.keras.optimizer_v2.adam.Adam'>}\n",
            "0.200100 (0.048906) with: {'act_funct': 'relu', 'dropout_rate': 0.5, 'learning_rate': 0.0001, 'momentum': 0.99, 'opt': <class 'tensorflow.python.keras.optimizer_v2.adagrad.Adagrad'>}\n",
            "0.971450 (0.002563) with: {'act_funct': 'relu', 'dropout_rate': 0.5, 'learning_rate': 0.0001, 'momentum': 0.99, 'opt': <class 'tensorflow.python.keras.optimizer_v2.rmsprop.RMSprop'>}\n",
            "0.127833 (0.026741) with: {'act_funct': 'relu', 'dropout_rate': 0.5, 'learning_rate': 0.0001, 'momentum': 0.99, 'opt': <class 'tensorflow.python.keras.optimizer_v2.adadelta.Adadelta'>}\n",
            "0.987183 (0.002437) with: {'act_funct': 'relu', 'dropout_rate': 0.5, 'learning_rate': 0.001, 'momentum': 0.0, 'opt': <class 'tensorflow.python.keras.optimizer_v2.adam.Adam'>}\n",
            "0.944133 (0.002552) with: {'act_funct': 'relu', 'dropout_rate': 0.5, 'learning_rate': 0.001, 'momentum': 0.0, 'opt': <class 'tensorflow.python.keras.optimizer_v2.adagrad.Adagrad'>}\n",
            "0.957250 (0.016500) with: {'act_funct': 'relu', 'dropout_rate': 0.5, 'learning_rate': 0.001, 'momentum': 0.0, 'opt': <class 'tensorflow.python.keras.optimizer_v2.rmsprop.RMSprop'>}\n",
            "0.224500 (0.056375) with: {'act_funct': 'relu', 'dropout_rate': 0.5, 'learning_rate': 0.001, 'momentum': 0.0, 'opt': <class 'tensorflow.python.keras.optimizer_v2.adadelta.Adadelta'>}\n",
            "0.987967 (0.001905) with: {'act_funct': 'relu', 'dropout_rate': 0.5, 'learning_rate': 0.001, 'momentum': 0.5, 'opt': <class 'tensorflow.python.keras.optimizer_v2.adam.Adam'>}\n",
            "0.767183 (0.030193) with: {'act_funct': 'relu', 'dropout_rate': 0.5, 'learning_rate': 0.001, 'momentum': 0.5, 'opt': <class 'tensorflow.python.keras.optimizer_v2.adagrad.Adagrad'>}\n",
            "0.984367 (0.001503) with: {'act_funct': 'relu', 'dropout_rate': 0.5, 'learning_rate': 0.001, 'momentum': 0.5, 'opt': <class 'tensorflow.python.keras.optimizer_v2.rmsprop.RMSprop'>}\n",
            "0.236067 (0.060652) with: {'act_funct': 'relu', 'dropout_rate': 0.5, 'learning_rate': 0.001, 'momentum': 0.5, 'opt': <class 'tensorflow.python.keras.optimizer_v2.adadelta.Adadelta'>}\n",
            "0.987200 (0.001790) with: {'act_funct': 'relu', 'dropout_rate': 0.5, 'learning_rate': 0.001, 'momentum': 0.9, 'opt': <class 'tensorflow.python.keras.optimizer_v2.adam.Adam'>}\n",
            "0.687000 (0.055907) with: {'act_funct': 'relu', 'dropout_rate': 0.5, 'learning_rate': 0.001, 'momentum': 0.9, 'opt': <class 'tensorflow.python.keras.optimizer_v2.adagrad.Adagrad'>}\n",
            "0.988450 (0.001148) with: {'act_funct': 'relu', 'dropout_rate': 0.5, 'learning_rate': 0.001, 'momentum': 0.9, 'opt': <class 'tensorflow.python.keras.optimizer_v2.rmsprop.RMSprop'>}\n",
            "0.220683 (0.052152) with: {'act_funct': 'relu', 'dropout_rate': 0.5, 'learning_rate': 0.001, 'momentum': 0.9, 'opt': <class 'tensorflow.python.keras.optimizer_v2.adadelta.Adadelta'>}\n",
            "0.987483 (0.001082) with: {'act_funct': 'relu', 'dropout_rate': 0.5, 'learning_rate': 0.001, 'momentum': 0.99, 'opt': <class 'tensorflow.python.keras.optimizer_v2.adam.Adam'>}\n",
            "0.639850 (0.027188) with: {'act_funct': 'relu', 'dropout_rate': 0.5, 'learning_rate': 0.001, 'momentum': 0.99, 'opt': <class 'tensorflow.python.keras.optimizer_v2.adagrad.Adagrad'>}\n",
            "0.987683 (0.001852) with: {'act_funct': 'relu', 'dropout_rate': 0.5, 'learning_rate': 0.001, 'momentum': 0.99, 'opt': <class 'tensorflow.python.keras.optimizer_v2.rmsprop.RMSprop'>}\n",
            "0.436217 (0.065351) with: {'act_funct': 'relu', 'dropout_rate': 0.5, 'learning_rate': 0.001, 'momentum': 0.99, 'opt': <class 'tensorflow.python.keras.optimizer_v2.adadelta.Adadelta'>}\n",
            "0.977167 (0.004905) with: {'act_funct': 'relu', 'dropout_rate': 0.5, 'learning_rate': 0.01, 'momentum': 0.0, 'opt': <class 'tensorflow.python.keras.optimizer_v2.adam.Adam'>}\n",
            "0.985733 (0.001479) with: {'act_funct': 'relu', 'dropout_rate': 0.5, 'learning_rate': 0.01, 'momentum': 0.0, 'opt': <class 'tensorflow.python.keras.optimizer_v2.adagrad.Adagrad'>}\n",
            "0.812783 (0.033175) with: {'act_funct': 'relu', 'dropout_rate': 0.5, 'learning_rate': 0.01, 'momentum': 0.0, 'opt': <class 'tensorflow.python.keras.optimizer_v2.rmsprop.RMSprop'>}\n",
            "0.845550 (0.009906) with: {'act_funct': 'relu', 'dropout_rate': 0.5, 'learning_rate': 0.01, 'momentum': 0.0, 'opt': <class 'tensorflow.python.keras.optimizer_v2.adadelta.Adadelta'>}\n",
            "0.978517 (0.004836) with: {'act_funct': 'relu', 'dropout_rate': 0.5, 'learning_rate': 0.01, 'momentum': 0.5, 'opt': <class 'tensorflow.python.keras.optimizer_v2.adam.Adam'>}\n",
            "0.964650 (0.000271) with: {'act_funct': 'relu', 'dropout_rate': 0.5, 'learning_rate': 0.01, 'momentum': 0.5, 'opt': <class 'tensorflow.python.keras.optimizer_v2.adagrad.Adagrad'>}\n",
            "0.966283 (0.003670) with: {'act_funct': 'relu', 'dropout_rate': 0.5, 'learning_rate': 0.01, 'momentum': 0.5, 'opt': <class 'tensorflow.python.keras.optimizer_v2.rmsprop.RMSprop'>}\n",
            "0.696617 (0.018318) with: {'act_funct': 'relu', 'dropout_rate': 0.5, 'learning_rate': 0.01, 'momentum': 0.5, 'opt': <class 'tensorflow.python.keras.optimizer_v2.adadelta.Adadelta'>}\n",
            "0.977233 (0.001948) with: {'act_funct': 'relu', 'dropout_rate': 0.5, 'learning_rate': 0.01, 'momentum': 0.9, 'opt': <class 'tensorflow.python.keras.optimizer_v2.adam.Adam'>}\n",
            "0.960017 (0.003605) with: {'act_funct': 'relu', 'dropout_rate': 0.5, 'learning_rate': 0.01, 'momentum': 0.9, 'opt': <class 'tensorflow.python.keras.optimizer_v2.adagrad.Adagrad'>}\n",
            "0.966333 (0.018113) with: {'act_funct': 'relu', 'dropout_rate': 0.5, 'learning_rate': 0.01, 'momentum': 0.9, 'opt': <class 'tensorflow.python.keras.optimizer_v2.rmsprop.RMSprop'>}\n",
            "0.793183 (0.019915) with: {'act_funct': 'relu', 'dropout_rate': 0.5, 'learning_rate': 0.01, 'momentum': 0.9, 'opt': <class 'tensorflow.python.keras.optimizer_v2.adadelta.Adadelta'>}\n",
            "0.978333 (0.002547) with: {'act_funct': 'relu', 'dropout_rate': 0.5, 'learning_rate': 0.01, 'momentum': 0.99, 'opt': <class 'tensorflow.python.keras.optimizer_v2.adam.Adam'>}\n",
            "0.957800 (0.002257) with: {'act_funct': 'relu', 'dropout_rate': 0.5, 'learning_rate': 0.01, 'momentum': 0.99, 'opt': <class 'tensorflow.python.keras.optimizer_v2.adagrad.Adagrad'>}\n",
            "0.804200 (0.344559) with: {'act_funct': 'relu', 'dropout_rate': 0.5, 'learning_rate': 0.01, 'momentum': 0.99, 'opt': <class 'tensorflow.python.keras.optimizer_v2.rmsprop.RMSprop'>}\n",
            "0.941617 (0.004453) with: {'act_funct': 'relu', 'dropout_rate': 0.5, 'learning_rate': 0.01, 'momentum': 0.99, 'opt': <class 'tensorflow.python.keras.optimizer_v2.adadelta.Adadelta'>}\n",
            "0.100167 (0.002968) with: {'act_funct': 'relu', 'dropout_rate': 0.5, 'learning_rate': 0.1, 'momentum': 0.0, 'opt': <class 'tensorflow.python.keras.optimizer_v2.adam.Adam'>}\n",
            "0.973900 (0.003848) with: {'act_funct': 'relu', 'dropout_rate': 0.5, 'learning_rate': 0.1, 'momentum': 0.0, 'opt': <class 'tensorflow.python.keras.optimizer_v2.adagrad.Adagrad'>}\n",
            "0.104617 (0.008144) with: {'act_funct': 'relu', 'dropout_rate': 0.5, 'learning_rate': 0.1, 'momentum': 0.0, 'opt': <class 'tensorflow.python.keras.optimizer_v2.rmsprop.RMSprop'>}\n",
            "0.964000 (0.003315) with: {'act_funct': 'relu', 'dropout_rate': 0.5, 'learning_rate': 0.1, 'momentum': 0.0, 'opt': <class 'tensorflow.python.keras.optimizer_v2.adadelta.Adadelta'>}\n",
            "0.101917 (0.004253) with: {'act_funct': 'relu', 'dropout_rate': 0.5, 'learning_rate': 0.1, 'momentum': 0.5, 'opt': <class 'tensorflow.python.keras.optimizer_v2.adam.Adam'>}\n",
            "0.986667 (0.000973) with: {'act_funct': 'relu', 'dropout_rate': 0.5, 'learning_rate': 0.1, 'momentum': 0.5, 'opt': <class 'tensorflow.python.keras.optimizer_v2.adagrad.Adagrad'>}\n",
            "0.103117 (0.005167) with: {'act_funct': 'relu', 'dropout_rate': 0.5, 'learning_rate': 0.1, 'momentum': 0.5, 'opt': <class 'tensorflow.python.keras.optimizer_v2.rmsprop.RMSprop'>}\n",
            "0.948433 (0.004947) with: {'act_funct': 'relu', 'dropout_rate': 0.5, 'learning_rate': 0.1, 'momentum': 0.5, 'opt': <class 'tensorflow.python.keras.optimizer_v2.adadelta.Adadelta'>}\n",
            "0.105700 (0.005818) with: {'act_funct': 'relu', 'dropout_rate': 0.5, 'learning_rate': 0.1, 'momentum': 0.9, 'opt': <class 'tensorflow.python.keras.optimizer_v2.adam.Adam'>}\n",
            "0.985583 (0.001347) with: {'act_funct': 'relu', 'dropout_rate': 0.5, 'learning_rate': 0.1, 'momentum': 0.9, 'opt': <class 'tensorflow.python.keras.optimizer_v2.adagrad.Adagrad'>}\n",
            "0.104467 (0.006921) with: {'act_funct': 'relu', 'dropout_rate': 0.5, 'learning_rate': 0.1, 'momentum': 0.9, 'opt': <class 'tensorflow.python.keras.optimizer_v2.rmsprop.RMSprop'>}\n",
            "0.964933 (0.002139) with: {'act_funct': 'relu', 'dropout_rate': 0.5, 'learning_rate': 0.1, 'momentum': 0.9, 'opt': <class 'tensorflow.python.keras.optimizer_v2.adadelta.Adadelta'>}\n",
            "0.105717 (0.006813) with: {'act_funct': 'relu', 'dropout_rate': 0.5, 'learning_rate': 0.1, 'momentum': 0.99, 'opt': <class 'tensorflow.python.keras.optimizer_v2.adam.Adam'>}\n",
            "0.983950 (0.001821) with: {'act_funct': 'relu', 'dropout_rate': 0.5, 'learning_rate': 0.1, 'momentum': 0.99, 'opt': <class 'tensorflow.python.keras.optimizer_v2.adagrad.Adagrad'>}\n",
            "0.112367 (0.003342) with: {'act_funct': 'relu', 'dropout_rate': 0.5, 'learning_rate': 0.1, 'momentum': 0.99, 'opt': <class 'tensorflow.python.keras.optimizer_v2.rmsprop.RMSprop'>}\n",
            "0.981850 (0.001536) with: {'act_funct': 'relu', 'dropout_rate': 0.5, 'learning_rate': 0.1, 'momentum': 0.99, 'opt': <class 'tensorflow.python.keras.optimizer_v2.adadelta.Adadelta'>}\n",
            "0.969467 (0.003675) with: {'act_funct': <tensorflow.python.keras.layers.advanced_activations.LeakyReLU object at 0x7f5d6804d350>, 'dropout_rate': 0.0, 'learning_rate': 0.0001, 'momentum': 0.0, 'opt': <class 'tensorflow.python.keras.optimizer_v2.adam.Adam'>}\n",
            "0.787917 (0.018979) with: {'act_funct': <tensorflow.python.keras.layers.advanced_activations.LeakyReLU object at 0x7f5d6804d350>, 'dropout_rate': 0.0, 'learning_rate': 0.0001, 'momentum': 0.0, 'opt': <class 'tensorflow.python.keras.optimizer_v2.adagrad.Adagrad'>}\n",
            "0.966267 (0.002758) with: {'act_funct': <tensorflow.python.keras.layers.advanced_activations.LeakyReLU object at 0x7f5d6804d350>, 'dropout_rate': 0.0, 'learning_rate': 0.0001, 'momentum': 0.0, 'opt': <class 'tensorflow.python.keras.optimizer_v2.rmsprop.RMSprop'>}\n",
            "0.103833 (0.033805) with: {'act_funct': <tensorflow.python.keras.layers.advanced_activations.LeakyReLU object at 0x7f5d6804d350>, 'dropout_rate': 0.0, 'learning_rate': 0.0001, 'momentum': 0.0, 'opt': <class 'tensorflow.python.keras.optimizer_v2.adadelta.Adadelta'>}\n",
            "0.972150 (0.001132) with: {'act_funct': <tensorflow.python.keras.layers.advanced_activations.LeakyReLU object at 0x7f5d6804d350>, 'dropout_rate': 0.0, 'learning_rate': 0.0001, 'momentum': 0.5, 'opt': <class 'tensorflow.python.keras.optimizer_v2.adam.Adam'>}\n",
            "0.275917 (0.080857) with: {'act_funct': <tensorflow.python.keras.layers.advanced_activations.LeakyReLU object at 0x7f5d6804d350>, 'dropout_rate': 0.0, 'learning_rate': 0.0001, 'momentum': 0.5, 'opt': <class 'tensorflow.python.keras.optimizer_v2.adagrad.Adagrad'>}\n",
            "0.967250 (0.001264) with: {'act_funct': <tensorflow.python.keras.layers.advanced_activations.LeakyReLU object at 0x7f5d6804d350>, 'dropout_rate': 0.0, 'learning_rate': 0.0001, 'momentum': 0.5, 'opt': <class 'tensorflow.python.keras.optimizer_v2.rmsprop.RMSprop'>}\n",
            "0.126967 (0.075746) with: {'act_funct': <tensorflow.python.keras.layers.advanced_activations.LeakyReLU object at 0x7f5d6804d350>, 'dropout_rate': 0.0, 'learning_rate': 0.0001, 'momentum': 0.5, 'opt': <class 'tensorflow.python.keras.optimizer_v2.adadelta.Adadelta'>}\n",
            "0.972433 (0.003475) with: {'act_funct': <tensorflow.python.keras.layers.advanced_activations.LeakyReLU object at 0x7f5d6804d350>, 'dropout_rate': 0.0, 'learning_rate': 0.0001, 'momentum': 0.9, 'opt': <class 'tensorflow.python.keras.optimizer_v2.adam.Adam'>}\n",
            "0.199667 (0.058943) with: {'act_funct': <tensorflow.python.keras.layers.advanced_activations.LeakyReLU object at 0x7f5d6804d350>, 'dropout_rate': 0.0, 'learning_rate': 0.0001, 'momentum': 0.9, 'opt': <class 'tensorflow.python.keras.optimizer_v2.adagrad.Adagrad'>}\n",
            "0.969933 (0.003382) with: {'act_funct': <tensorflow.python.keras.layers.advanced_activations.LeakyReLU object at 0x7f5d6804d350>, 'dropout_rate': 0.0, 'learning_rate': 0.0001, 'momentum': 0.9, 'opt': <class 'tensorflow.python.keras.optimizer_v2.rmsprop.RMSprop'>}\n",
            "0.119900 (0.033979) with: {'act_funct': <tensorflow.python.keras.layers.advanced_activations.LeakyReLU object at 0x7f5d6804d350>, 'dropout_rate': 0.0, 'learning_rate': 0.0001, 'momentum': 0.9, 'opt': <class 'tensorflow.python.keras.optimizer_v2.adadelta.Adadelta'>}\n",
            "0.969967 (0.002938) with: {'act_funct': <tensorflow.python.keras.layers.advanced_activations.LeakyReLU object at 0x7f5d6804d350>, 'dropout_rate': 0.0, 'learning_rate': 0.0001, 'momentum': 0.99, 'opt': <class 'tensorflow.python.keras.optimizer_v2.adam.Adam'>}\n",
            "0.196217 (0.086202) with: {'act_funct': <tensorflow.python.keras.layers.advanced_activations.LeakyReLU object at 0x7f5d6804d350>, 'dropout_rate': 0.0, 'learning_rate': 0.0001, 'momentum': 0.99, 'opt': <class 'tensorflow.python.keras.optimizer_v2.adagrad.Adagrad'>}\n",
            "0.972900 (0.002208) with: {'act_funct': <tensorflow.python.keras.layers.advanced_activations.LeakyReLU object at 0x7f5d6804d350>, 'dropout_rate': 0.0, 'learning_rate': 0.0001, 'momentum': 0.99, 'opt': <class 'tensorflow.python.keras.optimizer_v2.rmsprop.RMSprop'>}\n",
            "0.133800 (0.031853) with: {'act_funct': <tensorflow.python.keras.layers.advanced_activations.LeakyReLU object at 0x7f5d6804d350>, 'dropout_rate': 0.0, 'learning_rate': 0.0001, 'momentum': 0.99, 'opt': <class 'tensorflow.python.keras.optimizer_v2.adadelta.Adadelta'>}\n",
            "0.982583 (0.007140) with: {'act_funct': <tensorflow.python.keras.layers.advanced_activations.LeakyReLU object at 0x7f5d6804d350>, 'dropout_rate': 0.0, 'learning_rate': 0.001, 'momentum': 0.0, 'opt': <class 'tensorflow.python.keras.optimizer_v2.adam.Adam'>}\n",
            "0.948567 (0.003018) with: {'act_funct': <tensorflow.python.keras.layers.advanced_activations.LeakyReLU object at 0x7f5d6804d350>, 'dropout_rate': 0.0, 'learning_rate': 0.001, 'momentum': 0.0, 'opt': <class 'tensorflow.python.keras.optimizer_v2.adagrad.Adagrad'>}\n",
            "0.983733 (0.001321) with: {'act_funct': <tensorflow.python.keras.layers.advanced_activations.LeakyReLU object at 0x7f5d6804d350>, 'dropout_rate': 0.0, 'learning_rate': 0.001, 'momentum': 0.0, 'opt': <class 'tensorflow.python.keras.optimizer_v2.rmsprop.RMSprop'>}\n",
            "0.412250 (0.034343) with: {'act_funct': <tensorflow.python.keras.layers.advanced_activations.LeakyReLU object at 0x7f5d6804d350>, 'dropout_rate': 0.0, 'learning_rate': 0.001, 'momentum': 0.0, 'opt': <class 'tensorflow.python.keras.optimizer_v2.adadelta.Adadelta'>}\n",
            "0.985550 (0.002053) with: {'act_funct': <tensorflow.python.keras.layers.advanced_activations.LeakyReLU object at 0x7f5d6804d350>, 'dropout_rate': 0.0, 'learning_rate': 0.001, 'momentum': 0.5, 'opt': <class 'tensorflow.python.keras.optimizer_v2.adam.Adam'>}\n",
            "0.861450 (0.004928) with: {'act_funct': <tensorflow.python.keras.layers.advanced_activations.LeakyReLU object at 0x7f5d6804d350>, 'dropout_rate': 0.0, 'learning_rate': 0.001, 'momentum': 0.5, 'opt': <class 'tensorflow.python.keras.optimizer_v2.adagrad.Adagrad'>}\n",
            "0.986083 (0.001382) with: {'act_funct': <tensorflow.python.keras.layers.advanced_activations.LeakyReLU object at 0x7f5d6804d350>, 'dropout_rate': 0.0, 'learning_rate': 0.001, 'momentum': 0.5, 'opt': <class 'tensorflow.python.keras.optimizer_v2.rmsprop.RMSprop'>}\n",
            "0.300550 (0.060245) with: {'act_funct': <tensorflow.python.keras.layers.advanced_activations.LeakyReLU object at 0x7f5d6804d350>, 'dropout_rate': 0.0, 'learning_rate': 0.001, 'momentum': 0.5, 'opt': <class 'tensorflow.python.keras.optimizer_v2.adadelta.Adadelta'>}\n",
            "0.985800 (0.001775) with: {'act_funct': <tensorflow.python.keras.layers.advanced_activations.LeakyReLU object at 0x7f5d6804d350>, 'dropout_rate': 0.0, 'learning_rate': 0.001, 'momentum': 0.9, 'opt': <class 'tensorflow.python.keras.optimizer_v2.adam.Adam'>}\n",
            "0.807717 (0.035170) with: {'act_funct': <tensorflow.python.keras.layers.advanced_activations.LeakyReLU object at 0x7f5d6804d350>, 'dropout_rate': 0.0, 'learning_rate': 0.001, 'momentum': 0.9, 'opt': <class 'tensorflow.python.keras.optimizer_v2.adagrad.Adagrad'>}\n",
            "0.986233 (0.001999) with: {'act_funct': <tensorflow.python.keras.layers.advanced_activations.LeakyReLU object at 0x7f5d6804d350>, 'dropout_rate': 0.0, 'learning_rate': 0.001, 'momentum': 0.9, 'opt': <class 'tensorflow.python.keras.optimizer_v2.rmsprop.RMSprop'>}\n",
            "0.376300 (0.085255) with: {'act_funct': <tensorflow.python.keras.layers.advanced_activations.LeakyReLU object at 0x7f5d6804d350>, 'dropout_rate': 0.0, 'learning_rate': 0.001, 'momentum': 0.9, 'opt': <class 'tensorflow.python.keras.optimizer_v2.adadelta.Adadelta'>}\n",
            "0.984350 (0.000564) with: {'act_funct': <tensorflow.python.keras.layers.advanced_activations.LeakyReLU object at 0x7f5d6804d350>, 'dropout_rate': 0.0, 'learning_rate': 0.001, 'momentum': 0.99, 'opt': <class 'tensorflow.python.keras.optimizer_v2.adam.Adam'>}\n",
            "0.780850 (0.031958) with: {'act_funct': <tensorflow.python.keras.layers.advanced_activations.LeakyReLU object at 0x7f5d6804d350>, 'dropout_rate': 0.0, 'learning_rate': 0.001, 'momentum': 0.99, 'opt': <class 'tensorflow.python.keras.optimizer_v2.adagrad.Adagrad'>}\n",
            "0.987567 (0.001443) with: {'act_funct': <tensorflow.python.keras.layers.advanced_activations.LeakyReLU object at 0x7f5d6804d350>, 'dropout_rate': 0.0, 'learning_rate': 0.001, 'momentum': 0.99, 'opt': <class 'tensorflow.python.keras.optimizer_v2.rmsprop.RMSprop'>}\n",
            "0.644983 (0.056943) with: {'act_funct': <tensorflow.python.keras.layers.advanced_activations.LeakyReLU object at 0x7f5d6804d350>, 'dropout_rate': 0.0, 'learning_rate': 0.001, 'momentum': 0.99, 'opt': <class 'tensorflow.python.keras.optimizer_v2.adadelta.Adadelta'>}\n",
            "0.850650 (0.103627) with: {'act_funct': <tensorflow.python.keras.layers.advanced_activations.LeakyReLU object at 0x7f5d6804d350>, 'dropout_rate': 0.0, 'learning_rate': 0.01, 'momentum': 0.0, 'opt': <class 'tensorflow.python.keras.optimizer_v2.adam.Adam'>}\n",
            "0.986617 (0.001154) with: {'act_funct': <tensorflow.python.keras.layers.advanced_activations.LeakyReLU object at 0x7f5d6804d350>, 'dropout_rate': 0.0, 'learning_rate': 0.01, 'momentum': 0.0, 'opt': <class 'tensorflow.python.keras.optimizer_v2.adagrad.Adagrad'>}\n",
            "0.960700 (0.006719) with: {'act_funct': <tensorflow.python.keras.layers.advanced_activations.LeakyReLU object at 0x7f5d6804d350>, 'dropout_rate': 0.0, 'learning_rate': 0.01, 'momentum': 0.0, 'opt': <class 'tensorflow.python.keras.optimizer_v2.rmsprop.RMSprop'>}\n",
            "0.890350 (0.002723) with: {'act_funct': <tensorflow.python.keras.layers.advanced_activations.LeakyReLU object at 0x7f5d6804d350>, 'dropout_rate': 0.0, 'learning_rate': 0.01, 'momentum': 0.0, 'opt': <class 'tensorflow.python.keras.optimizer_v2.adadelta.Adadelta'>}\n",
            "0.962617 (0.015534) with: {'act_funct': <tensorflow.python.keras.layers.advanced_activations.LeakyReLU object at 0x7f5d6804d350>, 'dropout_rate': 0.0, 'learning_rate': 0.01, 'momentum': 0.5, 'opt': <class 'tensorflow.python.keras.optimizer_v2.adam.Adam'>}\n",
            "0.964317 (0.005670) with: {'act_funct': <tensorflow.python.keras.layers.advanced_activations.LeakyReLU object at 0x7f5d6804d350>, 'dropout_rate': 0.0, 'learning_rate': 0.01, 'momentum': 0.5, 'opt': <class 'tensorflow.python.keras.optimizer_v2.adagrad.Adagrad'>}\n",
            "0.954917 (0.006311) with: {'act_funct': <tensorflow.python.keras.layers.advanced_activations.LeakyReLU object at 0x7f5d6804d350>, 'dropout_rate': 0.0, 'learning_rate': 0.01, 'momentum': 0.5, 'opt': <class 'tensorflow.python.keras.optimizer_v2.rmsprop.RMSprop'>}\n",
            "0.834017 (0.018803) with: {'act_funct': <tensorflow.python.keras.layers.advanced_activations.LeakyReLU object at 0x7f5d6804d350>, 'dropout_rate': 0.0, 'learning_rate': 0.01, 'momentum': 0.5, 'opt': <class 'tensorflow.python.keras.optimizer_v2.adadelta.Adadelta'>}\n",
            "0.973483 (0.002331) with: {'act_funct': <tensorflow.python.keras.layers.advanced_activations.LeakyReLU object at 0x7f5d6804d350>, 'dropout_rate': 0.0, 'learning_rate': 0.01, 'momentum': 0.9, 'opt': <class 'tensorflow.python.keras.optimizer_v2.adam.Adam'>}\n",
            "0.961417 (0.002828) with: {'act_funct': <tensorflow.python.keras.layers.advanced_activations.LeakyReLU object at 0x7f5d6804d350>, 'dropout_rate': 0.0, 'learning_rate': 0.01, 'momentum': 0.9, 'opt': <class 'tensorflow.python.keras.optimizer_v2.adagrad.Adagrad'>}\n",
            "0.948483 (0.018486) with: {'act_funct': <tensorflow.python.keras.layers.advanced_activations.LeakyReLU object at 0x7f5d6804d350>, 'dropout_rate': 0.0, 'learning_rate': 0.01, 'momentum': 0.9, 'opt': <class 'tensorflow.python.keras.optimizer_v2.rmsprop.RMSprop'>}\n",
            "0.873900 (0.007237) with: {'act_funct': <tensorflow.python.keras.layers.advanced_activations.LeakyReLU object at 0x7f5d6804d350>, 'dropout_rate': 0.0, 'learning_rate': 0.01, 'momentum': 0.9, 'opt': <class 'tensorflow.python.keras.optimizer_v2.adadelta.Adadelta'>}\n",
            "0.955533 (0.019761) with: {'act_funct': <tensorflow.python.keras.layers.advanced_activations.LeakyReLU object at 0x7f5d6804d350>, 'dropout_rate': 0.0, 'learning_rate': 0.01, 'momentum': 0.99, 'opt': <class 'tensorflow.python.keras.optimizer_v2.adam.Adam'>}\n",
            "0.960900 (0.001766) with: {'act_funct': <tensorflow.python.keras.layers.advanced_activations.LeakyReLU object at 0x7f5d6804d350>, 'dropout_rate': 0.0, 'learning_rate': 0.01, 'momentum': 0.99, 'opt': <class 'tensorflow.python.keras.optimizer_v2.adagrad.Adagrad'>}\n",
            "0.919700 (0.035294) with: {'act_funct': <tensorflow.python.keras.layers.advanced_activations.LeakyReLU object at 0x7f5d6804d350>, 'dropout_rate': 0.0, 'learning_rate': 0.01, 'momentum': 0.99, 'opt': <class 'tensorflow.python.keras.optimizer_v2.rmsprop.RMSprop'>}\n",
            "0.943767 (0.002227) with: {'act_funct': <tensorflow.python.keras.layers.advanced_activations.LeakyReLU object at 0x7f5d6804d350>, 'dropout_rate': 0.0, 'learning_rate': 0.01, 'momentum': 0.99, 'opt': <class 'tensorflow.python.keras.optimizer_v2.adadelta.Adadelta'>}\n",
            "0.606317 (0.081107) with: {'act_funct': <tensorflow.python.keras.layers.advanced_activations.LeakyReLU object at 0x7f5d6804d350>, 'dropout_rate': 0.0, 'learning_rate': 0.1, 'momentum': 0.0, 'opt': <class 'tensorflow.python.keras.optimizer_v2.adam.Adam'>}\n",
            "0.924883 (0.010343) with: {'act_funct': <tensorflow.python.keras.layers.advanced_activations.LeakyReLU object at 0x7f5d6804d350>, 'dropout_rate': 0.0, 'learning_rate': 0.1, 'momentum': 0.0, 'opt': <class 'tensorflow.python.keras.optimizer_v2.adagrad.Adagrad'>}\n",
            "0.951750 (0.009861) with: {'act_funct': <tensorflow.python.keras.layers.advanced_activations.LeakyReLU object at 0x7f5d6804d350>, 'dropout_rate': 0.0, 'learning_rate': 0.1, 'momentum': 0.0, 'opt': <class 'tensorflow.python.keras.optimizer_v2.rmsprop.RMSprop'>}\n",
            "0.965150 (0.002017) with: {'act_funct': <tensorflow.python.keras.layers.advanced_activations.LeakyReLU object at 0x7f5d6804d350>, 'dropout_rate': 0.0, 'learning_rate': 0.1, 'momentum': 0.0, 'opt': <class 'tensorflow.python.keras.optimizer_v2.adadelta.Adadelta'>}\n",
            "0.738983 (0.119362) with: {'act_funct': <tensorflow.python.keras.layers.advanced_activations.LeakyReLU object at 0x7f5d6804d350>, 'dropout_rate': 0.0, 'learning_rate': 0.1, 'momentum': 0.5, 'opt': <class 'tensorflow.python.keras.optimizer_v2.adam.Adam'>}\n",
            "0.984833 (0.001712) with: {'act_funct': <tensorflow.python.keras.layers.advanced_activations.LeakyReLU object at 0x7f5d6804d350>, 'dropout_rate': 0.0, 'learning_rate': 0.1, 'momentum': 0.5, 'opt': <class 'tensorflow.python.keras.optimizer_v2.adagrad.Adagrad'>}\n",
            "0.927017 (0.031230) with: {'act_funct': <tensorflow.python.keras.layers.advanced_activations.LeakyReLU object at 0x7f5d6804d350>, 'dropout_rate': 0.0, 'learning_rate': 0.1, 'momentum': 0.5, 'opt': <class 'tensorflow.python.keras.optimizer_v2.rmsprop.RMSprop'>}\n",
            "0.954350 (0.002494) with: {'act_funct': <tensorflow.python.keras.layers.advanced_activations.LeakyReLU object at 0x7f5d6804d350>, 'dropout_rate': 0.0, 'learning_rate': 0.1, 'momentum': 0.5, 'opt': <class 'tensorflow.python.keras.optimizer_v2.adadelta.Adadelta'>}\n",
            "0.918700 (0.027930) with: {'act_funct': <tensorflow.python.keras.layers.advanced_activations.LeakyReLU object at 0x7f5d6804d350>, 'dropout_rate': 0.0, 'learning_rate': 0.1, 'momentum': 0.9, 'opt': <class 'tensorflow.python.keras.optimizer_v2.adam.Adam'>}\n",
            "0.984183 (0.001711) with: {'act_funct': <tensorflow.python.keras.layers.advanced_activations.LeakyReLU object at 0x7f5d6804d350>, 'dropout_rate': 0.0, 'learning_rate': 0.1, 'momentum': 0.9, 'opt': <class 'tensorflow.python.keras.optimizer_v2.adagrad.Adagrad'>}\n",
            "0.941650 (0.013944) with: {'act_funct': <tensorflow.python.keras.layers.advanced_activations.LeakyReLU object at 0x7f5d6804d350>, 'dropout_rate': 0.0, 'learning_rate': 0.1, 'momentum': 0.9, 'opt': <class 'tensorflow.python.keras.optimizer_v2.rmsprop.RMSprop'>}\n",
            "0.968717 (0.001776) with: {'act_funct': <tensorflow.python.keras.layers.advanced_activations.LeakyReLU object at 0x7f5d6804d350>, 'dropout_rate': 0.0, 'learning_rate': 0.1, 'momentum': 0.9, 'opt': <class 'tensorflow.python.keras.optimizer_v2.adadelta.Adadelta'>}\n",
            "0.960383 (0.006375) with: {'act_funct': <tensorflow.python.keras.layers.advanced_activations.LeakyReLU object at 0x7f5d6804d350>, 'dropout_rate': 0.0, 'learning_rate': 0.1, 'momentum': 0.99, 'opt': <class 'tensorflow.python.keras.optimizer_v2.adam.Adam'>}\n",
            "0.983033 (0.001685) with: {'act_funct': <tensorflow.python.keras.layers.advanced_activations.LeakyReLU object at 0x7f5d6804d350>, 'dropout_rate': 0.0, 'learning_rate': 0.1, 'momentum': 0.99, 'opt': <class 'tensorflow.python.keras.optimizer_v2.adagrad.Adagrad'>}\n",
            "0.751283 (0.203818) with: {'act_funct': <tensorflow.python.keras.layers.advanced_activations.LeakyReLU object at 0x7f5d6804d350>, 'dropout_rate': 0.0, 'learning_rate': 0.1, 'momentum': 0.99, 'opt': <class 'tensorflow.python.keras.optimizer_v2.rmsprop.RMSprop'>}\n",
            "0.981517 (0.001406) with: {'act_funct': <tensorflow.python.keras.layers.advanced_activations.LeakyReLU object at 0x7f5d6804d350>, 'dropout_rate': 0.0, 'learning_rate': 0.1, 'momentum': 0.99, 'opt': <class 'tensorflow.python.keras.optimizer_v2.adadelta.Adadelta'>}\n",
            "0.973733 (0.003222) with: {'act_funct': <tensorflow.python.keras.layers.advanced_activations.LeakyReLU object at 0x7f5d6804d350>, 'dropout_rate': 0.25, 'learning_rate': 0.0001, 'momentum': 0.0, 'opt': <class 'tensorflow.python.keras.optimizer_v2.adam.Adam'>}\n",
            "0.768483 (0.021033) with: {'act_funct': <tensorflow.python.keras.layers.advanced_activations.LeakyReLU object at 0x7f5d6804d350>, 'dropout_rate': 0.25, 'learning_rate': 0.0001, 'momentum': 0.0, 'opt': <class 'tensorflow.python.keras.optimizer_v2.adagrad.Adagrad'>}\n",
            "0.967567 (0.002184) with: {'act_funct': <tensorflow.python.keras.layers.advanced_activations.LeakyReLU object at 0x7f5d6804d350>, 'dropout_rate': 0.25, 'learning_rate': 0.0001, 'momentum': 0.0, 'opt': <class 'tensorflow.python.keras.optimizer_v2.rmsprop.RMSprop'>}\n",
            "0.101667 (0.019929) with: {'act_funct': <tensorflow.python.keras.layers.advanced_activations.LeakyReLU object at 0x7f5d6804d350>, 'dropout_rate': 0.25, 'learning_rate': 0.0001, 'momentum': 0.0, 'opt': <class 'tensorflow.python.keras.optimizer_v2.adadelta.Adadelta'>}\n",
            "0.972967 (0.001826) with: {'act_funct': <tensorflow.python.keras.layers.advanced_activations.LeakyReLU object at 0x7f5d6804d350>, 'dropout_rate': 0.25, 'learning_rate': 0.0001, 'momentum': 0.5, 'opt': <class 'tensorflow.python.keras.optimizer_v2.adam.Adam'>}\n",
            "0.262067 (0.043902) with: {'act_funct': <tensorflow.python.keras.layers.advanced_activations.LeakyReLU object at 0x7f5d6804d350>, 'dropout_rate': 0.25, 'learning_rate': 0.0001, 'momentum': 0.5, 'opt': <class 'tensorflow.python.keras.optimizer_v2.adagrad.Adagrad'>}\n",
            "0.969517 (0.001090) with: {'act_funct': <tensorflow.python.keras.layers.advanced_activations.LeakyReLU object at 0x7f5d6804d350>, 'dropout_rate': 0.25, 'learning_rate': 0.0001, 'momentum': 0.5, 'opt': <class 'tensorflow.python.keras.optimizer_v2.rmsprop.RMSprop'>}\n",
            "0.108817 (0.023562) with: {'act_funct': <tensorflow.python.keras.layers.advanced_activations.LeakyReLU object at 0x7f5d6804d350>, 'dropout_rate': 0.25, 'learning_rate': 0.0001, 'momentum': 0.5, 'opt': <class 'tensorflow.python.keras.optimizer_v2.adadelta.Adadelta'>}\n",
            "0.973300 (0.001890) with: {'act_funct': <tensorflow.python.keras.layers.advanced_activations.LeakyReLU object at 0x7f5d6804d350>, 'dropout_rate': 0.25, 'learning_rate': 0.0001, 'momentum': 0.9, 'opt': <class 'tensorflow.python.keras.optimizer_v2.adam.Adam'>}\n",
            "0.153717 (0.048959) with: {'act_funct': <tensorflow.python.keras.layers.advanced_activations.LeakyReLU object at 0x7f5d6804d350>, 'dropout_rate': 0.25, 'learning_rate': 0.0001, 'momentum': 0.9, 'opt': <class 'tensorflow.python.keras.optimizer_v2.adagrad.Adagrad'>}\n",
            "0.972933 (0.001950) with: {'act_funct': <tensorflow.python.keras.layers.advanced_activations.LeakyReLU object at 0x7f5d6804d350>, 'dropout_rate': 0.25, 'learning_rate': 0.0001, 'momentum': 0.9, 'opt': <class 'tensorflow.python.keras.optimizer_v2.rmsprop.RMSprop'>}\n",
            "0.103150 (0.022640) with: {'act_funct': <tensorflow.python.keras.layers.advanced_activations.LeakyReLU object at 0x7f5d6804d350>, 'dropout_rate': 0.25, 'learning_rate': 0.0001, 'momentum': 0.9, 'opt': <class 'tensorflow.python.keras.optimizer_v2.adadelta.Adadelta'>}\n",
            "0.972850 (0.001385) with: {'act_funct': <tensorflow.python.keras.layers.advanced_activations.LeakyReLU object at 0x7f5d6804d350>, 'dropout_rate': 0.25, 'learning_rate': 0.0001, 'momentum': 0.99, 'opt': <class 'tensorflow.python.keras.optimizer_v2.adam.Adam'>}\n",
            "0.186900 (0.025328) with: {'act_funct': <tensorflow.python.keras.layers.advanced_activations.LeakyReLU object at 0x7f5d6804d350>, 'dropout_rate': 0.25, 'learning_rate': 0.0001, 'momentum': 0.99, 'opt': <class 'tensorflow.python.keras.optimizer_v2.adagrad.Adagrad'>}\n",
            "0.975183 (0.002178) with: {'act_funct': <tensorflow.python.keras.layers.advanced_activations.LeakyReLU object at 0x7f5d6804d350>, 'dropout_rate': 0.25, 'learning_rate': 0.0001, 'momentum': 0.99, 'opt': <class 'tensorflow.python.keras.optimizer_v2.rmsprop.RMSprop'>}\n",
            "0.154017 (0.037374) with: {'act_funct': <tensorflow.python.keras.layers.advanced_activations.LeakyReLU object at 0x7f5d6804d350>, 'dropout_rate': 0.25, 'learning_rate': 0.0001, 'momentum': 0.99, 'opt': <class 'tensorflow.python.keras.optimizer_v2.adadelta.Adadelta'>}\n",
            "0.985300 (0.000700) with: {'act_funct': <tensorflow.python.keras.layers.advanced_activations.LeakyReLU object at 0x7f5d6804d350>, 'dropout_rate': 0.25, 'learning_rate': 0.001, 'momentum': 0.0, 'opt': <class 'tensorflow.python.keras.optimizer_v2.adam.Adam'>}\n",
            "0.949917 (0.003011) with: {'act_funct': <tensorflow.python.keras.layers.advanced_activations.LeakyReLU object at 0x7f5d6804d350>, 'dropout_rate': 0.25, 'learning_rate': 0.001, 'momentum': 0.0, 'opt': <class 'tensorflow.python.keras.optimizer_v2.adagrad.Adagrad'>}\n",
            "0.984517 (0.002144) with: {'act_funct': <tensorflow.python.keras.layers.advanced_activations.LeakyReLU object at 0x7f5d6804d350>, 'dropout_rate': 0.25, 'learning_rate': 0.001, 'momentum': 0.0, 'opt': <class 'tensorflow.python.keras.optimizer_v2.rmsprop.RMSprop'>}\n",
            "0.385700 (0.028490) with: {'act_funct': <tensorflow.python.keras.layers.advanced_activations.LeakyReLU object at 0x7f5d6804d350>, 'dropout_rate': 0.25, 'learning_rate': 0.001, 'momentum': 0.0, 'opt': <class 'tensorflow.python.keras.optimizer_v2.adadelta.Adadelta'>}\n",
            "0.986333 (0.001484) with: {'act_funct': <tensorflow.python.keras.layers.advanced_activations.LeakyReLU object at 0x7f5d6804d350>, 'dropout_rate': 0.25, 'learning_rate': 0.001, 'momentum': 0.5, 'opt': <class 'tensorflow.python.keras.optimizer_v2.adam.Adam'>}\n",
            "0.843700 (0.015428) with: {'act_funct': <tensorflow.python.keras.layers.advanced_activations.LeakyReLU object at 0x7f5d6804d350>, 'dropout_rate': 0.25, 'learning_rate': 0.001, 'momentum': 0.5, 'opt': <class 'tensorflow.python.keras.optimizer_v2.adagrad.Adagrad'>}\n",
            "0.986017 (0.001432) with: {'act_funct': <tensorflow.python.keras.layers.advanced_activations.LeakyReLU object at 0x7f5d6804d350>, 'dropout_rate': 0.25, 'learning_rate': 0.001, 'momentum': 0.5, 'opt': <class 'tensorflow.python.keras.optimizer_v2.rmsprop.RMSprop'>}\n",
            "0.226667 (0.038897) with: {'act_funct': <tensorflow.python.keras.layers.advanced_activations.LeakyReLU object at 0x7f5d6804d350>, 'dropout_rate': 0.25, 'learning_rate': 0.001, 'momentum': 0.5, 'opt': <class 'tensorflow.python.keras.optimizer_v2.adadelta.Adadelta'>}\n",
            "0.987267 (0.001167) with: {'act_funct': <tensorflow.python.keras.layers.advanced_activations.LeakyReLU object at 0x7f5d6804d350>, 'dropout_rate': 0.25, 'learning_rate': 0.001, 'momentum': 0.9, 'opt': <class 'tensorflow.python.keras.optimizer_v2.adam.Adam'>}\n",
            "0.795983 (0.024240) with: {'act_funct': <tensorflow.python.keras.layers.advanced_activations.LeakyReLU object at 0x7f5d6804d350>, 'dropout_rate': 0.25, 'learning_rate': 0.001, 'momentum': 0.9, 'opt': <class 'tensorflow.python.keras.optimizer_v2.adagrad.Adagrad'>}\n",
            "0.986217 (0.002129) with: {'act_funct': <tensorflow.python.keras.layers.advanced_activations.LeakyReLU object at 0x7f5d6804d350>, 'dropout_rate': 0.25, 'learning_rate': 0.001, 'momentum': 0.9, 'opt': <class 'tensorflow.python.keras.optimizer_v2.rmsprop.RMSprop'>}\n",
            "0.402250 (0.046821) with: {'act_funct': <tensorflow.python.keras.layers.advanced_activations.LeakyReLU object at 0x7f5d6804d350>, 'dropout_rate': 0.25, 'learning_rate': 0.001, 'momentum': 0.9, 'opt': <class 'tensorflow.python.keras.optimizer_v2.adadelta.Adadelta'>}\n",
            "0.987217 (0.000914) with: {'act_funct': <tensorflow.python.keras.layers.advanced_activations.LeakyReLU object at 0x7f5d6804d350>, 'dropout_rate': 0.25, 'learning_rate': 0.001, 'momentum': 0.99, 'opt': <class 'tensorflow.python.keras.optimizer_v2.adam.Adam'>}\n",
            "0.785017 (0.019575) with: {'act_funct': <tensorflow.python.keras.layers.advanced_activations.LeakyReLU object at 0x7f5d6804d350>, 'dropout_rate': 0.25, 'learning_rate': 0.001, 'momentum': 0.99, 'opt': <class 'tensorflow.python.keras.optimizer_v2.adagrad.Adagrad'>}\n",
            "0.986717 (0.001604) with: {'act_funct': <tensorflow.python.keras.layers.advanced_activations.LeakyReLU object at 0x7f5d6804d350>, 'dropout_rate': 0.25, 'learning_rate': 0.001, 'momentum': 0.99, 'opt': <class 'tensorflow.python.keras.optimizer_v2.rmsprop.RMSprop'>}\n",
            "0.564967 (0.038703) with: {'act_funct': <tensorflow.python.keras.layers.advanced_activations.LeakyReLU object at 0x7f5d6804d350>, 'dropout_rate': 0.25, 'learning_rate': 0.001, 'momentum': 0.99, 'opt': <class 'tensorflow.python.keras.optimizer_v2.adadelta.Adadelta'>}\n",
            "0.850933 (0.189213) with: {'act_funct': <tensorflow.python.keras.layers.advanced_activations.LeakyReLU object at 0x7f5d6804d350>, 'dropout_rate': 0.25, 'learning_rate': 0.01, 'momentum': 0.0, 'opt': <class 'tensorflow.python.keras.optimizer_v2.adam.Adam'>}\n",
            "0.987050 (0.001546) with: {'act_funct': <tensorflow.python.keras.layers.advanced_activations.LeakyReLU object at 0x7f5d6804d350>, 'dropout_rate': 0.25, 'learning_rate': 0.01, 'momentum': 0.0, 'opt': <class 'tensorflow.python.keras.optimizer_v2.adagrad.Adagrad'>}\n",
            "0.952567 (0.007171) with: {'act_funct': <tensorflow.python.keras.layers.advanced_activations.LeakyReLU object at 0x7f5d6804d350>, 'dropout_rate': 0.25, 'learning_rate': 0.01, 'momentum': 0.0, 'opt': <class 'tensorflow.python.keras.optimizer_v2.rmsprop.RMSprop'>}\n",
            "0.881450 (0.011480) with: {'act_funct': <tensorflow.python.keras.layers.advanced_activations.LeakyReLU object at 0x7f5d6804d350>, 'dropout_rate': 0.25, 'learning_rate': 0.01, 'momentum': 0.0, 'opt': <class 'tensorflow.python.keras.optimizer_v2.adadelta.Adadelta'>}\n",
            "0.903950 (0.141922) with: {'act_funct': <tensorflow.python.keras.layers.advanced_activations.LeakyReLU object at 0x7f5d6804d350>, 'dropout_rate': 0.25, 'learning_rate': 0.01, 'momentum': 0.5, 'opt': <class 'tensorflow.python.keras.optimizer_v2.adam.Adam'>}\n",
            "0.967033 (0.002575) with: {'act_funct': <tensorflow.python.keras.layers.advanced_activations.LeakyReLU object at 0x7f5d6804d350>, 'dropout_rate': 0.25, 'learning_rate': 0.01, 'momentum': 0.5, 'opt': <class 'tensorflow.python.keras.optimizer_v2.adagrad.Adagrad'>}\n",
            "0.962400 (0.005310) with: {'act_funct': <tensorflow.python.keras.layers.advanced_activations.LeakyReLU object at 0x7f5d6804d350>, 'dropout_rate': 0.25, 'learning_rate': 0.01, 'momentum': 0.5, 'opt': <class 'tensorflow.python.keras.optimizer_v2.rmsprop.RMSprop'>}\n",
            "0.815967 (0.006046) with: {'act_funct': <tensorflow.python.keras.layers.advanced_activations.LeakyReLU object at 0x7f5d6804d350>, 'dropout_rate': 0.25, 'learning_rate': 0.01, 'momentum': 0.5, 'opt': <class 'tensorflow.python.keras.optimizer_v2.adadelta.Adadelta'>}\n",
            "0.970250 (0.010763) with: {'act_funct': <tensorflow.python.keras.layers.advanced_activations.LeakyReLU object at 0x7f5d6804d350>, 'dropout_rate': 0.25, 'learning_rate': 0.01, 'momentum': 0.9, 'opt': <class 'tensorflow.python.keras.optimizer_v2.adam.Adam'>}\n",
            "0.961317 (0.002668) with: {'act_funct': <tensorflow.python.keras.layers.advanced_activations.LeakyReLU object at 0x7f5d6804d350>, 'dropout_rate': 0.25, 'learning_rate': 0.01, 'momentum': 0.9, 'opt': <class 'tensorflow.python.keras.optimizer_v2.adagrad.Adagrad'>}\n",
            "0.963567 (0.005024) with: {'act_funct': <tensorflow.python.keras.layers.advanced_activations.LeakyReLU object at 0x7f5d6804d350>, 'dropout_rate': 0.25, 'learning_rate': 0.01, 'momentum': 0.9, 'opt': <class 'tensorflow.python.keras.optimizer_v2.rmsprop.RMSprop'>}\n",
            "0.865567 (0.015519) with: {'act_funct': <tensorflow.python.keras.layers.advanced_activations.LeakyReLU object at 0x7f5d6804d350>, 'dropout_rate': 0.25, 'learning_rate': 0.01, 'momentum': 0.9, 'opt': <class 'tensorflow.python.keras.optimizer_v2.adadelta.Adadelta'>}\n",
            "0.959417 (0.008379) with: {'act_funct': <tensorflow.python.keras.layers.advanced_activations.LeakyReLU object at 0x7f5d6804d350>, 'dropout_rate': 0.25, 'learning_rate': 0.01, 'momentum': 0.99, 'opt': <class 'tensorflow.python.keras.optimizer_v2.adam.Adam'>}\n",
            "0.960533 (0.002159) with: {'act_funct': <tensorflow.python.keras.layers.advanced_activations.LeakyReLU object at 0x7f5d6804d350>, 'dropout_rate': 0.25, 'learning_rate': 0.01, 'momentum': 0.99, 'opt': <class 'tensorflow.python.keras.optimizer_v2.adagrad.Adagrad'>}\n",
            "0.919950 (0.037692) with: {'act_funct': <tensorflow.python.keras.layers.advanced_activations.LeakyReLU object at 0x7f5d6804d350>, 'dropout_rate': 0.25, 'learning_rate': 0.01, 'momentum': 0.99, 'opt': <class 'tensorflow.python.keras.optimizer_v2.rmsprop.RMSprop'>}\n",
            "0.944083 (0.003904) with: {'act_funct': <tensorflow.python.keras.layers.advanced_activations.LeakyReLU object at 0x7f5d6804d350>, 'dropout_rate': 0.25, 'learning_rate': 0.01, 'momentum': 0.99, 'opt': <class 'tensorflow.python.keras.optimizer_v2.adadelta.Adadelta'>}\n",
            "0.546317 (0.219157) with: {'act_funct': <tensorflow.python.keras.layers.advanced_activations.LeakyReLU object at 0x7f5d6804d350>, 'dropout_rate': 0.25, 'learning_rate': 0.1, 'momentum': 0.0, 'opt': <class 'tensorflow.python.keras.optimizer_v2.adam.Adam'>}\n",
            "0.924933 (0.006171) with: {'act_funct': <tensorflow.python.keras.layers.advanced_activations.LeakyReLU object at 0x7f5d6804d350>, 'dropout_rate': 0.25, 'learning_rate': 0.1, 'momentum': 0.0, 'opt': <class 'tensorflow.python.keras.optimizer_v2.adagrad.Adagrad'>}\n",
            "0.952883 (0.006291) with: {'act_funct': <tensorflow.python.keras.layers.advanced_activations.LeakyReLU object at 0x7f5d6804d350>, 'dropout_rate': 0.25, 'learning_rate': 0.1, 'momentum': 0.0, 'opt': <class 'tensorflow.python.keras.optimizer_v2.rmsprop.RMSprop'>}\n",
            "0.968317 (0.001793) with: {'act_funct': <tensorflow.python.keras.layers.advanced_activations.LeakyReLU object at 0x7f5d6804d350>, 'dropout_rate': 0.25, 'learning_rate': 0.1, 'momentum': 0.0, 'opt': <class 'tensorflow.python.keras.optimizer_v2.adadelta.Adadelta'>}\n",
            "0.769333 (0.039634) with: {'act_funct': <tensorflow.python.keras.layers.advanced_activations.LeakyReLU object at 0x7f5d6804d350>, 'dropout_rate': 0.25, 'learning_rate': 0.1, 'momentum': 0.5, 'opt': <class 'tensorflow.python.keras.optimizer_v2.adam.Adam'>}\n",
            "0.986300 (0.002172) with: {'act_funct': <tensorflow.python.keras.layers.advanced_activations.LeakyReLU object at 0x7f5d6804d350>, 'dropout_rate': 0.25, 'learning_rate': 0.1, 'momentum': 0.5, 'opt': <class 'tensorflow.python.keras.optimizer_v2.adagrad.Adagrad'>}\n",
            "0.949850 (0.016464) with: {'act_funct': <tensorflow.python.keras.layers.advanced_activations.LeakyReLU object at 0x7f5d6804d350>, 'dropout_rate': 0.25, 'learning_rate': 0.1, 'momentum': 0.5, 'opt': <class 'tensorflow.python.keras.optimizer_v2.rmsprop.RMSprop'>}\n",
            "0.957450 (0.003581) with: {'act_funct': <tensorflow.python.keras.layers.advanced_activations.LeakyReLU object at 0x7f5d6804d350>, 'dropout_rate': 0.25, 'learning_rate': 0.1, 'momentum': 0.5, 'opt': <class 'tensorflow.python.keras.optimizer_v2.adadelta.Adadelta'>}\n",
            "0.947350 (0.014298) with: {'act_funct': <tensorflow.python.keras.layers.advanced_activations.LeakyReLU object at 0x7f5d6804d350>, 'dropout_rate': 0.25, 'learning_rate': 0.1, 'momentum': 0.9, 'opt': <class 'tensorflow.python.keras.optimizer_v2.adam.Adam'>}\n",
            "0.984883 (0.001015) with: {'act_funct': <tensorflow.python.keras.layers.advanced_activations.LeakyReLU object at 0x7f5d6804d350>, 'dropout_rate': 0.25, 'learning_rate': 0.1, 'momentum': 0.9, 'opt': <class 'tensorflow.python.keras.optimizer_v2.adagrad.Adagrad'>}\n",
            "0.894783 (0.065768) with: {'act_funct': <tensorflow.python.keras.layers.advanced_activations.LeakyReLU object at 0x7f5d6804d350>, 'dropout_rate': 0.25, 'learning_rate': 0.1, 'momentum': 0.9, 'opt': <class 'tensorflow.python.keras.optimizer_v2.rmsprop.RMSprop'>}\n",
            "0.969100 (0.002286) with: {'act_funct': <tensorflow.python.keras.layers.advanced_activations.LeakyReLU object at 0x7f5d6804d350>, 'dropout_rate': 0.25, 'learning_rate': 0.1, 'momentum': 0.9, 'opt': <class 'tensorflow.python.keras.optimizer_v2.adadelta.Adadelta'>}\n",
            "0.951700 (0.021539) with: {'act_funct': <tensorflow.python.keras.layers.advanced_activations.LeakyReLU object at 0x7f5d6804d350>, 'dropout_rate': 0.25, 'learning_rate': 0.1, 'momentum': 0.99, 'opt': <class 'tensorflow.python.keras.optimizer_v2.adam.Adam'>}\n",
            "0.984917 (0.002161) with: {'act_funct': <tensorflow.python.keras.layers.advanced_activations.LeakyReLU object at 0x7f5d6804d350>, 'dropout_rate': 0.25, 'learning_rate': 0.1, 'momentum': 0.99, 'opt': <class 'tensorflow.python.keras.optimizer_v2.adagrad.Adagrad'>}\n",
            "0.776950 (0.259425) with: {'act_funct': <tensorflow.python.keras.layers.advanced_activations.LeakyReLU object at 0x7f5d6804d350>, 'dropout_rate': 0.25, 'learning_rate': 0.1, 'momentum': 0.99, 'opt': <class 'tensorflow.python.keras.optimizer_v2.rmsprop.RMSprop'>}\n",
            "0.981733 (0.001372) with: {'act_funct': <tensorflow.python.keras.layers.advanced_activations.LeakyReLU object at 0x7f5d6804d350>, 'dropout_rate': 0.25, 'learning_rate': 0.1, 'momentum': 0.99, 'opt': <class 'tensorflow.python.keras.optimizer_v2.adadelta.Adadelta'>}\n",
            "0.971083 (0.001061) with: {'act_funct': <tensorflow.python.keras.layers.advanced_activations.LeakyReLU object at 0x7f5d6804d350>, 'dropout_rate': 0.5, 'learning_rate': 0.0001, 'momentum': 0.0, 'opt': <class 'tensorflow.python.keras.optimizer_v2.adam.Adam'>}\n",
            "0.718250 (0.030580) with: {'act_funct': <tensorflow.python.keras.layers.advanced_activations.LeakyReLU object at 0x7f5d6804d350>, 'dropout_rate': 0.5, 'learning_rate': 0.0001, 'momentum': 0.0, 'opt': <class 'tensorflow.python.keras.optimizer_v2.adagrad.Adagrad'>}\n",
            "0.964867 (0.002903) with: {'act_funct': <tensorflow.python.keras.layers.advanced_activations.LeakyReLU object at 0x7f5d6804d350>, 'dropout_rate': 0.5, 'learning_rate': 0.0001, 'momentum': 0.0, 'opt': <class 'tensorflow.python.keras.optimizer_v2.rmsprop.RMSprop'>}\n",
            "0.098050 (0.037970) with: {'act_funct': <tensorflow.python.keras.layers.advanced_activations.LeakyReLU object at 0x7f5d6804d350>, 'dropout_rate': 0.5, 'learning_rate': 0.0001, 'momentum': 0.0, 'opt': <class 'tensorflow.python.keras.optimizer_v2.adadelta.Adadelta'>}\n",
            "0.970900 (0.002049) with: {'act_funct': <tensorflow.python.keras.layers.advanced_activations.LeakyReLU object at 0x7f5d6804d350>, 'dropout_rate': 0.5, 'learning_rate': 0.0001, 'momentum': 0.5, 'opt': <class 'tensorflow.python.keras.optimizer_v2.adam.Adam'>}\n",
            "0.231633 (0.023727) with: {'act_funct': <tensorflow.python.keras.layers.advanced_activations.LeakyReLU object at 0x7f5d6804d350>, 'dropout_rate': 0.5, 'learning_rate': 0.0001, 'momentum': 0.5, 'opt': <class 'tensorflow.python.keras.optimizer_v2.adagrad.Adagrad'>}\n",
            "0.965783 (0.001986) with: {'act_funct': <tensorflow.python.keras.layers.advanced_activations.LeakyReLU object at 0x7f5d6804d350>, 'dropout_rate': 0.5, 'learning_rate': 0.0001, 'momentum': 0.5, 'opt': <class 'tensorflow.python.keras.optimizer_v2.rmsprop.RMSprop'>}\n",
            "0.106983 (0.022621) with: {'act_funct': <tensorflow.python.keras.layers.advanced_activations.LeakyReLU object at 0x7f5d6804d350>, 'dropout_rate': 0.5, 'learning_rate': 0.0001, 'momentum': 0.5, 'opt': <class 'tensorflow.python.keras.optimizer_v2.adadelta.Adadelta'>}\n",
            "0.972200 (0.002323) with: {'act_funct': <tensorflow.python.keras.layers.advanced_activations.LeakyReLU object at 0x7f5d6804d350>, 'dropout_rate': 0.5, 'learning_rate': 0.0001, 'momentum': 0.9, 'opt': <class 'tensorflow.python.keras.optimizer_v2.adam.Adam'>}\n",
            "0.211117 (0.036965) with: {'act_funct': <tensorflow.python.keras.layers.advanced_activations.LeakyReLU object at 0x7f5d6804d350>, 'dropout_rate': 0.5, 'learning_rate': 0.0001, 'momentum': 0.9, 'opt': <class 'tensorflow.python.keras.optimizer_v2.adagrad.Adagrad'>}\n",
            "0.970400 (0.001984) with: {'act_funct': <tensorflow.python.keras.layers.advanced_activations.LeakyReLU object at 0x7f5d6804d350>, 'dropout_rate': 0.5, 'learning_rate': 0.0001, 'momentum': 0.9, 'opt': <class 'tensorflow.python.keras.optimizer_v2.rmsprop.RMSprop'>}\n",
            "0.105150 (0.017563) with: {'act_funct': <tensorflow.python.keras.layers.advanced_activations.LeakyReLU object at 0x7f5d6804d350>, 'dropout_rate': 0.5, 'learning_rate': 0.0001, 'momentum': 0.9, 'opt': <class 'tensorflow.python.keras.optimizer_v2.adadelta.Adadelta'>}\n",
            "0.970517 (0.001577) with: {'act_funct': <tensorflow.python.keras.layers.advanced_activations.LeakyReLU object at 0x7f5d6804d350>, 'dropout_rate': 0.5, 'learning_rate': 0.0001, 'momentum': 0.99, 'opt': <class 'tensorflow.python.keras.optimizer_v2.adam.Adam'>}\n",
            "0.179500 (0.027843) with: {'act_funct': <tensorflow.python.keras.layers.advanced_activations.LeakyReLU object at 0x7f5d6804d350>, 'dropout_rate': 0.5, 'learning_rate': 0.0001, 'momentum': 0.99, 'opt': <class 'tensorflow.python.keras.optimizer_v2.adagrad.Adagrad'>}\n",
            "0.973267 (0.002281) with: {'act_funct': <tensorflow.python.keras.layers.advanced_activations.LeakyReLU object at 0x7f5d6804d350>, 'dropout_rate': 0.5, 'learning_rate': 0.0001, 'momentum': 0.99, 'opt': <class 'tensorflow.python.keras.optimizer_v2.rmsprop.RMSprop'>}\n",
            "0.133883 (0.025556) with: {'act_funct': <tensorflow.python.keras.layers.advanced_activations.LeakyReLU object at 0x7f5d6804d350>, 'dropout_rate': 0.5, 'learning_rate': 0.0001, 'momentum': 0.99, 'opt': <class 'tensorflow.python.keras.optimizer_v2.adadelta.Adadelta'>}\n",
            "0.987933 (0.001498) with: {'act_funct': <tensorflow.python.keras.layers.advanced_activations.LeakyReLU object at 0x7f5d6804d350>, 'dropout_rate': 0.5, 'learning_rate': 0.001, 'momentum': 0.0, 'opt': <class 'tensorflow.python.keras.optimizer_v2.adam.Adam'>}\n",
            "0.945017 (0.003891) with: {'act_funct': <tensorflow.python.keras.layers.advanced_activations.LeakyReLU object at 0x7f5d6804d350>, 'dropout_rate': 0.5, 'learning_rate': 0.001, 'momentum': 0.0, 'opt': <class 'tensorflow.python.keras.optimizer_v2.adagrad.Adagrad'>}\n",
            "0.981517 (0.002214) with: {'act_funct': <tensorflow.python.keras.layers.advanced_activations.LeakyReLU object at 0x7f5d6804d350>, 'dropout_rate': 0.5, 'learning_rate': 0.001, 'momentum': 0.0, 'opt': <class 'tensorflow.python.keras.optimizer_v2.rmsprop.RMSprop'>}\n",
            "0.387550 (0.042317) with: {'act_funct': <tensorflow.python.keras.layers.advanced_activations.LeakyReLU object at 0x7f5d6804d350>, 'dropout_rate': 0.5, 'learning_rate': 0.001, 'momentum': 0.0, 'opt': <class 'tensorflow.python.keras.optimizer_v2.adadelta.Adadelta'>}\n",
            "0.987583 (0.001505) with: {'act_funct': <tensorflow.python.keras.layers.advanced_activations.LeakyReLU object at 0x7f5d6804d350>, 'dropout_rate': 0.5, 'learning_rate': 0.001, 'momentum': 0.5, 'opt': <class 'tensorflow.python.keras.optimizer_v2.adam.Adam'>}\n",
            "0.817333 (0.015326) with: {'act_funct': <tensorflow.python.keras.layers.advanced_activations.LeakyReLU object at 0x7f5d6804d350>, 'dropout_rate': 0.5, 'learning_rate': 0.001, 'momentum': 0.5, 'opt': <class 'tensorflow.python.keras.optimizer_v2.adagrad.Adagrad'>}\n",
            "0.984867 (0.003016) with: {'act_funct': <tensorflow.python.keras.layers.advanced_activations.LeakyReLU object at 0x7f5d6804d350>, 'dropout_rate': 0.5, 'learning_rate': 0.001, 'momentum': 0.5, 'opt': <class 'tensorflow.python.keras.optimizer_v2.rmsprop.RMSprop'>}\n",
            "0.204517 (0.037915) with: {'act_funct': <tensorflow.python.keras.layers.advanced_activations.LeakyReLU object at 0x7f5d6804d350>, 'dropout_rate': 0.5, 'learning_rate': 0.001, 'momentum': 0.5, 'opt': <class 'tensorflow.python.keras.optimizer_v2.adadelta.Adadelta'>}\n",
            "0.986950 (0.001095) with: {'act_funct': <tensorflow.python.keras.layers.advanced_activations.LeakyReLU object at 0x7f5d6804d350>, 'dropout_rate': 0.5, 'learning_rate': 0.001, 'momentum': 0.9, 'opt': <class 'tensorflow.python.keras.optimizer_v2.adam.Adam'>}\n",
            "0.770900 (0.023337) with: {'act_funct': <tensorflow.python.keras.layers.advanced_activations.LeakyReLU object at 0x7f5d6804d350>, 'dropout_rate': 0.5, 'learning_rate': 0.001, 'momentum': 0.9, 'opt': <class 'tensorflow.python.keras.optimizer_v2.adagrad.Adagrad'>}\n",
            "0.987983 (0.001757) with: {'act_funct': <tensorflow.python.keras.layers.advanced_activations.LeakyReLU object at 0x7f5d6804d350>, 'dropout_rate': 0.5, 'learning_rate': 0.001, 'momentum': 0.9, 'opt': <class 'tensorflow.python.keras.optimizer_v2.rmsprop.RMSprop'>}\n",
            "0.376317 (0.020618) with: {'act_funct': <tensorflow.python.keras.layers.advanced_activations.LeakyReLU object at 0x7f5d6804d350>, 'dropout_rate': 0.5, 'learning_rate': 0.001, 'momentum': 0.9, 'opt': <class 'tensorflow.python.keras.optimizer_v2.adadelta.Adadelta'>}\n",
            "0.986967 (0.001154) with: {'act_funct': <tensorflow.python.keras.layers.advanced_activations.LeakyReLU object at 0x7f5d6804d350>, 'dropout_rate': 0.5, 'learning_rate': 0.001, 'momentum': 0.99, 'opt': <class 'tensorflow.python.keras.optimizer_v2.adam.Adam'>}\n",
            "0.728683 (0.044541) with: {'act_funct': <tensorflow.python.keras.layers.advanced_activations.LeakyReLU object at 0x7f5d6804d350>, 'dropout_rate': 0.5, 'learning_rate': 0.001, 'momentum': 0.99, 'opt': <class 'tensorflow.python.keras.optimizer_v2.adagrad.Adagrad'>}\n",
            "0.987383 (0.001483) with: {'act_funct': <tensorflow.python.keras.layers.advanced_activations.LeakyReLU object at 0x7f5d6804d350>, 'dropout_rate': 0.5, 'learning_rate': 0.001, 'momentum': 0.99, 'opt': <class 'tensorflow.python.keras.optimizer_v2.rmsprop.RMSprop'>}\n",
            "0.476183 (0.097629) with: {'act_funct': <tensorflow.python.keras.layers.advanced_activations.LeakyReLU object at 0x7f5d6804d350>, 'dropout_rate': 0.5, 'learning_rate': 0.001, 'momentum': 0.99, 'opt': <class 'tensorflow.python.keras.optimizer_v2.adadelta.Adadelta'>}\n",
            "0.939833 (0.021147) with: {'act_funct': <tensorflow.python.keras.layers.advanced_activations.LeakyReLU object at 0x7f5d6804d350>, 'dropout_rate': 0.5, 'learning_rate': 0.01, 'momentum': 0.0, 'opt': <class 'tensorflow.python.keras.optimizer_v2.adam.Adam'>}\n",
            "0.986250 (0.001950) with: {'act_funct': <tensorflow.python.keras.layers.advanced_activations.LeakyReLU object at 0x7f5d6804d350>, 'dropout_rate': 0.5, 'learning_rate': 0.01, 'momentum': 0.0, 'opt': <class 'tensorflow.python.keras.optimizer_v2.adagrad.Adagrad'>}\n",
            "0.957400 (0.005390) with: {'act_funct': <tensorflow.python.keras.layers.advanced_activations.LeakyReLU object at 0x7f5d6804d350>, 'dropout_rate': 0.5, 'learning_rate': 0.01, 'momentum': 0.0, 'opt': <class 'tensorflow.python.keras.optimizer_v2.rmsprop.RMSprop'>}\n",
            "0.867333 (0.004855) with: {'act_funct': <tensorflow.python.keras.layers.advanced_activations.LeakyReLU object at 0x7f5d6804d350>, 'dropout_rate': 0.5, 'learning_rate': 0.01, 'momentum': 0.0, 'opt': <class 'tensorflow.python.keras.optimizer_v2.adadelta.Adadelta'>}\n",
            "0.973567 (0.002874) with: {'act_funct': <tensorflow.python.keras.layers.advanced_activations.LeakyReLU object at 0x7f5d6804d350>, 'dropout_rate': 0.5, 'learning_rate': 0.01, 'momentum': 0.5, 'opt': <class 'tensorflow.python.keras.optimizer_v2.adam.Adam'>}\n",
            "0.964767 (0.002862) with: {'act_funct': <tensorflow.python.keras.layers.advanced_activations.LeakyReLU object at 0x7f5d6804d350>, 'dropout_rate': 0.5, 'learning_rate': 0.01, 'momentum': 0.5, 'opt': <class 'tensorflow.python.keras.optimizer_v2.adagrad.Adagrad'>}\n",
            "0.961183 (0.005111) with: {'act_funct': <tensorflow.python.keras.layers.advanced_activations.LeakyReLU object at 0x7f5d6804d350>, 'dropout_rate': 0.5, 'learning_rate': 0.01, 'momentum': 0.5, 'opt': <class 'tensorflow.python.keras.optimizer_v2.rmsprop.RMSprop'>}\n",
            "0.760150 (0.028459) with: {'act_funct': <tensorflow.python.keras.layers.advanced_activations.LeakyReLU object at 0x7f5d6804d350>, 'dropout_rate': 0.5, 'learning_rate': 0.01, 'momentum': 0.5, 'opt': <class 'tensorflow.python.keras.optimizer_v2.adadelta.Adadelta'>}\n",
            "0.971000 (0.005858) with: {'act_funct': <tensorflow.python.keras.layers.advanced_activations.LeakyReLU object at 0x7f5d6804d350>, 'dropout_rate': 0.5, 'learning_rate': 0.01, 'momentum': 0.9, 'opt': <class 'tensorflow.python.keras.optimizer_v2.adam.Adam'>}\n",
            "0.960150 (0.001808) with: {'act_funct': <tensorflow.python.keras.layers.advanced_activations.LeakyReLU object at 0x7f5d6804d350>, 'dropout_rate': 0.5, 'learning_rate': 0.01, 'momentum': 0.9, 'opt': <class 'tensorflow.python.keras.optimizer_v2.adagrad.Adagrad'>}\n",
            "0.964517 (0.006502) with: {'act_funct': <tensorflow.python.keras.layers.advanced_activations.LeakyReLU object at 0x7f5d6804d350>, 'dropout_rate': 0.5, 'learning_rate': 0.01, 'momentum': 0.9, 'opt': <class 'tensorflow.python.keras.optimizer_v2.rmsprop.RMSprop'>}\n",
            "0.839633 (0.011267) with: {'act_funct': <tensorflow.python.keras.layers.advanced_activations.LeakyReLU object at 0x7f5d6804d350>, 'dropout_rate': 0.5, 'learning_rate': 0.01, 'momentum': 0.9, 'opt': <class 'tensorflow.python.keras.optimizer_v2.adadelta.Adadelta'>}\n",
            "0.959067 (0.009353) with: {'act_funct': <tensorflow.python.keras.layers.advanced_activations.LeakyReLU object at 0x7f5d6804d350>, 'dropout_rate': 0.5, 'learning_rate': 0.01, 'momentum': 0.99, 'opt': <class 'tensorflow.python.keras.optimizer_v2.adam.Adam'>}\n",
            "0.958817 (0.002557) with: {'act_funct': <tensorflow.python.keras.layers.advanced_activations.LeakyReLU object at 0x7f5d6804d350>, 'dropout_rate': 0.5, 'learning_rate': 0.01, 'momentum': 0.99, 'opt': <class 'tensorflow.python.keras.optimizer_v2.adagrad.Adagrad'>}\n",
            "0.922633 (0.027121) with: {'act_funct': <tensorflow.python.keras.layers.advanced_activations.LeakyReLU object at 0x7f5d6804d350>, 'dropout_rate': 0.5, 'learning_rate': 0.01, 'momentum': 0.99, 'opt': <class 'tensorflow.python.keras.optimizer_v2.rmsprop.RMSprop'>}\n",
            "0.940433 (0.005179) with: {'act_funct': <tensorflow.python.keras.layers.advanced_activations.LeakyReLU object at 0x7f5d6804d350>, 'dropout_rate': 0.5, 'learning_rate': 0.01, 'momentum': 0.99, 'opt': <class 'tensorflow.python.keras.optimizer_v2.adadelta.Adadelta'>}\n",
            "0.592900 (0.242376) with: {'act_funct': <tensorflow.python.keras.layers.advanced_activations.LeakyReLU object at 0x7f5d6804d350>, 'dropout_rate': 0.5, 'learning_rate': 0.1, 'momentum': 0.0, 'opt': <class 'tensorflow.python.keras.optimizer_v2.adam.Adam'>}\n",
            "0.932067 (0.018360) with: {'act_funct': <tensorflow.python.keras.layers.advanced_activations.LeakyReLU object at 0x7f5d6804d350>, 'dropout_rate': 0.5, 'learning_rate': 0.1, 'momentum': 0.0, 'opt': <class 'tensorflow.python.keras.optimizer_v2.adagrad.Adagrad'>}\n",
            "0.946933 (0.010623) with: {'act_funct': <tensorflow.python.keras.layers.advanced_activations.LeakyReLU object at 0x7f5d6804d350>, 'dropout_rate': 0.5, 'learning_rate': 0.1, 'momentum': 0.0, 'opt': <class 'tensorflow.python.keras.optimizer_v2.rmsprop.RMSprop'>}\n",
            "0.965300 (0.001782) with: {'act_funct': <tensorflow.python.keras.layers.advanced_activations.LeakyReLU object at 0x7f5d6804d350>, 'dropout_rate': 0.5, 'learning_rate': 0.1, 'momentum': 0.0, 'opt': <class 'tensorflow.python.keras.optimizer_v2.adadelta.Adadelta'>}\n",
            "0.712200 (0.200044) with: {'act_funct': <tensorflow.python.keras.layers.advanced_activations.LeakyReLU object at 0x7f5d6804d350>, 'dropout_rate': 0.5, 'learning_rate': 0.1, 'momentum': 0.5, 'opt': <class 'tensorflow.python.keras.optimizer_v2.adam.Adam'>}\n",
            "0.985783 (0.001100) with: {'act_funct': <tensorflow.python.keras.layers.advanced_activations.LeakyReLU object at 0x7f5d6804d350>, 'dropout_rate': 0.5, 'learning_rate': 0.1, 'momentum': 0.5, 'opt': <class 'tensorflow.python.keras.optimizer_v2.adagrad.Adagrad'>}\n",
            "0.923183 (0.019905) with: {'act_funct': <tensorflow.python.keras.layers.advanced_activations.LeakyReLU object at 0x7f5d6804d350>, 'dropout_rate': 0.5, 'learning_rate': 0.1, 'momentum': 0.5, 'opt': <class 'tensorflow.python.keras.optimizer_v2.rmsprop.RMSprop'>}\n",
            "0.952867 (0.001873) with: {'act_funct': <tensorflow.python.keras.layers.advanced_activations.LeakyReLU object at 0x7f5d6804d350>, 'dropout_rate': 0.5, 'learning_rate': 0.1, 'momentum': 0.5, 'opt': <class 'tensorflow.python.keras.optimizer_v2.adadelta.Adadelta'>}\n",
            "0.871100 (0.156862) with: {'act_funct': <tensorflow.python.keras.layers.advanced_activations.LeakyReLU object at 0x7f5d6804d350>, 'dropout_rate': 0.5, 'learning_rate': 0.1, 'momentum': 0.9, 'opt': <class 'tensorflow.python.keras.optimizer_v2.adam.Adam'>}\n",
            "0.984833 (0.001628) with: {'act_funct': <tensorflow.python.keras.layers.advanced_activations.LeakyReLU object at 0x7f5d6804d350>, 'dropout_rate': 0.5, 'learning_rate': 0.1, 'momentum': 0.9, 'opt': <class 'tensorflow.python.keras.optimizer_v2.adagrad.Adagrad'>}\n",
            "0.936967 (0.018245) with: {'act_funct': <tensorflow.python.keras.layers.advanced_activations.LeakyReLU object at 0x7f5d6804d350>, 'dropout_rate': 0.5, 'learning_rate': 0.1, 'momentum': 0.9, 'opt': <class 'tensorflow.python.keras.optimizer_v2.rmsprop.RMSprop'>}\n",
            "0.965800 (0.002843) with: {'act_funct': <tensorflow.python.keras.layers.advanced_activations.LeakyReLU object at 0x7f5d6804d350>, 'dropout_rate': 0.5, 'learning_rate': 0.1, 'momentum': 0.9, 'opt': <class 'tensorflow.python.keras.optimizer_v2.adadelta.Adadelta'>}\n",
            "0.956700 (0.008528) with: {'act_funct': <tensorflow.python.keras.layers.advanced_activations.LeakyReLU object at 0x7f5d6804d350>, 'dropout_rate': 0.5, 'learning_rate': 0.1, 'momentum': 0.99, 'opt': <class 'tensorflow.python.keras.optimizer_v2.adam.Adam'>}\n",
            "0.984550 (0.001575) with: {'act_funct': <tensorflow.python.keras.layers.advanced_activations.LeakyReLU object at 0x7f5d6804d350>, 'dropout_rate': 0.5, 'learning_rate': 0.1, 'momentum': 0.99, 'opt': <class 'tensorflow.python.keras.optimizer_v2.adagrad.Adagrad'>}\n",
            "0.856850 (0.093192) with: {'act_funct': <tensorflow.python.keras.layers.advanced_activations.LeakyReLU object at 0x7f5d6804d350>, 'dropout_rate': 0.5, 'learning_rate': 0.1, 'momentum': 0.99, 'opt': <class 'tensorflow.python.keras.optimizer_v2.rmsprop.RMSprop'>}\n",
            "0.981483 (0.001178) with: {'act_funct': <tensorflow.python.keras.layers.advanced_activations.LeakyReLU object at 0x7f5d6804d350>, 'dropout_rate': 0.5, 'learning_rate': 0.1, 'momentum': 0.99, 'opt': <class 'tensorflow.python.keras.optimizer_v2.adadelta.Adadelta'>}\n"
          ],
          "name": "stdout"
        }
      ]
    },
    {
      "cell_type": "code",
      "metadata": {
        "colab": {
          "base_uri": "https://localhost:8080/"
        },
        "id": "RJeW9hYjm1iY",
        "outputId": "90611ed5-fbbe-4683-e60e-2d77587b005e"
      },
      "source": [
        "# Checking performance with optimal parameters\n",
        "\n",
        "optmodel = CNN_model(**grid_result.best_params_)\n",
        "optmodel.fit(X_train,y_train, epochs=5, batch_size=64, validation_split=0.2)\n",
        "optmodel.save('opt_cnn.h5')"
      ],
      "execution_count": 15,
      "outputs": [
        {
          "output_type": "stream",
          "text": [
            "Epoch 1/5\n",
            "750/750 [==============================] - 4s 5ms/step - loss: 0.5635 - accuracy: 0.8194 - val_loss: 0.0743 - val_accuracy: 0.9783\n",
            "Epoch 2/5\n",
            "750/750 [==============================] - 3s 4ms/step - loss: 0.0764 - accuracy: 0.9756 - val_loss: 0.0523 - val_accuracy: 0.9863\n",
            "Epoch 3/5\n",
            "750/750 [==============================] - 3s 4ms/step - loss: 0.0572 - accuracy: 0.9835 - val_loss: 0.0479 - val_accuracy: 0.9876\n",
            "Epoch 4/5\n",
            "750/750 [==============================] - 3s 4ms/step - loss: 0.0452 - accuracy: 0.9867 - val_loss: 0.0571 - val_accuracy: 0.9873\n",
            "Epoch 5/5\n",
            "750/750 [==============================] - 3s 4ms/step - loss: 0.0441 - accuracy: 0.9865 - val_loss: 0.0748 - val_accuracy: 0.9838\n"
          ],
          "name": "stdout"
        },
        {
          "output_type": "execute_result",
          "data": {
            "text/plain": [
              "<tensorflow.python.keras.callbacks.History at 0x7f5e00198910>"
            ]
          },
          "metadata": {
            "tags": []
          },
          "execution_count": 15
        }
      ]
    },
    {
      "cell_type": "code",
      "metadata": {
        "colab": {
          "base_uri": "https://localhost:8080/"
        },
        "id": "o3RnN2B1m3dg",
        "outputId": "5f884941-e030-4c3d-e596-4ec4074fb234"
      },
      "source": [
        "t_loss, t_acc,= optmodel.evaluate(X_test, y_test)\n",
        "print(f'Accuracy: {round(t_acc*100,2)}%')"
      ],
      "execution_count": 16,
      "outputs": [
        {
          "output_type": "stream",
          "text": [
            "313/313 [==============================] - 1s 3ms/step - loss: 0.0581 - accuracy: 0.9864\n",
            "Accuracy: 98.64%\n"
          ],
          "name": "stdout"
        }
      ]
    }
  ]
}