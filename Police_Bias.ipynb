{
  "nbformat": 4,
  "nbformat_minor": 0,
  "metadata": {
    "colab": {
      "name": "Police_Bias.ipynb",
      "provenance": [],
      "authorship_tag": "ABX9TyPfpLWELp3nyRZ/hhcZOYqo",
      "include_colab_link": true
    },
    "kernelspec": {
      "name": "python3",
      "display_name": "Python 3"
    }
  },
  "cells": [
    {
      "cell_type": "markdown",
      "metadata": {
        "id": "view-in-github",
        "colab_type": "text"
      },
      "source": [
        "<a href=\"https://colab.research.google.com/github/neerajviswajith/CE888/blob/main/Police_Bias.ipynb\" target=\"_parent\"><img src=\"https://colab.research.google.com/assets/colab-badge.svg\" alt=\"Open In Colab\"/></a>"
      ]
    },
    {
      "cell_type": "code",
      "metadata": {
        "id": "KyrEIieAGC7m"
      },
      "source": [
        "# Importing Libraries\r\n",
        "im"
      ],
      "execution_count": null,
      "outputs": []
    }
  ]
}