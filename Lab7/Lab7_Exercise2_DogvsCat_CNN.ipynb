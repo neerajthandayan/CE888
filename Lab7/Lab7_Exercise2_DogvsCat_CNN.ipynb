{
  "nbformat": 4,
  "nbformat_minor": 0,
  "metadata": {
    "colab": {
      "name": "Exercise2_DogvsCat_CNN.ipynb",
      "provenance": [],
      "toc_visible": true
    },
    "kernelspec": {
      "name": "python3",
      "display_name": "Python 3"
    },
    "accelerator": "GPU"
  },
  "cells": [
    {
      "cell_type": "markdown",
      "metadata": {
        "id": "qTh9DiKVslsJ"
      },
      "source": [
        "## Dogs vs. Cats \n",
        "\n",
        "In this competition, you'll write an algorithm to classify whether images contain either a dog or a cat.  This is easy for humans, dogs, and cats. Your computer will find it a bit more difficult.\n",
        "\n",
        "![alt text](https://miro.medium.com/max/3000/1*bhFifratH9DjKqMBTeQG5A.gif)\n",
        "\n",
        "Ref: https://medium.com/@thegrigorian/rolling-in-the-deep-cnn-c8d3f7108c8c"
      ]
    },
    {
      "cell_type": "markdown",
      "metadata": {
        "id": "RSBI-_mSSY1g"
      },
      "source": [
        "Get your API Key from Kaggle using following steps:\n",
        "1. Login to [Kaggle](https://www.kaggle.com/) or Register if you don't have account\n",
        "2. Open Dataset (https://www.kaggle.com/c/dogs-vs-cats/rules) and accept terms and condition. \n",
        "3. On the top right corner click on your Icon and go to accounts and press a button \"Create New API Token\". It will download a JSON file containing your username and key. \n",
        "4. Now, paste both below. \n"
      ]
    },
    {
      "cell_type": "code",
      "metadata": {
        "colab": {
          "base_uri": "https://localhost:8080/"
        },
        "id": "QAjY9edp-M97",
        "outputId": "e7088f2a-717b-42f8-86da-48914b3628ad"
      },
      "source": [
        " %tensorflow_version 1.x"
      ],
      "execution_count": 2,
      "outputs": [
        {
          "output_type": "stream",
          "text": [
            "TensorFlow 1.x selected.\n"
          ],
          "name": "stdout"
        }
      ]
    },
    {
      "cell_type": "code",
      "metadata": {
        "colab": {
          "base_uri": "https://localhost:8080/"
        },
        "id": "OMHZOFGZ-VZT",
        "outputId": "cc17ee03-224d-43d6-b809-0ea61cde1c6e"
      },
      "source": [
        "import tensorflow\n",
        "print(tensorflow.__version__)"
      ],
      "execution_count": 3,
      "outputs": [
        {
          "output_type": "stream",
          "text": [
            "1.15.2\n"
          ],
          "name": "stdout"
        }
      ]
    },
    {
      "cell_type": "code",
      "metadata": {
        "id": "YmXSOc0tZIGA",
        "colab": {
          "base_uri": "https://localhost:8080/"
        },
        "outputId": "109b8bc9-4eab-4d08-83d9-0f7870e51532"
      },
      "source": [
        "import os\n",
        "os.environ['KAGGLE_USERNAME'] = \"neerajviswajith\" # username from the json file\n",
        "os.environ['KAGGLE_KEY'] = \"25fd80c6ea46b94526567453b6db51f0\" # key from the json file\n",
        "!kaggle competitions download -c dogs-vs-cats # api copied from kaggle (https://www.kaggle.com/c/dogs-vs-cats/data)"
      ],
      "execution_count": 4,
      "outputs": [
        {
          "output_type": "stream",
          "text": [
            "Warning: Looks like you're using an outdated API Version, please consider updating (server 1.5.12 / client 1.5.4)\n",
            "Downloading train.zip to /content\n",
            " 98% 534M/543M [00:03<00:00, 148MB/s]\n",
            "100% 543M/543M [00:03<00:00, 168MB/s]\n",
            "Downloading sampleSubmission.csv to /content\n",
            "  0% 0.00/86.8k [00:00<?, ?B/s]\n",
            "100% 86.8k/86.8k [00:00<00:00, 89.7MB/s]\n",
            "Downloading test1.zip to /content\n",
            " 99% 269M/271M [00:04<00:00, 37.4MB/s]\n",
            "100% 271M/271M [00:04<00:00, 66.5MB/s]\n"
          ],
          "name": "stdout"
        }
      ]
    },
    {
      "cell_type": "code",
      "metadata": {
        "id": "PiwIL8d1n7eS",
        "colab": {
          "base_uri": "https://localhost:8080/"
        },
        "outputId": "648288d9-69ef-49c0-80e5-f9a105476b20"
      },
      "source": [
        "# Unzip training data\n",
        "from zipfile import ZipFile\n",
        "file_name = \"/content/train.zip\"\n",
        "with ZipFile(file_name, 'r') as zip:\n",
        "  zip.extractall()\n",
        "  print('done')"
      ],
      "execution_count": 5,
      "outputs": [
        {
          "output_type": "stream",
          "text": [
            "done\n"
          ],
          "name": "stdout"
        }
      ]
    },
    {
      "cell_type": "code",
      "metadata": {
        "id": "sa2Bj5i7pPKV",
        "colab": {
          "base_uri": "https://localhost:8080/"
        },
        "outputId": "b0b3f40e-63f8-4e98-fab1-dbdd04713197"
      },
      "source": [
        "# Get all the paths\n",
        "data_dir_list = os.listdir('/content/train')\n",
        "#print(data_dir_list)\n",
        "path, dirs, files = next(os.walk(\"/content/train\"))\n",
        "file_count = len(files)\n",
        "print(file_count)"
      ],
      "execution_count": 6,
      "outputs": [
        {
          "output_type": "stream",
          "text": [
            "25000\n"
          ],
          "name": "stdout"
        }
      ]
    },
    {
      "cell_type": "code",
      "metadata": {
        "id": "0ERlHkfHqpK8"
      },
      "source": [
        "# Make new base directory\n",
        "original_dataset_dir = '/content/train'\n",
        "base_dir = '/content/cats_and_dogs_small'\n",
        "os.mkdir(base_dir)"
      ],
      "execution_count": 8,
      "outputs": []
    },
    {
      "cell_type": "code",
      "metadata": {
        "id": "AANB1UJ6rQhM"
      },
      "source": [
        "train_dir = os.path.join(base_dir, 'train')\n",
        "os.mkdir(train_dir)\n",
        "\n",
        "validation_dir = os.path.join(base_dir, 'validation')\n",
        "os.mkdir(validation_dir)\n",
        "\n",
        "test_dir = os.path.join(base_dir, 'test')\n",
        "os.mkdir(test_dir)\n",
        "\n",
        "train_cats_dir = os.path.join(train_dir, 'cats')\n",
        "os.mkdir(train_cats_dir)\n",
        "\n",
        "train_dogs_dir = os.path.join(train_dir, 'dogs')\n",
        "os.mkdir(train_dogs_dir)\n",
        "\n",
        "validation_cats_dir = os.path.join(validation_dir, 'cats')\n",
        "os.mkdir(validation_cats_dir)\n",
        "\n",
        "validation_dogs_dir = os.path.join(validation_dir, 'dogs')\n",
        "os.mkdir(validation_dogs_dir)\n",
        "\n",
        "test_cats_dir = os.path.join(test_dir, 'cats')\n",
        "os.mkdir(test_cats_dir)\n",
        "\n",
        "test_dogs_dir = os.path.join(test_dir, 'dogs')\n",
        "os.mkdir(test_dogs_dir)"
      ],
      "execution_count": 9,
      "outputs": []
    },
    {
      "cell_type": "code",
      "metadata": {
        "id": "ULRgL9s9rV8T"
      },
      "source": [
        "import shutil\n",
        "fnames = ['cat.{}.jpg'.format(i) for i in range(1000)]\n",
        "for fname in fnames:\n",
        "    src = os.path.join(original_dataset_dir, fname)\n",
        "    dst = os.path.join(train_cats_dir, fname)\n",
        "    #print(src,dst)\n",
        "    shutil.copyfile(src, dst)\n",
        "    \n",
        "fnames = ['cat.{}.jpg'.format(i) for i in range(1000, 1500)]\n",
        "for fname in fnames:\n",
        "    src = os.path.join(original_dataset_dir, fname)\n",
        "    dst = os.path.join(validation_cats_dir, fname)\n",
        "    shutil.copyfile(src, dst)\n",
        "\n",
        "fnames = ['cat.{}.jpg'.format(i) for i in range(1500, 2000)]\n",
        "for fname in fnames:\n",
        "    src = os.path.join(original_dataset_dir, fname)\n",
        "    dst = os.path.join(test_cats_dir, fname)\n",
        "    shutil.copyfile(src, dst)\n",
        "    \n",
        "fnames = ['dog.{}.jpg'.format(i) for i in range(1000)]\n",
        "for fname in fnames:\n",
        "    src = os.path.join(original_dataset_dir, fname)\n",
        "    dst = os.path.join(train_dogs_dir, fname)\n",
        "    shutil.copyfile(src, dst)\n",
        "\n",
        "fnames = ['dog.{}.jpg'.format(i) for i in range(1000, 1500)]\n",
        "for fname in fnames:\n",
        "    src = os.path.join(original_dataset_dir, fname)\n",
        "    dst = os.path.join(validation_dogs_dir, fname)\n",
        "    shutil.copyfile(src, dst)\n",
        "\n",
        "fnames = ['dog.{}.jpg'.format(i) for i in range(1500, 2000)]\n",
        "for fname in fnames:\n",
        "    src = os.path.join(original_dataset_dir, fname)\n",
        "    dst = os.path.join(test_dogs_dir, fname)\n",
        "    shutil.copyfile(src, dst)"
      ],
      "execution_count": 10,
      "outputs": []
    },
    {
      "cell_type": "code",
      "metadata": {
        "id": "ul3XAbIyr7vC",
        "colab": {
          "base_uri": "https://localhost:8080/"
        },
        "outputId": "99b81b30-a963-4c56-a8a4-9da06a2332a4"
      },
      "source": [
        "print('total training cat images:', len(os.listdir(train_cats_dir)))\n",
        "print('total training dog images:', len(os.listdir(train_dogs_dir)))\n",
        "print('total validation cat images:', len(os.listdir(validation_cats_dir)))\n",
        "\n",
        "print('total validation dog images:', len(os.listdir(validation_dogs_dir)))\n",
        "print('total test cat images:', len(os.listdir(test_cats_dir)))\n",
        "print('total test dog images:', len(os.listdir(test_dogs_dir)))"
      ],
      "execution_count": 11,
      "outputs": [
        {
          "output_type": "stream",
          "text": [
            "total training cat images: 1000\n",
            "total training dog images: 1000\n",
            "total validation cat images: 500\n",
            "total validation dog images: 500\n",
            "total test cat images: 500\n",
            "total test dog images: 500\n"
          ],
          "name": "stdout"
        }
      ]
    },
    {
      "cell_type": "code",
      "metadata": {
        "id": "o9yTA21_r-ma",
        "colab": {
          "base_uri": "https://localhost:8080/"
        },
        "outputId": "7faeb11c-ea75-4d08-c443-293b9d7af099"
      },
      "source": [
        "from keras import layers\n",
        "from keras import models\n",
        "\n",
        "model = models.Sequential()\n",
        "model.add(layers.Conv2D(32, (3, 3), activation='relu', input_shape=(150, 150, 3)))\n",
        "model.add(layers.MaxPooling2D((2, 2)))\n",
        "model.add(layers.Conv2D(64, (3, 3), activation='relu'))\n",
        "model.add(layers.MaxPooling2D((2, 2)))\n",
        "model.add(layers.Conv2D(128, (3, 3), activation='relu'))\n",
        "model.add(layers.MaxPooling2D((2, 2)))\n",
        "model.add(layers.Conv2D(128, (3, 3), activation='relu'))\n",
        "model.add(layers.MaxPooling2D((2, 2)))\n",
        "model.add(layers.Flatten())\n",
        "model.add(layers.Dense(512, activation='relu'))\n",
        "model.add(layers.Dense(1, activation='sigmoid'))\n",
        "model.summary()"
      ],
      "execution_count": 12,
      "outputs": [
        {
          "output_type": "stream",
          "text": [
            "WARNING:tensorflow:From /tensorflow-1.15.2/python3.7/tensorflow_core/python/ops/resource_variable_ops.py:1630: calling BaseResourceVariable.__init__ (from tensorflow.python.ops.resource_variable_ops) with constraint is deprecated and will be removed in a future version.\n",
            "Instructions for updating:\n",
            "If using Keras pass *_constraint arguments to layers.\n",
            "WARNING:tensorflow:From /tensorflow-1.15.2/python3.7/keras/backend/tensorflow_backend.py:4070: The name tf.nn.max_pool is deprecated. Please use tf.nn.max_pool2d instead.\n",
            "\n"
          ],
          "name": "stdout"
        },
        {
          "output_type": "stream",
          "text": [
            "Using TensorFlow backend.\n"
          ],
          "name": "stderr"
        },
        {
          "output_type": "stream",
          "text": [
            "Model: \"sequential_1\"\n",
            "_________________________________________________________________\n",
            "Layer (type)                 Output Shape              Param #   \n",
            "=================================================================\n",
            "conv2d_1 (Conv2D)            (None, 148, 148, 32)      896       \n",
            "_________________________________________________________________\n",
            "max_pooling2d_1 (MaxPooling2 (None, 74, 74, 32)        0         \n",
            "_________________________________________________________________\n",
            "conv2d_2 (Conv2D)            (None, 72, 72, 64)        18496     \n",
            "_________________________________________________________________\n",
            "max_pooling2d_2 (MaxPooling2 (None, 36, 36, 64)        0         \n",
            "_________________________________________________________________\n",
            "conv2d_3 (Conv2D)            (None, 34, 34, 128)       73856     \n",
            "_________________________________________________________________\n",
            "max_pooling2d_3 (MaxPooling2 (None, 17, 17, 128)       0         \n",
            "_________________________________________________________________\n",
            "conv2d_4 (Conv2D)            (None, 15, 15, 128)       147584    \n",
            "_________________________________________________________________\n",
            "max_pooling2d_4 (MaxPooling2 (None, 7, 7, 128)         0         \n",
            "_________________________________________________________________\n",
            "flatten_1 (Flatten)          (None, 6272)              0         \n",
            "_________________________________________________________________\n",
            "dense_1 (Dense)              (None, 512)               3211776   \n",
            "_________________________________________________________________\n",
            "dense_2 (Dense)              (None, 1)                 513       \n",
            "=================================================================\n",
            "Total params: 3,453,121\n",
            "Trainable params: 3,453,121\n",
            "Non-trainable params: 0\n",
            "_________________________________________________________________\n"
          ],
          "name": "stdout"
        }
      ]
    },
    {
      "cell_type": "code",
      "metadata": {
        "id": "2mG8wekxsBVS",
        "colab": {
          "base_uri": "https://localhost:8080/"
        },
        "outputId": "f961771d-6cc2-4de1-c92d-b647d4dba7fc"
      },
      "source": [
        "from keras import optimizers\n",
        "model.compile(loss='binary_crossentropy', \n",
        "              optimizer=optimizers.RMSprop(lr=1e-4),\n",
        "              metrics=['acc'])"
      ],
      "execution_count": 13,
      "outputs": [
        {
          "output_type": "stream",
          "text": [
            "WARNING:tensorflow:From /tensorflow-1.15.2/python3.7/tensorflow_core/python/ops/nn_impl.py:183: where (from tensorflow.python.ops.array_ops) is deprecated and will be removed in a future version.\n",
            "Instructions for updating:\n",
            "Use tf.where in 2.0, which has the same broadcast rule as np.where\n"
          ],
          "name": "stdout"
        }
      ]
    },
    {
      "cell_type": "markdown",
      "metadata": {
        "id": "7zS4Klm8qWp6"
      },
      "source": [
        "## Using ImageDataGenerator to read images from directories\n",
        "As you know by now, data should be formatted into appropriately preprocessed floatingpoint tensors before being fed into the network. Currently, the data sits on a drive as JPEG files, so the steps for getting it into the network are roughly as follows:\n",
        "\n",
        "* Read the picture files.\n",
        "* Decode the JPEG content to RGB grids of pixels.\n",
        "* Convert these into floating-point tensors.\n",
        "* Rescale the pixel values (between 0 and 255) to the [0, 1] interval (as you know, neural networks prefer to deal with small input values).\n",
        "\n",
        "It may seem a bit daunting, but fortunately Keras has utilities to take care of these steps automatically. Keras has a module with image-processing helper tools, located at keras.preprocessing.image. In particular, it contains the class ImageDataGenerator,which lets you quickly set up Python generators that can automatically turn image files on disk into batches of preprocessed tensors."
      ]
    },
    {
      "cell_type": "code",
      "metadata": {
        "id": "XJ7XU7t9sEh6",
        "colab": {
          "base_uri": "https://localhost:8080/"
        },
        "outputId": "655b77ba-eca5-408a-f69f-ced1277b803c"
      },
      "source": [
        "from keras.preprocessing.image import ImageDataGenerator\n",
        "\n",
        "train_datagen = ImageDataGenerator(rescale=1./255)\n",
        "test_datagen = ImageDataGenerator(rescale=1./255)\n",
        "\n",
        "train_generator = train_datagen.flow_from_directory(train_dir,\n",
        "                                                    target_size=(150, 150), \n",
        "                                                    batch_size=20,\n",
        "                                                    class_mode='binary')\n",
        "\n",
        "validation_generator = test_datagen.flow_from_directory(validation_dir,\n",
        "                                                        target_size=(150, 150),\n",
        "                                                        batch_size=20,\n",
        "                                                        class_mode='binary')"
      ],
      "execution_count": 14,
      "outputs": [
        {
          "output_type": "stream",
          "text": [
            "Found 2000 images belonging to 2 classes.\n",
            "Found 1000 images belonging to 2 classes.\n"
          ],
          "name": "stdout"
        }
      ]
    },
    {
      "cell_type": "markdown",
      "metadata": {
        "id": "SEgLywySqm4u"
      },
      "source": [
        "Let’s fit the model to the data using the generator. You do so using the fit_generator method, the equivalent of fit for data generators like this one. It expects as its first argument a Python generator that will yield batches of inputs and targets indefinitely,like this one does. Because the data is being generated endlessly, the Keras model needs to know how many samples to draw from the generator before declaring anepoch over. This is the role of the `steps_per_epoch` argument: after having drawn `steps_per_epoch` batches from the generator—that is, after having run for `steps_per_epoch` gradient descent steps—the fitting process will go to the next epoch. In this case, batches are 20 samples, so it will take 100 batches until you see your target of 2,000 samples.\n",
        "\n",
        "When using fit_generator, you can pass a validation_data argument, much as with the fit method. It’s important to note that this argument is allowed to be a data generator, but it could also be a tuple of Numpy arrays. If you pass a generator as validation_data, then this generator is expected to yield batches of validation data endlessly; thus you should also specify the validation_steps argument, which tells the process how many batches to draw from the validation generator for evaluation."
      ]
    },
    {
      "cell_type": "code",
      "metadata": {
        "id": "yMyfPphJsJG6",
        "colab": {
          "base_uri": "https://localhost:8080/"
        },
        "outputId": "ac732e7b-9341-4bf6-ce76-2820e4d23414"
      },
      "source": [
        "history = model.fit_generator(train_generator,\n",
        "                              steps_per_epoch=100,\n",
        "                              epochs=30,\n",
        "                              validation_data=validation_generator,\n",
        "                              validation_steps=10)"
      ],
      "execution_count": 15,
      "outputs": [
        {
          "output_type": "stream",
          "text": [
            "WARNING:tensorflow:From /tensorflow-1.15.2/python3.7/keras/backend/tensorflow_backend.py:422: The name tf.global_variables is deprecated. Please use tf.compat.v1.global_variables instead.\n",
            "\n",
            "Epoch 1/30\n",
            "100/100 [==============================] - 13s 128ms/step - loss: 0.6916 - acc: 0.5410 - val_loss: 0.6530 - val_acc: 0.6550\n",
            "Epoch 2/30\n",
            "100/100 [==============================] - 6s 64ms/step - loss: 0.6505 - acc: 0.6300 - val_loss: 0.6975 - val_acc: 0.6050\n",
            "Epoch 3/30\n",
            "100/100 [==============================] - 6s 64ms/step - loss: 0.6041 - acc: 0.6675 - val_loss: 0.5701 - val_acc: 0.6250\n",
            "Epoch 4/30\n",
            "100/100 [==============================] - 6s 64ms/step - loss: 0.5643 - acc: 0.7140 - val_loss: 0.4964 - val_acc: 0.6450\n",
            "Epoch 5/30\n",
            "100/100 [==============================] - 6s 63ms/step - loss: 0.5289 - acc: 0.7425 - val_loss: 0.5935 - val_acc: 0.7400\n",
            "Epoch 6/30\n",
            "100/100 [==============================] - 6s 64ms/step - loss: 0.5089 - acc: 0.7510 - val_loss: 0.6287 - val_acc: 0.7200\n",
            "Epoch 7/30\n",
            "100/100 [==============================] - 6s 64ms/step - loss: 0.4733 - acc: 0.7825 - val_loss: 0.5000 - val_acc: 0.7350\n",
            "Epoch 8/30\n",
            "100/100 [==============================] - 6s 64ms/step - loss: 0.4515 - acc: 0.7855 - val_loss: 0.4860 - val_acc: 0.6900\n",
            "Epoch 9/30\n",
            "100/100 [==============================] - 6s 63ms/step - loss: 0.4221 - acc: 0.8120 - val_loss: 0.6983 - val_acc: 0.6700\n",
            "Epoch 10/30\n",
            "100/100 [==============================] - 6s 63ms/step - loss: 0.4061 - acc: 0.8150 - val_loss: 0.4241 - val_acc: 0.7200\n",
            "Epoch 11/30\n",
            "100/100 [==============================] - 6s 64ms/step - loss: 0.3692 - acc: 0.8360 - val_loss: 0.6879 - val_acc: 0.6950\n",
            "Epoch 12/30\n",
            "100/100 [==============================] - 6s 63ms/step - loss: 0.3505 - acc: 0.8490 - val_loss: 0.6415 - val_acc: 0.7450\n",
            "Epoch 13/30\n",
            "100/100 [==============================] - 6s 63ms/step - loss: 0.3188 - acc: 0.8715 - val_loss: 0.7880 - val_acc: 0.7450\n",
            "Epoch 14/30\n",
            "100/100 [==============================] - 6s 64ms/step - loss: 0.2969 - acc: 0.8830 - val_loss: 0.6758 - val_acc: 0.7050\n",
            "Epoch 15/30\n",
            "100/100 [==============================] - 6s 63ms/step - loss: 0.2855 - acc: 0.8785 - val_loss: 0.3285 - val_acc: 0.7450\n",
            "Epoch 16/30\n",
            "100/100 [==============================] - 6s 65ms/step - loss: 0.2423 - acc: 0.9095 - val_loss: 0.6679 - val_acc: 0.6450\n",
            "Epoch 17/30\n",
            "100/100 [==============================] - 6s 64ms/step - loss: 0.2370 - acc: 0.9100 - val_loss: 0.6775 - val_acc: 0.7900\n",
            "Epoch 18/30\n",
            "100/100 [==============================] - 6s 63ms/step - loss: 0.2139 - acc: 0.9240 - val_loss: 0.8845 - val_acc: 0.7650\n",
            "Epoch 19/30\n",
            "100/100 [==============================] - 6s 65ms/step - loss: 0.1848 - acc: 0.9310 - val_loss: 0.6632 - val_acc: 0.6950\n",
            "Epoch 20/30\n",
            "100/100 [==============================] - 6s 63ms/step - loss: 0.1698 - acc: 0.9375 - val_loss: 0.7981 - val_acc: 0.7150\n",
            "Epoch 21/30\n",
            "100/100 [==============================] - 6s 65ms/step - loss: 0.1493 - acc: 0.9520 - val_loss: 0.6773 - val_acc: 0.7550\n",
            "Epoch 22/30\n",
            "100/100 [==============================] - 6s 63ms/step - loss: 0.1250 - acc: 0.9575 - val_loss: 1.4544 - val_acc: 0.7500\n",
            "Epoch 23/30\n",
            "100/100 [==============================] - 6s 63ms/step - loss: 0.1170 - acc: 0.9585 - val_loss: 0.8288 - val_acc: 0.7150\n",
            "Epoch 24/30\n",
            "100/100 [==============================] - 6s 65ms/step - loss: 0.0985 - acc: 0.9725 - val_loss: 0.7995 - val_acc: 0.7850\n",
            "Epoch 25/30\n",
            "100/100 [==============================] - 6s 64ms/step - loss: 0.0862 - acc: 0.9750 - val_loss: 1.4432 - val_acc: 0.7250\n",
            "Epoch 26/30\n",
            "100/100 [==============================] - 6s 64ms/step - loss: 0.0777 - acc: 0.9780 - val_loss: 0.7209 - val_acc: 0.7100\n",
            "Epoch 27/30\n",
            "100/100 [==============================] - 6s 64ms/step - loss: 0.0642 - acc: 0.9825 - val_loss: 0.9342 - val_acc: 0.7200\n",
            "Epoch 28/30\n",
            "100/100 [==============================] - 6s 65ms/step - loss: 0.0517 - acc: 0.9870 - val_loss: 0.7337 - val_acc: 0.7100\n",
            "Epoch 29/30\n",
            "100/100 [==============================] - 7s 65ms/step - loss: 0.0437 - acc: 0.9905 - val_loss: 0.8075 - val_acc: 0.7350\n",
            "Epoch 30/30\n",
            "100/100 [==============================] - 6s 64ms/step - loss: 0.0433 - acc: 0.9880 - val_loss: 0.6073 - val_acc: 0.7150\n"
          ],
          "name": "stdout"
        }
      ]
    },
    {
      "cell_type": "code",
      "metadata": {
        "id": "MZaZ2HWZsNUi",
        "colab": {
          "base_uri": "https://localhost:8080/",
          "height": 545
        },
        "outputId": "658ee6e7-5148-4da0-b14b-9718c5ca556b"
      },
      "source": [
        "model.save('cats_and_dogs_small_1.h5')\n",
        "\n",
        "import matplotlib.pyplot as plt\n",
        "\n",
        "acc = history.history['acc']\n",
        "val_acc = history.history['val_acc']\n",
        "loss = history.history['loss']\n",
        "val_loss = history.history['val_loss']\n",
        "\n",
        "epochs = range(1, len(acc) + 1)\n",
        "\n",
        "plt.plot(epochs, acc, 'bo', label='Training acc')\n",
        "plt.plot(epochs, val_acc, 'b', label='Validation acc')\n",
        "plt.title('Training and validation accuracy')\n",
        "plt.legend()\n",
        "\n",
        "plt.figure()\n",
        "\n",
        "plt.plot(epochs, loss, 'bo', label='Training loss')\n",
        "plt.plot(epochs, val_loss, 'b', label='Validation loss')\n",
        "plt.title('Training and validation loss')\n",
        "plt.legend()\n",
        "\n",
        "plt.show()"
      ],
      "execution_count": 16,
      "outputs": [
        {
          "output_type": "display_data",
          "data": {
            "image/png": "[encoded data removed]",
            "text/plain": [
              "<Figure size 432x288 with 1 Axes>"
            ]
          },
          "metadata": {
            "tags": [],
            "needs_background": "light"
          }
        },
        {
          "output_type": "display_data",
          "data": {
            "image/png": "[encoded data removed]",
            "text/plain": [
              "<Figure size 432x288 with 1 Axes>"
            ]
          },
          "metadata": {
            "tags": [],
            "needs_background": "light"
          }
        }
      ]
    },
    {
      "cell_type": "markdown",
      "metadata": {
        "id": "XKZmXmBcq_8-"
      },
      "source": [
        "## Convolutional Networks with Dropout\n",
        "\n",
        "![alt text](https://camo.githubusercontent.com/ee6fa1073247cd2c3d241300caf110d7a7541bc5/68747470733a2f2f63646e2d696d616765732d312e6d656469756d2e636f6d2f6d61782f3830302f312a4972644a355067684439596f4f7956415137334d4a772e676966)\n",
        "\n",
        "Ref: https://github.com/mneha4/Training-Neural-Nets---Guidelines"
      ]
    },
    {
      "cell_type": "code",
      "metadata": {
        "id": "wu3cqeYQrDeN"
      },
      "source": [
        "model = models.Sequential()\n",
        "model.add(layers.Conv2D(32, (3, 3), activation='relu',\n",
        "input_shape=(150, 150, 3)))\n",
        "model.add(layers.MaxPooling2D((2, 2)))\n",
        "model.add(layers.Conv2D(64, (3, 3), activation='relu'))\n",
        "model.add(layers.MaxPooling2D((2, 2)))\n",
        "model.add(layers.Conv2D(128, (3, 3), activation='relu'))\n",
        "model.add(layers.MaxPooling2D((2, 2)))\n",
        "model.add(layers.Conv2D(128, (3, 3), activation='relu'))\n",
        "model.add(layers.MaxPooling2D((2, 2)))\n",
        "model.add(layers.Flatten())\n",
        "model.add(layers.Dropout(0.5))\n",
        "model.add(layers.Dense(512, activation='relu'))\n",
        "model.add(layers.Dense(1, activation='sigmoid'))\n",
        "\n",
        "model.compile(loss='binary_crossentropy',\n",
        "              optimizer=optimizers.RMSprop(lr=1e-4),\n",
        "              metrics=['acc'])"
      ],
      "execution_count": 17,
      "outputs": []
    },
    {
      "cell_type": "code",
      "metadata": {
        "id": "QSeLpvY0rH7F",
        "colab": {
          "base_uri": "https://localhost:8080/"
        },
        "outputId": "7e916257-a17b-44d6-b5ea-8e9485fccee9"
      },
      "source": [
        "\n",
        "train_datagen = ImageDataGenerator(rescale=1./255,\n",
        "                                   rotation_range=40,\n",
        "                                   width_shift_range=0.2,\n",
        "                                   height_shift_range=0.2,\n",
        "                                   shear_range=0.2,\n",
        "                                   zoom_range=0.2,\n",
        "                                   horizontal_flip=True,)\n",
        "\n",
        "test_datagen = ImageDataGenerator(rescale=1./255)\n",
        "\n",
        "train_generator = train_datagen.flow_from_directory(train_dir,\n",
        "                                                    target_size=(150, 150),\n",
        "                                                    batch_size=32,\n",
        "                                                    class_mode='binary')\n",
        "\n",
        "validation_generator = test_datagen.flow_from_directory(validation_dir,\n",
        "                                                        target_size=(150, 150),\n",
        "                                                        batch_size=32,\n",
        "                                                        class_mode='binary')\n",
        "\n",
        "history = model.fit_generator(train_generator,\n",
        "                              steps_per_epoch=100,\n",
        "                              epochs=30,\n",
        "                              validation_data=validation_generator,\n",
        "                              validation_steps=10)"
      ],
      "execution_count": 18,
      "outputs": [
        {
          "output_type": "stream",
          "text": [
            "Found 2000 images belonging to 2 classes.\n",
            "Found 1000 images belonging to 2 classes.\n",
            "Epoch 1/30\n",
            "100/100 [==============================] - 24s 238ms/step - loss: 0.6917 - acc: 0.5148 - val_loss: 0.6296 - val_acc: 0.5125\n",
            "Epoch 2/30\n",
            "100/100 [==============================] - 23s 230ms/step - loss: 0.6830 - acc: 0.5587 - val_loss: 0.6364 - val_acc: 0.5531\n",
            "Epoch 3/30\n",
            "100/100 [==============================] - 23s 230ms/step - loss: 0.6663 - acc: 0.5955 - val_loss: 0.6076 - val_acc: 0.6500\n",
            "Epoch 4/30\n",
            "100/100 [==============================] - 23s 234ms/step - loss: 0.6565 - acc: 0.6011 - val_loss: 0.6044 - val_acc: 0.5574\n",
            "Epoch 5/30\n",
            "100/100 [==============================] - 22s 223ms/step - loss: 0.6381 - acc: 0.6313 - val_loss: 0.6219 - val_acc: 0.6906\n",
            "Epoch 6/30\n",
            "100/100 [==============================] - 23s 231ms/step - loss: 0.6211 - acc: 0.6504 - val_loss: 0.7205 - val_acc: 0.6531\n",
            "Epoch 7/30\n",
            "100/100 [==============================] - 23s 232ms/step - loss: 0.6037 - acc: 0.6739 - val_loss: 0.4148 - val_acc: 0.7196\n",
            "Epoch 8/30\n",
            "100/100 [==============================] - 22s 224ms/step - loss: 0.5945 - acc: 0.6828 - val_loss: 0.6291 - val_acc: 0.6406\n",
            "Epoch 9/30\n",
            "100/100 [==============================] - 23s 231ms/step - loss: 0.5943 - acc: 0.6803 - val_loss: 0.4938 - val_acc: 0.7469\n",
            "Epoch 10/30\n",
            "100/100 [==============================] - 23s 230ms/step - loss: 0.5850 - acc: 0.6951 - val_loss: 0.6239 - val_acc: 0.6149\n",
            "Epoch 11/30\n",
            "100/100 [==============================] - 23s 228ms/step - loss: 0.5688 - acc: 0.7020 - val_loss: 0.4805 - val_acc: 0.7344\n",
            "Epoch 12/30\n",
            "100/100 [==============================] - 23s 232ms/step - loss: 0.5655 - acc: 0.7063 - val_loss: 0.5251 - val_acc: 0.7094\n",
            "Epoch 13/30\n",
            "100/100 [==============================] - 23s 228ms/step - loss: 0.5651 - acc: 0.7080 - val_loss: 0.4448 - val_acc: 0.7128\n",
            "Epoch 14/30\n",
            "100/100 [==============================] - 23s 229ms/step - loss: 0.5588 - acc: 0.7170 - val_loss: 0.4081 - val_acc: 0.7594\n",
            "Epoch 15/30\n",
            "100/100 [==============================] - 23s 228ms/step - loss: 0.5503 - acc: 0.7220 - val_loss: 0.6053 - val_acc: 0.7125\n",
            "Epoch 16/30\n",
            "100/100 [==============================] - 23s 227ms/step - loss: 0.5389 - acc: 0.7270 - val_loss: 0.3401 - val_acc: 0.6858\n",
            "Epoch 17/30\n",
            "100/100 [==============================] - 23s 226ms/step - loss: 0.5389 - acc: 0.7289 - val_loss: 0.5789 - val_acc: 0.6906\n",
            "Epoch 18/30\n",
            "100/100 [==============================] - 23s 228ms/step - loss: 0.5315 - acc: 0.7230 - val_loss: 0.5044 - val_acc: 0.7812\n",
            "Epoch 19/30\n",
            "100/100 [==============================] - 23s 226ms/step - loss: 0.5331 - acc: 0.7374 - val_loss: 0.5178 - val_acc: 0.7688\n",
            "Epoch 20/30\n",
            "100/100 [==============================] - 23s 230ms/step - loss: 0.5223 - acc: 0.7367 - val_loss: 0.5763 - val_acc: 0.7095\n",
            "Epoch 21/30\n",
            "100/100 [==============================] - 22s 224ms/step - loss: 0.5119 - acc: 0.7418 - val_loss: 0.5081 - val_acc: 0.7625\n",
            "Epoch 22/30\n",
            "100/100 [==============================] - 23s 226ms/step - loss: 0.5212 - acc: 0.7364 - val_loss: 0.4524 - val_acc: 0.7375\n",
            "Epoch 23/30\n",
            "100/100 [==============================] - 23s 231ms/step - loss: 0.5091 - acc: 0.7497 - val_loss: 0.4858 - val_acc: 0.7635\n",
            "Epoch 24/30\n",
            "100/100 [==============================] - 22s 223ms/step - loss: 0.5176 - acc: 0.7497 - val_loss: 0.6188 - val_acc: 0.7531\n",
            "Epoch 25/30\n",
            "100/100 [==============================] - 23s 228ms/step - loss: 0.5135 - acc: 0.7509 - val_loss: 0.7716 - val_acc: 0.7437\n",
            "Epoch 26/30\n",
            "100/100 [==============================] - 23s 228ms/step - loss: 0.5055 - acc: 0.7569 - val_loss: 0.5028 - val_acc: 0.7770\n",
            "Epoch 27/30\n",
            "100/100 [==============================] - 22s 225ms/step - loss: 0.4885 - acc: 0.7585 - val_loss: 0.3445 - val_acc: 0.8000\n",
            "Epoch 28/30\n",
            "100/100 [==============================] - 23s 228ms/step - loss: 0.4928 - acc: 0.7643 - val_loss: 0.4305 - val_acc: 0.7500\n",
            "Epoch 29/30\n",
            "100/100 [==============================] - 23s 228ms/step - loss: 0.4995 - acc: 0.7491 - val_loss: 0.3915 - val_acc: 0.7534\n",
            "Epoch 30/30\n",
            "100/100 [==============================] - 22s 224ms/step - loss: 0.4900 - acc: 0.7699 - val_loss: 0.5860 - val_acc: 0.6750\n"
          ],
          "name": "stdout"
        }
      ]
    },
    {
      "cell_type": "markdown",
      "metadata": {
        "id": "BRdU5yrkUF_b"
      },
      "source": [
        "# Task 2:\n",
        "\n",
        "We have used Dropout to enhance the performance of the CNN model. Can you please use whatever you like to further enhance the performance from `val_acc: 0.7506`? "
      ]
    },
    {
      "cell_type": "code",
      "metadata": {
        "id": "ySWzVqr_0JvI"
      },
      "source": [
        "# Adding Batch Normalisation to CovNet to Optimize Training\n",
        "\n",
        "model1 = models.Sequential()\n",
        "model1.add(layers.Conv2D(32, (3, 3), activation='relu',\n",
        "input_shape=(150, 150, 3)))\n",
        "model1.add(layers.BatchNormalization())\n",
        "model1.add(layers.MaxPooling2D((2, 2)))\n",
        "\n",
        "model1.add(layers.Conv2D(64, (3, 3), activation='relu'))\n",
        "model1.add(layers.BatchNormalization())\n",
        "model1.add(layers.MaxPooling2D((2, 2)))\n",
        "\n",
        "model1.add(layers.Conv2D(128, (3, 3), activation='relu'))\n",
        "model1.add(layers.MaxPooling2D((2, 2)))\n",
        "model1.add(layers.Conv2D(128, (3, 3), activation='relu'))\n",
        "model1.add(layers.BatchNormalization())\n",
        "model1.add(layers.MaxPooling2D((2, 2)))\n",
        "\n",
        "model1.add(layers.Flatten())\n",
        "model1.add(layers.Dropout(0.5))\n",
        "model1.add(layers.Dense(512, activation='relu'))\n",
        "model1.add(layers.Dense(1, activation='sigmoid'))\n",
        "\n",
        "model1.compile(loss='binary_crossentropy',\n",
        "              optimizer=optimizers.RMSprop(lr=1e-4),\n",
        "              metrics=['acc'])"
      ],
      "execution_count": 21,
      "outputs": []
    },
    {
      "cell_type": "code",
      "metadata": {
        "id": "O2ecdshK0Nnw",
        "colab": {
          "base_uri": "https://localhost:8080/"
        },
        "outputId": "5e0eafe7-fbe5-4b27-d198-33ba2e7d753b"
      },
      "source": [
        "history = model1.fit_generator(train_generator,\n",
        "                              steps_per_epoch=100,\n",
        "                              epochs=30, \n",
        "                              validation_data=validation_generator,\n",
        "                              validation_steps=10)"
      ],
      "execution_count": 22,
      "outputs": [
        {
          "output_type": "stream",
          "text": [
            "Epoch 1/30\n",
            "100/100 [==============================] - 24s 235ms/step - loss: 1.0174 - acc: 0.5893 - val_loss: 0.8306 - val_acc: 0.4906\n",
            "Epoch 2/30\n",
            "100/100 [==============================] - 23s 232ms/step - loss: 0.8458 - acc: 0.6002 - val_loss: 0.6805 - val_acc: 0.5312\n",
            "Epoch 3/30\n",
            "100/100 [==============================] - 23s 228ms/step - loss: 0.7527 - acc: 0.6307 - val_loss: 1.4959 - val_acc: 0.5281\n",
            "Epoch 4/30\n",
            "100/100 [==============================] - 23s 235ms/step - loss: 0.7116 - acc: 0.6388 - val_loss: 1.1136 - val_acc: 0.5541\n",
            "Epoch 5/30\n",
            "100/100 [==============================] - 23s 226ms/step - loss: 0.6682 - acc: 0.6477 - val_loss: 0.5093 - val_acc: 0.6594\n",
            "Epoch 6/30\n",
            "100/100 [==============================] - 23s 231ms/step - loss: 0.6239 - acc: 0.6665 - val_loss: 0.5868 - val_acc: 0.7437\n",
            "Epoch 7/30\n",
            "100/100 [==============================] - 23s 231ms/step - loss: 0.5886 - acc: 0.6926 - val_loss: 0.5658 - val_acc: 0.7297\n",
            "Epoch 8/30\n",
            "100/100 [==============================] - 23s 226ms/step - loss: 0.5939 - acc: 0.6922 - val_loss: 0.6808 - val_acc: 0.6938\n",
            "Epoch 9/30\n",
            "100/100 [==============================] - 23s 229ms/step - loss: 0.5868 - acc: 0.7058 - val_loss: 0.5135 - val_acc: 0.7312\n",
            "Epoch 10/30\n",
            "100/100 [==============================] - 23s 230ms/step - loss: 0.5743 - acc: 0.6982 - val_loss: 0.5951 - val_acc: 0.6723\n",
            "Epoch 11/30\n",
            "100/100 [==============================] - 23s 226ms/step - loss: 0.5687 - acc: 0.7143 - val_loss: 0.7131 - val_acc: 0.7344\n",
            "Epoch 12/30\n",
            "100/100 [==============================] - 23s 231ms/step - loss: 0.5634 - acc: 0.7126 - val_loss: 0.4525 - val_acc: 0.7625\n",
            "Epoch 13/30\n",
            "100/100 [==============================] - 23s 229ms/step - loss: 0.5241 - acc: 0.7431 - val_loss: 0.6211 - val_acc: 0.7365\n",
            "Epoch 14/30\n",
            "100/100 [==============================] - 23s 226ms/step - loss: 0.5441 - acc: 0.7345 - val_loss: 0.4105 - val_acc: 0.7344\n",
            "Epoch 15/30\n",
            "100/100 [==============================] - 23s 231ms/step - loss: 0.5361 - acc: 0.7387 - val_loss: 0.5443 - val_acc: 0.7031\n",
            "Epoch 16/30\n",
            "100/100 [==============================] - 23s 230ms/step - loss: 0.5431 - acc: 0.7230 - val_loss: 0.4827 - val_acc: 0.7297\n",
            "Epoch 17/30\n",
            "100/100 [==============================] - 23s 228ms/step - loss: 0.5098 - acc: 0.7500 - val_loss: 0.7373 - val_acc: 0.6906\n",
            "Epoch 18/30\n",
            "100/100 [==============================] - 23s 228ms/step - loss: 0.5130 - acc: 0.7427 - val_loss: 0.5261 - val_acc: 0.7625\n",
            "Epoch 19/30\n",
            "100/100 [==============================] - 23s 232ms/step - loss: 0.5132 - acc: 0.7519 - val_loss: 0.6027 - val_acc: 0.6812\n",
            "Epoch 20/30\n",
            "100/100 [==============================] - 23s 233ms/step - loss: 0.5088 - acc: 0.7494 - val_loss: 0.5963 - val_acc: 0.7027\n",
            "Epoch 21/30\n",
            "100/100 [==============================] - 22s 223ms/step - loss: 0.5039 - acc: 0.7585 - val_loss: 0.9605 - val_acc: 0.7906\n",
            "Epoch 22/30\n",
            "100/100 [==============================] - 23s 230ms/step - loss: 0.5056 - acc: 0.7604 - val_loss: 0.6260 - val_acc: 0.7031\n",
            "Epoch 23/30\n",
            "100/100 [==============================] - 23s 232ms/step - loss: 0.4868 - acc: 0.7718 - val_loss: 0.3513 - val_acc: 0.7365\n",
            "Epoch 24/30\n",
            "100/100 [==============================] - 23s 226ms/step - loss: 0.4896 - acc: 0.7754 - val_loss: 0.4695 - val_acc: 0.7375\n",
            "Epoch 25/30\n",
            "100/100 [==============================] - 23s 227ms/step - loss: 0.4750 - acc: 0.7753 - val_loss: 0.4772 - val_acc: 0.7437\n",
            "Epoch 26/30\n",
            "100/100 [==============================] - 23s 232ms/step - loss: 0.4747 - acc: 0.7682 - val_loss: 0.3228 - val_acc: 0.7905\n",
            "Epoch 27/30\n",
            "100/100 [==============================] - 23s 227ms/step - loss: 0.4665 - acc: 0.7918 - val_loss: 0.4805 - val_acc: 0.7156\n",
            "Epoch 28/30\n",
            "100/100 [==============================] - 23s 230ms/step - loss: 0.4627 - acc: 0.7784 - val_loss: 0.6891 - val_acc: 0.7156\n",
            "Epoch 29/30\n",
            "100/100 [==============================] - 23s 228ms/step - loss: 0.4563 - acc: 0.7898 - val_loss: 0.4715 - val_acc: 0.7196\n",
            "Epoch 30/30\n",
            "100/100 [==============================] - 23s 228ms/step - loss: 0.4636 - acc: 0.7749 - val_loss: 0.4051 - val_acc: 0.8000\n"
          ],
          "name": "stdout"
        }
      ]
    },
    {
      "cell_type": "code",
      "metadata": {
        "colab": {
          "base_uri": "https://localhost:8080/",
          "height": 545
        },
        "id": "hoqm6yOFUCt5",
        "outputId": "ae41df36-a8bd-435b-b1f7-41b992379d75"
      },
      "source": [
        "acc = history.history['acc']\n",
        "val_acc = history.history['val_acc']\n",
        "loss = history.history['loss']\n",
        "val_loss = history.history['val_loss']\n",
        "\n",
        "epochs = range(1, len(acc) + 1)\n",
        "\n",
        "plt.plot(epochs, acc, 'bo', label='Training acc')\n",
        "plt.plot(epochs, val_acc, 'b', label='Validation acc')\n",
        "plt.title('Training and validation accuracy')\n",
        "plt.legend()\n",
        "\n",
        "plt.figure()\n",
        "\n",
        "plt.plot(epochs, loss, 'bo', label='Training loss')\n",
        "plt.plot(epochs, val_loss, 'b', label='Validation loss')\n",
        "plt.title('Training and validation loss')\n",
        "plt.legend()\n",
        "\n",
        "plt.show()"
      ],
      "execution_count": 23,
      "outputs": [
        {
          "output_type": "display_data",
          "data": {
            "image/png": "[encoded data removed]",
            "text/plain": [
              "<Figure size 432x288 with 1 Axes>"
            ]
          },
          "metadata": {
            "tags": [],
            "needs_background": "light"
          }
        },
        {
          "output_type": "display_data",
          "data": {
            "image/png": "[encoded data removed]",
            "text/plain": [
              "<Figure size 432x288 with 1 Axes>"
            ]
          },
          "metadata": {
            "tags": [],
            "needs_background": "light"
          }
        }
      ]
    }
  ]
}
