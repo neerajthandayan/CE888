{
  "nbformat": 4,
  "nbformat_minor": 0,
  "metadata": {
    "kernelspec": {
      "display_name": "Python 3",
      "language": "python",
      "name": "python3"
    },
    "language_info": {
      "codemirror_mode": {
        "name": "ipython",
        "version": 3
      },
      "file_extension": ".py",
      "mimetype": "text/x-python",
      "name": "python",
      "nbconvert_exporter": "python",
      "pygments_lexer": "ipython3",
      "version": "3.6.5"
    },
    "colab": {
      "name": "Exercise_3_RNN.ipynb",
      "provenance": [],
      "toc_visible": true,
      "include_colab_link": true
    }
  },
  "cells": [
    {
      "cell_type": "markdown",
      "metadata": {
        "id": "view-in-github",
        "colab_type": "text"
      },
      "source": [
        "<a href=\"https://colab.research.google.com/github/neerajviswajith/CE888/blob/main/Lab7/Exercise_3_RNN.ipynb\" target=\"_parent\"><img src=\"https://colab.research.google.com/assets/colab-badge.svg\" alt=\"Open In Colab\"/></a>"
      ]
    },
    {
      "cell_type": "code",
      "metadata": {
        "id": "2OEAdhW0qjg9",
        "colab": {
          "base_uri": "https://localhost:8080/",
          "height": 35
        },
        "outputId": "b76d36b1-ac82-4046-b62e-1c2111d88da8"
      },
      "source": [
        "import keras\n",
        "keras.__version__"
      ],
      "execution_count": 108,
      "outputs": [
        {
          "output_type": "execute_result",
          "data": {
            "application/vnd.google.colaboratory.intrinsic+json": {
              "type": "string"
            },
            "text/plain": [
              "'2.4.3'"
            ]
          },
          "metadata": {
            "tags": []
          },
          "execution_count": 108
        }
      ]
    },
    {
      "cell_type": "code",
      "metadata": {
        "id": "TYsNtFxgqjhC",
        "colab": {
          "base_uri": "https://localhost:8080/"
        },
        "outputId": "b5e73e5c-e867-49e4-c6bc-17f51a35d73e"
      },
      "source": [
        "from keras.preprocessing.text import Tokenizer\n",
        "samples = ['The cat sat on the mat.', 'The dog ate my homework.']\n",
        "\n",
        "# We create a tokenizer, configured to only take into account the top-1000 most common words\n",
        "tokenizer = Tokenizer(num_words=1000)\n",
        "\n",
        "# This builds the word index\n",
        "tokenizer.fit_on_texts(samples)\n",
        "\n",
        "# This turns strings into lists of integer indices.\n",
        "sequences = tokenizer.texts_to_sequences(samples)\n",
        "\n",
        "# You could also directly get the one-hot binary representations.\n",
        "# Note that other vectorization modes than one-hot encoding are supported!\n",
        "one_hot_results = tokenizer.texts_to_matrix(samples, mode='binary')\n",
        "\n",
        "# This is how you can recover the word index that was computed\n",
        "word_index = tokenizer.word_index\n",
        "print('Found %s unique tokens.' % len(word_index))"
      ],
      "execution_count": 109,
      "outputs": [
        {
          "output_type": "stream",
          "text": [
            "Found 9 unique tokens.\n"
          ],
          "name": "stdout"
        }
      ]
    },
    {
      "cell_type": "code",
      "metadata": {
        "id": "_1bFuvqKqjhF",
        "colab": {
          "base_uri": "https://localhost:8080/"
        },
        "outputId": "d984b48b-aeca-413a-9f77-bba058293f94"
      },
      "source": [
        "one_hot_results"
      ],
      "execution_count": 110,
      "outputs": [
        {
          "output_type": "execute_result",
          "data": {
            "text/plain": [
              "array([[0., 1., 1., ..., 0., 0., 0.],\n",
              "       [0., 1., 0., ..., 0., 0., 0.]])"
            ]
          },
          "metadata": {
            "tags": []
          },
          "execution_count": 110
        }
      ]
    },
    {
      "cell_type": "markdown",
      "metadata": {
        "id": "95o1mdJkqjhI"
      },
      "source": [
        "Using word-embeddings "
      ]
    },
    {
      "cell_type": "code",
      "metadata": {
        "id": "DSAIqfdoqjhJ",
        "colab": {
          "base_uri": "https://localhost:8080/"
        },
        "outputId": "92efcdc4-3866-412c-8f44-8940889c95d1"
      },
      "source": [
        "from keras.datasets import imdb\n",
        "from keras.preprocessing import sequence\n",
        "\n",
        "max_features = 10000\n",
        "maxlen = 500\n",
        "batch_size = 32\n",
        "print('Loading data...')\n",
        "(input_train, y_train), (input_test, y_test) = imdb.load_data(num_words=max_features)\n",
        "print(len(input_train), 'train sequences')\n",
        "print(len(input_test), 'test sequences')\n",
        "print('Pad sequences (samples x time)')\n",
        "input_train = sequence.pad_sequences(input_train, maxlen=maxlen)\n",
        "input_test = sequence.pad_sequences(input_test, maxlen=maxlen)\n",
        "print('input_train shape:', input_train.shape)\n",
        "print('input_test shape:', input_test.shape)"
      ],
      "execution_count": 111,
      "outputs": [
        {
          "output_type": "stream",
          "text": [
            "Loading data...\n"
          ],
          "name": "stdout"
        },
        {
          "output_type": "stream",
          "text": [
            "<string>:6: VisibleDeprecationWarning: Creating an ndarray from ragged nested sequences (which is a list-or-tuple of lists-or-tuples-or ndarrays with different lengths or shapes) is deprecated. If you meant to do this, you must specify 'dtype=object' when creating the ndarray\n",
            "/usr/local/lib/python3.7/dist-packages/tensorflow/python/keras/datasets/imdb.py:159: VisibleDeprecationWarning: Creating an ndarray from ragged nested sequences (which is a list-or-tuple of lists-or-tuples-or ndarrays with different lengths or shapes) is deprecated. If you meant to do this, you must specify 'dtype=object' when creating the ndarray\n",
            "  x_train, y_train = np.array(xs[:idx]), np.array(labels[:idx])\n"
          ],
          "name": "stderr"
        },
        {
          "output_type": "stream",
          "text": [
            "25000 train sequences\n",
            "25000 test sequences\n",
            "Pad sequences (samples x time)\n",
            "input_train shape: (25000, 500)\n",
            "input_test shape: (25000, 500)\n"
          ],
          "name": "stdout"
        },
        {
          "output_type": "stream",
          "text": [
            "/usr/local/lib/python3.7/dist-packages/tensorflow/python/keras/datasets/imdb.py:160: VisibleDeprecationWarning: Creating an ndarray from ragged nested sequences (which is a list-or-tuple of lists-or-tuples-or ndarrays with different lengths or shapes) is deprecated. If you meant to do this, you must specify 'dtype=object' when creating the ndarray\n",
            "  x_test, y_test = np.array(xs[idx:]), np.array(labels[idx:])\n"
          ],
          "name": "stderr"
        }
      ]
    },
    {
      "cell_type": "markdown",
      "metadata": {
        "id": "5ssh97qDqjhM"
      },
      "source": [
        "### Training the model with Embedding and SimpleRNN layers"
      ]
    },
    {
      "cell_type": "code",
      "metadata": {
        "id": "t_lIlBilqjhN",
        "colab": {
          "base_uri": "https://localhost:8080/"
        },
        "outputId": "03b9a235-1816-4220-8765-8234c5e14c9c"
      },
      "source": [
        "from keras.layers import Dense\n",
        "from keras.layers import Embedding, SimpleRNN\n",
        "from keras.models import Sequential\n",
        "\n",
        "model = Sequential()\n",
        "model.add(Embedding(max_features, 32))\n",
        "model.add(SimpleRNN(32))\n",
        "model.add(Dense(1, activation='sigmoid'))\n",
        "model.summary()\n",
        "model.compile(optimizer='rmsprop', loss='binary_crossentropy', metrics=['acc'])\n",
        "history = model.fit(input_train, y_train, \n",
        "                    epochs=10,\n",
        "                    batch_size=128,\n",
        "                    validation_split=0.2)\n"
      ],
      "execution_count": 112,
      "outputs": [
        {
          "output_type": "stream",
          "text": [
            "Model: \"sequential_90\"\n",
            "_________________________________________________________________\n",
            "Layer (type)                 Output Shape              Param #   \n",
            "=================================================================\n",
            "embedding_2 (Embedding)      (None, None, 32)          320000    \n",
            "_________________________________________________________________\n",
            "simple_rnn_1 (SimpleRNN)     (None, 32)                2080      \n",
            "_________________________________________________________________\n",
            "dense_67 (Dense)             (None, 1)                 33        \n",
            "=================================================================\n",
            "Total params: 322,113\n",
            "Trainable params: 322,113\n",
            "Non-trainable params: 0\n",
            "_________________________________________________________________\n",
            "Epoch 1/10\n",
            "157/157 [==============================] - 27s 164ms/step - loss: 0.6508 - acc: 0.6055 - val_loss: 0.4272 - val_acc: 0.8286\n",
            "Epoch 2/10\n",
            "157/157 [==============================] - 25s 158ms/step - loss: 0.3730 - acc: 0.8479 - val_loss: 0.4217 - val_acc: 0.8150\n",
            "Epoch 3/10\n",
            "157/157 [==============================] - 25s 159ms/step - loss: 0.2732 - acc: 0.8930 - val_loss: 0.3952 - val_acc: 0.8360\n",
            "Epoch 4/10\n",
            "157/157 [==============================] - 25s 162ms/step - loss: 0.2118 - acc: 0.9213 - val_loss: 0.3691 - val_acc: 0.8436\n",
            "Epoch 5/10\n",
            "157/157 [==============================] - 25s 161ms/step - loss: 0.1650 - acc: 0.9405 - val_loss: 0.3787 - val_acc: 0.8580\n",
            "Epoch 6/10\n",
            "157/157 [==============================] - 25s 161ms/step - loss: 0.1088 - acc: 0.9638 - val_loss: 0.3853 - val_acc: 0.8650\n",
            "Epoch 7/10\n",
            "157/157 [==============================] - 25s 161ms/step - loss: 0.0704 - acc: 0.9774 - val_loss: 0.4905 - val_acc: 0.8414\n",
            "Epoch 8/10\n",
            "157/157 [==============================] - 25s 159ms/step - loss: 0.0483 - acc: 0.9855 - val_loss: 0.5755 - val_acc: 0.7914\n",
            "Epoch 9/10\n",
            "157/157 [==============================] - 25s 160ms/step - loss: 0.0346 - acc: 0.9891 - val_loss: 0.6217 - val_acc: 0.7972\n",
            "Epoch 10/10\n",
            "157/157 [==============================] - 25s 163ms/step - loss: 0.0233 - acc: 0.9935 - val_loss: 0.5550 - val_acc: 0.8542\n"
          ],
          "name": "stdout"
        }
      ]
    },
    {
      "cell_type": "code",
      "metadata": {
        "id": "w03gEZ2RqjhQ",
        "colab": {
          "base_uri": "https://localhost:8080/",
          "height": 545
        },
        "outputId": "c6cbba38-1ee5-4a30-d16b-de2bf2c8a9d5"
      },
      "source": [
        "import matplotlib.pyplot as plt\n",
        "\n",
        "acc = history.history['acc']\n",
        "val_acc = history.history['val_acc']\n",
        "loss = history.history['loss']\n",
        "val_loss = history.history['val_loss']\n",
        "\n",
        "epochs = range(1, len(acc) + 1)\n",
        "\n",
        "plt.plot(epochs, acc, 'bo', label='Training acc')\n",
        "plt.plot(epochs, val_acc, 'b', label='Validation acc')\n",
        "plt.title('Training and validation accuracy')\n",
        "plt.legend()\n",
        "\n",
        "plt.figure()\n",
        "\n",
        "plt.plot(epochs, loss, 'bo', label='Training loss')\n",
        "plt.plot(epochs, val_loss, 'b', label='Validation loss')\n",
        "plt.title('Training and validation loss')\n",
        "plt.legend()\n",
        "\n",
        "plt.show()"
      ],
      "execution_count": 113,
      "outputs": [
        {
          "output_type": "display_data",
          "data": {
            "image/png": "[encoded data removed]",
            "text/plain": [
              "<Figure size 432x288 with 1 Axes>"
            ]
          },
          "metadata": {
            "tags": [],
            "needs_background": "light"
          }
        },
        {
          "output_type": "display_data",
          "data": {
            "image/png": "[encoded data removed]",
            "text/plain": [
              "<Figure size 432x288 with 1 Axes>"
            ]
          },
          "metadata": {
            "tags": [],
            "needs_background": "light"
          }
        }
      ]
    },
    {
      "cell_type": "markdown",
      "metadata": {
        "id": "mz8CfgKcqjhT"
      },
      "source": [
        "### Training the model with Embedding and SimpleRNN layers"
      ]
    },
    {
      "cell_type": "code",
      "metadata": {
        "id": "U_wjH-KGqjhU",
        "colab": {
          "base_uri": "https://localhost:8080/"
        },
        "outputId": "9481c182-3b67-40c1-f092-f04d5be08c31"
      },
      "source": [
        "from keras.layers import LSTM\n",
        "\n",
        "model = Sequential()\n",
        "model.add(Embedding(max_features, 32))\n",
        "model.add(LSTM(32))\n",
        "model.add(Dense(1, activation='sigmoid'))\n",
        "model.compile(optimizer='rmsprop',\n",
        "loss='binary_crossentropy',\n",
        "metrics=['acc'])\n",
        "history = model.fit(input_train, y_train,\n",
        "                    epochs=10,\n",
        "                    batch_size=128,\n",
        "                    validation_split=0.2)"
      ],
      "execution_count": 114,
      "outputs": [
        {
          "output_type": "stream",
          "text": [
            "Epoch 1/10\n",
            "157/157 [==============================] - 59s 358ms/step - loss: 0.6093 - acc: 0.6692 - val_loss: 0.4448 - val_acc: 0.7884\n",
            "Epoch 2/10\n",
            "157/157 [==============================] - 60s 382ms/step - loss: 0.3187 - acc: 0.8740 - val_loss: 0.3369 - val_acc: 0.8574\n",
            "Epoch 3/10\n",
            "157/157 [==============================] - 59s 374ms/step - loss: 0.2338 - acc: 0.9127 - val_loss: 0.3036 - val_acc: 0.8716\n",
            "Epoch 4/10\n",
            "157/157 [==============================] - 60s 381ms/step - loss: 0.2057 - acc: 0.9242 - val_loss: 0.2936 - val_acc: 0.8750\n",
            "Epoch 5/10\n",
            "157/157 [==============================] - 60s 382ms/step - loss: 0.1710 - acc: 0.9396 - val_loss: 0.5736 - val_acc: 0.8200\n",
            "Epoch 6/10\n",
            "157/157 [==============================] - 59s 378ms/step - loss: 0.1713 - acc: 0.9427 - val_loss: 0.3755 - val_acc: 0.8458\n",
            "Epoch 7/10\n",
            "157/157 [==============================] - 59s 378ms/step - loss: 0.1358 - acc: 0.9517 - val_loss: 0.3132 - val_acc: 0.8884\n",
            "Epoch 8/10\n",
            "157/157 [==============================] - 58s 371ms/step - loss: 0.1264 - acc: 0.9556 - val_loss: 0.3295 - val_acc: 0.8872\n",
            "Epoch 9/10\n",
            "157/157 [==============================] - 57s 366ms/step - loss: 0.1127 - acc: 0.9608 - val_loss: 0.6195 - val_acc: 0.8230\n",
            "Epoch 10/10\n",
            "157/157 [==============================] - 58s 369ms/step - loss: 0.1002 - acc: 0.9642 - val_loss: 0.3737 - val_acc: 0.8840\n"
          ],
          "name": "stdout"
        }
      ]
    },
    {
      "cell_type": "code",
      "metadata": {
        "id": "HU4eGq-DqjhX",
        "colab": {
          "base_uri": "https://localhost:8080/",
          "height": 545
        },
        "outputId": "5029682a-5db2-4ead-9fec-69eca6ef22e5"
      },
      "source": [
        "import matplotlib.pyplot as plt\n",
        "\n",
        "acc = history.history['acc']\n",
        "val_acc = history.history['val_acc']\n",
        "loss = history.history['loss']\n",
        "val_loss = history.history['val_loss']\n",
        "\n",
        "epochs = range(1, len(acc) + 1)\n",
        "\n",
        "plt.plot(epochs, acc, 'bo', label='Training acc')\n",
        "plt.plot(epochs, val_acc, 'b', label='Validation acc')\n",
        "plt.title('Training and validation accuracy')\n",
        "plt.legend()\n",
        "\n",
        "plt.figure()\n",
        "\n",
        "plt.plot(epochs, loss, 'bo', label='Training loss')\n",
        "plt.plot(epochs, val_loss, 'b', label='Validation loss')\n",
        "plt.title('Training and validation loss')\n",
        "plt.legend()\n",
        "\n",
        "plt.show()"
      ],
      "execution_count": 115,
      "outputs": [
        {
          "output_type": "display_data",
          "data": {
            "image/png": "[encoded data removed]",
            "text/plain": [
              "<Figure size 432x288 with 1 Axes>"
            ]
          },
          "metadata": {
            "tags": [],
            "needs_background": "light"
          }
        },
        {
          "output_type": "display_data",
          "data": {
            "image/png": "[encoded data removed]",
            "text/plain": [
              "<Figure size 432x288 with 1 Axes>"
            ]
          },
          "metadata": {
            "tags": [],
            "needs_background": "light"
          }
        }
      ]
    },
    {
      "cell_type": "markdown",
      "metadata": {
        "id": "r69U5tFUZ82R"
      },
      "source": [
        "### Task 3: \n",
        "\n",
        "Please consider this Time Series Prediction with LSTM Recurrent Neural Networks. We can see that the LSTM model in the code below has an average error of about 23 passengers (in thousands) on the training dataset, and about 53 passengers (in thousands) on the test dataset. Not that bad. Can you please improve the performance?\n",
        "\n",
        "#### Dataset Discription\n",
        "The problem we are going to look at in this post is the International Airline Passengers prediction problem.\n",
        "This is a problem where, given a year and a month, the task is to predict the number of international airline passengers in units of 1,000. The data ranges from January 1949 to December 1960, or 12 years, with 144 observations.\n",
        "\n"
      ]
    },
    {
      "cell_type": "code",
      "metadata": {
        "colab": {
          "base_uri": "https://localhost:8080/",
          "height": 1000
        },
        "id": "w1vSusoyatCW",
        "outputId": "c67d7c34-e3e9-4193-8e35-b451843451e2"
      },
      "source": [
        "import numpy\n",
        "import math\n",
        "import matplotlib.pyplot as plt\n",
        "from pandas import read_csv\n",
        "from keras.models import Sequential\n",
        "from keras.layers import Dense, Dropout\n",
        "from keras.layers import LSTM, GRU\n",
        "from keras.optimizers import RMSprop\n",
        "from sklearn.preprocessing import MinMaxScaler\n",
        "from sklearn.metrics import mean_squared_error\n",
        "\n",
        "# convert an array of values into a dataset matrix\n",
        "def create_dataset(dataset, look_back=1):\n",
        "\tdataX, dataY = [], []\n",
        "\tfor i in range(len(dataset)-look_back-1):\n",
        "\t\ta = dataset[i:(i+look_back), 0]\n",
        "\t\tdataX.append(a)\n",
        "\t\tdataY.append(dataset[i + look_back, 0])\n",
        "\treturn numpy.array(dataX), numpy.array(dataY)\n",
        "\n",
        "# fix random seed for reproducibility\n",
        "numpy.random.seed(7)\n",
        "\n",
        "# load the dataset\n",
        "dataframe = read_csv('https://raw.githubusercontent.com/jbrownlee/Datasets/master/airline-passengers.csv', usecols=[1], engine='python')\n",
        "dataset = dataframe.values\n",
        "dataset = dataset.astype('float32')\n",
        "\n",
        "# normalize the dataset\n",
        "scaler = MinMaxScaler(feature_range=(0, 1))\n",
        "dataset = scaler.fit_transform(dataset)\n",
        "\n",
        "# split into train and test sets\n",
        "train_size = int(len(dataset) * 0.67)\n",
        "test_size = len(dataset) - train_size\n",
        "train, test = dataset[0:train_size,:], dataset[train_size:len(dataset),:]\n",
        "\n",
        "# reshape into X=t and Y=t+1\n",
        "look_back = 1\n",
        "trainX, trainY = create_dataset(train, look_back)\n",
        "testX, testY = create_dataset(test, look_back)\n",
        "\n",
        "# reshape input to be [samples, time steps, features]\n",
        "trainX = numpy.reshape(trainX, (trainX.shape[0], 1, trainX.shape[1]))\n",
        "testX = numpy.reshape(testX, (testX.shape[0], 1, testX.shape[1]))\n",
        "\n",
        "# create and fit the LSTM network\n",
        "# Using Memory Between Batches\n",
        "batch_size = 1\n",
        "model = Sequential()\n",
        "model.add(LSTM(4, batch_input_shape=(batch_size, look_back, 1), stateful=True))\n",
        "model.add(Dense(1))\n",
        "model.compile(loss='mean_squared_error', optimizer='adam')\n",
        "for i in range(100):\n",
        "\tmodel.fit(trainX, trainY, epochs=1, batch_size=batch_size, verbose=2, shuffle=False)\n",
        "\tmodel.reset_states()\n",
        "\n",
        "# make predictions\n",
        "trainPredict = model.predict(trainX, batch_size=batch_size)\n",
        "model.reset_states()\n",
        "testPredict = model.predict(testX, batch_size=batch_size)\n",
        "\n",
        "# invert predictions\n",
        "trainPredict = scaler.inverse_transform(trainPredict)\n",
        "trainY = scaler.inverse_transform([trainY])\n",
        "testPredict = scaler.inverse_transform(testPredict)\n",
        "testY = scaler.inverse_transform([testY])\n",
        "\n",
        "# calculate root mean squared error\n",
        "trainScore = math.sqrt(mean_squared_error(trainY[0], trainPredict[:,0]))\n",
        "print('Train Score: %.2f RMSE' % (trainScore))\n",
        "testScore = math.sqrt(mean_squared_error(testY[0], testPredict[:,0]))\n",
        "print('Test Score: %.2f RMSE' % (testScore))\n",
        "\n",
        "# shift train predictions for plotting\n",
        "trainPredictPlot = numpy.empty_like(dataset)\n",
        "trainPredictPlot[:, :] = numpy.nan\n",
        "trainPredictPlot[look_back:len(trainPredict)+look_back, :] = trainPredict\n",
        "\n",
        "# shift test predictions for plotting\n",
        "testPredictPlot = numpy.empty_like(dataset)\n",
        "testPredictPlot[:, :] = numpy.nan\n",
        "testPredictPlot[len(trainPredict)+(look_back*2)+1:len(dataset)-1, :] = testPredict\n",
        "\n",
        "# plot baseline and predictions\n",
        "plt.plot(scaler.inverse_transform(dataset))\n",
        "plt.plot(trainPredictPlot)\n",
        "plt.plot(testPredictPlot)\n",
        "plt.show()"
      ],
      "execution_count": 117,
      "outputs": [
        {
          "output_type": "stream",
          "text": [
            "94/94 - 2s - loss: 0.0055\n",
            "94/94 - 0s - loss: 0.0109\n",
            "94/94 - 0s - loss: 0.0073\n",
            "94/94 - 0s - loss: 0.0057\n",
            "94/94 - 0s - loss: 0.0047\n",
            "94/94 - 0s - loss: 0.0041\n",
            "94/94 - 0s - loss: 0.0038\n",
            "94/94 - 0s - loss: 0.0037\n",
            "94/94 - 0s - loss: 0.0037\n",
            "94/94 - 0s - loss: 0.0037\n",
            "94/94 - 0s - loss: 0.0037\n",
            "94/94 - 0s - loss: 0.0037\n",
            "94/94 - 0s - loss: 0.0037\n",
            "94/94 - 0s - loss: 0.0037\n",
            "94/94 - 0s - loss: 0.0036\n",
            "94/94 - 0s - loss: 0.0036\n",
            "94/94 - 0s - loss: 0.0036\n",
            "94/94 - 0s - loss: 0.0036\n",
            "94/94 - 0s - loss: 0.0036\n",
            "94/94 - 0s - loss: 0.0036\n",
            "94/94 - 0s - loss: 0.0035\n",
            "94/94 - 0s - loss: 0.0035\n",
            "94/94 - 0s - loss: 0.0035\n",
            "94/94 - 0s - loss: 0.0035\n",
            "94/94 - 0s - loss: 0.0034\n",
            "94/94 - 0s - loss: 0.0034\n",
            "94/94 - 0s - loss: 0.0034\n",
            "94/94 - 0s - loss: 0.0033\n",
            "94/94 - 0s - loss: 0.0033\n",
            "94/94 - 0s - loss: 0.0032\n",
            "94/94 - 0s - loss: 0.0032\n",
            "94/94 - 0s - loss: 0.0031\n",
            "94/94 - 0s - loss: 0.0031\n",
            "94/94 - 0s - loss: 0.0030\n",
            "94/94 - 0s - loss: 0.0030\n",
            "94/94 - 0s - loss: 0.0029\n",
            "94/94 - 0s - loss: 0.0029\n",
            "94/94 - 0s - loss: 0.0028\n",
            "94/94 - 0s - loss: 0.0027\n",
            "94/94 - 0s - loss: 0.0027\n",
            "94/94 - 0s - loss: 0.0026\n",
            "94/94 - 0s - loss: 0.0026\n",
            "94/94 - 0s - loss: 0.0025\n",
            "94/94 - 0s - loss: 0.0025\n",
            "94/94 - 0s - loss: 0.0024\n",
            "94/94 - 0s - loss: 0.0024\n",
            "94/94 - 0s - loss: 0.0023\n",
            "94/94 - 0s - loss: 0.0023\n",
            "94/94 - 0s - loss: 0.0022\n",
            "94/94 - 0s - loss: 0.0022\n",
            "94/94 - 0s - loss: 0.0021\n",
            "94/94 - 0s - loss: 0.0021\n",
            "94/94 - 0s - loss: 0.0021\n",
            "94/94 - 0s - loss: 0.0020\n",
            "94/94 - 0s - loss: 0.0020\n",
            "94/94 - 0s - loss: 0.0020\n",
            "94/94 - 0s - loss: 0.0019\n",
            "94/94 - 0s - loss: 0.0019\n",
            "94/94 - 0s - loss: 0.0019\n",
            "94/94 - 0s - loss: 0.0019\n",
            "94/94 - 0s - loss: 0.0019\n",
            "94/94 - 0s - loss: 0.0018\n",
            "94/94 - 0s - loss: 0.0018\n",
            "94/94 - 0s - loss: 0.0018\n",
            "94/94 - 0s - loss: 0.0018\n",
            "94/94 - 0s - loss: 0.0018\n",
            "94/94 - 0s - loss: 0.0017\n",
            "94/94 - 0s - loss: 0.0017\n",
            "94/94 - 0s - loss: 0.0017\n",
            "94/94 - 0s - loss: 0.0017\n",
            "94/94 - 0s - loss: 0.0017\n",
            "94/94 - 0s - loss: 0.0017\n",
            "94/94 - 0s - loss: 0.0017\n",
            "94/94 - 0s - loss: 0.0017\n",
            "94/94 - 0s - loss: 0.0017\n",
            "94/94 - 0s - loss: 0.0017\n",
            "94/94 - 0s - loss: 0.0016\n",
            "94/94 - 0s - loss: 0.0016\n",
            "94/94 - 0s - loss: 0.0016\n",
            "94/94 - 0s - loss: 0.0016\n",
            "94/94 - 0s - loss: 0.0016\n",
            "94/94 - 0s - loss: 0.0016\n",
            "94/94 - 0s - loss: 0.0016\n",
            "94/94 - 0s - loss: 0.0016\n",
            "94/94 - 0s - loss: 0.0016\n",
            "94/94 - 0s - loss: 0.0016\n",
            "94/94 - 0s - loss: 0.0016\n",
            "94/94 - 0s - loss: 0.0016\n",
            "94/94 - 0s - loss: 0.0016\n",
            "94/94 - 0s - loss: 0.0016\n",
            "94/94 - 0s - loss: 0.0016\n",
            "94/94 - 0s - loss: 0.0016\n",
            "94/94 - 0s - loss: 0.0016\n",
            "94/94 - 0s - loss: 0.0016\n",
            "94/94 - 0s - loss: 0.0016\n",
            "94/94 - 0s - loss: 0.0016\n",
            "94/94 - 0s - loss: 0.0016\n",
            "94/94 - 0s - loss: 0.0016\n",
            "94/94 - 0s - loss: 0.0016\n",
            "94/94 - 0s - loss: 0.0016\n",
            "Train Score: 20.82 RMSE\n",
            "Test Score: 53.40 RMSE\n"
          ],
          "name": "stdout"
        },
        {
          "output_type": "display_data",
          "data": {
            "image/png": "[encoded data removed]",
            "text/plain": [
              "<Figure size 432x288 with 1 Axes>"
            ]
          },
          "metadata": {
            "tags": [],
            "needs_background": "light"
          }
        }
      ]
    }
  ]
}